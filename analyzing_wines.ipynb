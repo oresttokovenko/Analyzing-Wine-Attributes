{
 "cells": [
  {
   "cell_type": "code",
   "metadata": {
    "tags": [],
    "cell_id": "00000-cfdee38d-ddfa-4a27-87d1-4ccdacc5777e",
    "deepnote_to_be_reexecuted": false,
    "source_hash": "b3054ec9",
    "execution_millis": 190,
    "execution_start": 1611864739726,
    "deepnote_cell_type": "code"
   },
   "source": [
    "import pandas as pd\n",
    "import numpy as np\n",
    "import matplotlib.pyplot as plt\n",
    "from sklearn.model_selection import train_test_split\n",
    "from sklearn.linear_model import LogisticRegression\n",
    "from sklearn.neighbors import KNeighborsClassifier\n",
    "from sklearn.model_selection import cross_val_score\n",
    "%matplotlib inline"
   ],
   "execution_count": 165,
   "outputs": []
  },
  {
   "cell_type": "code",
   "source": [
    "df = pd.read_csv('wines_merged.csv')"
   ],
   "metadata": {
    "tags": [],
    "cell_id": "00001-78038f6e-79af-4a16-a6c9-55196fa7c081",
    "deepnote_to_be_reexecuted": false,
    "source_hash": "f9021f50",
    "execution_millis": 10,
    "execution_start": 1611864757330,
    "deepnote_cell_type": "code"
   },
   "outputs": [],
   "execution_count": 167
  },
  {
   "cell_type": "code",
   "source": [
    "df.head()"
   ],
   "metadata": {
    "tags": [],
    "cell_id": "00002-61223fdf-30ae-4c7a-b9ca-4cfc60ba52af",
    "deepnote_to_be_reexecuted": false,
    "source_hash": "c085b6ba",
    "execution_millis": 4,
    "execution_start": 1611864757558,
    "deepnote_cell_type": "code"
   },
   "outputs": [
    {
     "output_type": "execute_result",
     "execution_count": 168,
     "data": {
      "application/vnd.deepnote.dataframe.v2+json": {
       "row_count": 5,
       "column_count": 13,
       "columns": [
        {
         "name": "fixed acidity",
         "dtype": "float64",
         "stats": {
          "unique_count": 3,
          "nan_count": 0,
          "min": 7.4,
          "max": 11.2,
          "histogram": [
           {
            "bin_start": 7.4,
            "bin_end": 7.78,
            "count": 2
           },
           {
            "bin_start": 7.78,
            "bin_end": 8.16,
            "count": 2
           },
           {
            "bin_start": 8.16,
            "bin_end": 8.54,
            "count": 0
           },
           {
            "bin_start": 8.54,
            "bin_end": 8.92,
            "count": 0
           },
           {
            "bin_start": 8.92,
            "bin_end": 9.3,
            "count": 0
           },
           {
            "bin_start": 9.3,
            "bin_end": 9.68,
            "count": 0
           },
           {
            "bin_start": 9.68,
            "bin_end": 10.059999999999999,
            "count": 0
           },
           {
            "bin_start": 10.059999999999999,
            "bin_end": 10.44,
            "count": 0
           },
           {
            "bin_start": 10.44,
            "bin_end": 10.82,
            "count": 0
           },
           {
            "bin_start": 10.82,
            "bin_end": 11.2,
            "count": 1
           }
          ]
         }
        },
        {
         "name": "volatile acidity",
         "dtype": "float64",
         "stats": {
          "unique_count": 4,
          "nan_count": 0,
          "min": 0.28,
          "max": 0.88,
          "histogram": [
           {
            "bin_start": 0.28,
            "bin_end": 0.34,
            "count": 1
           },
           {
            "bin_start": 0.34,
            "bin_end": 0.4,
            "count": 0
           },
           {
            "bin_start": 0.4,
            "bin_end": 0.46,
            "count": 0
           },
           {
            "bin_start": 0.46,
            "bin_end": 0.52,
            "count": 0
           },
           {
            "bin_start": 0.52,
            "bin_end": 0.5800000000000001,
            "count": 0
           },
           {
            "bin_start": 0.5800000000000001,
            "bin_end": 0.64,
            "count": 0
           },
           {
            "bin_start": 0.64,
            "bin_end": 0.7,
            "count": 0
           },
           {
            "bin_start": 0.7,
            "bin_end": 0.76,
            "count": 2
           },
           {
            "bin_start": 0.76,
            "bin_end": 0.8200000000000001,
            "count": 1
           },
           {
            "bin_start": 0.8200000000000001,
            "bin_end": 0.88,
            "count": 1
           }
          ]
         }
        },
        {
         "name": "citric acid",
         "dtype": "float64",
         "stats": {
          "unique_count": 3,
          "nan_count": 0,
          "min": 0,
          "max": 0.56,
          "histogram": [
           {
            "bin_start": 0,
            "bin_end": 0.05600000000000001,
            "count": 4
           },
           {
            "bin_start": 0.05600000000000001,
            "bin_end": 0.11200000000000002,
            "count": 0
           },
           {
            "bin_start": 0.11200000000000002,
            "bin_end": 0.16800000000000004,
            "count": 0
           },
           {
            "bin_start": 0.16800000000000004,
            "bin_end": 0.22400000000000003,
            "count": 0
           },
           {
            "bin_start": 0.22400000000000003,
            "bin_end": 0.28,
            "count": 0
           },
           {
            "bin_start": 0.28,
            "bin_end": 0.3360000000000001,
            "count": 0
           },
           {
            "bin_start": 0.3360000000000001,
            "bin_end": 0.39200000000000007,
            "count": 0
           },
           {
            "bin_start": 0.39200000000000007,
            "bin_end": 0.44800000000000006,
            "count": 0
           },
           {
            "bin_start": 0.44800000000000006,
            "bin_end": 0.5040000000000001,
            "count": 0
           },
           {
            "bin_start": 0.5040000000000001,
            "bin_end": 0.56,
            "count": 1
           }
          ]
         }
        },
        {
         "name": "residual sugar",
         "dtype": "float64",
         "stats": {
          "unique_count": 3,
          "nan_count": 0,
          "min": 1.9,
          "max": 2.6,
          "histogram": [
           {
            "bin_start": 1.9,
            "bin_end": 1.97,
            "count": 3
           },
           {
            "bin_start": 1.97,
            "bin_end": 2.04,
            "count": 0
           },
           {
            "bin_start": 2.04,
            "bin_end": 2.11,
            "count": 0
           },
           {
            "bin_start": 2.11,
            "bin_end": 2.18,
            "count": 0
           },
           {
            "bin_start": 2.18,
            "bin_end": 2.25,
            "count": 0
           },
           {
            "bin_start": 2.25,
            "bin_end": 2.3200000000000003,
            "count": 1
           },
           {
            "bin_start": 2.3200000000000003,
            "bin_end": 2.39,
            "count": 0
           },
           {
            "bin_start": 2.39,
            "bin_end": 2.46,
            "count": 0
           },
           {
            "bin_start": 2.46,
            "bin_end": 2.5300000000000002,
            "count": 0
           },
           {
            "bin_start": 2.5300000000000002,
            "bin_end": 2.6,
            "count": 1
           }
          ]
         }
        },
        {
         "name": "chlorides",
         "dtype": "float64",
         "stats": {
          "unique_count": 4,
          "nan_count": 0,
          "min": 0.075,
          "max": 0.098,
          "histogram": [
           {
            "bin_start": 0.075,
            "bin_end": 0.0773,
            "count": 3
           },
           {
            "bin_start": 0.0773,
            "bin_end": 0.0796,
            "count": 0
           },
           {
            "bin_start": 0.0796,
            "bin_end": 0.0819,
            "count": 0
           },
           {
            "bin_start": 0.0819,
            "bin_end": 0.0842,
            "count": 0
           },
           {
            "bin_start": 0.0842,
            "bin_end": 0.0865,
            "count": 0
           },
           {
            "bin_start": 0.0865,
            "bin_end": 0.0888,
            "count": 0
           },
           {
            "bin_start": 0.0888,
            "bin_end": 0.0911,
            "count": 0
           },
           {
            "bin_start": 0.0911,
            "bin_end": 0.09340000000000001,
            "count": 1
           },
           {
            "bin_start": 0.09340000000000001,
            "bin_end": 0.09570000000000001,
            "count": 0
           },
           {
            "bin_start": 0.09570000000000001,
            "bin_end": 0.098,
            "count": 1
           }
          ]
         }
        },
        {
         "name": "free sulfur dioxide",
         "dtype": "float64",
         "stats": {
          "unique_count": 4,
          "nan_count": 0,
          "min": 11,
          "max": 25,
          "histogram": [
           {
            "bin_start": 11,
            "bin_end": 12.4,
            "count": 2
           },
           {
            "bin_start": 12.4,
            "bin_end": 13.8,
            "count": 0
           },
           {
            "bin_start": 13.8,
            "bin_end": 15.2,
            "count": 1
           },
           {
            "bin_start": 15.2,
            "bin_end": 16.6,
            "count": 0
           },
           {
            "bin_start": 16.6,
            "bin_end": 18,
            "count": 1
           },
           {
            "bin_start": 18,
            "bin_end": 19.4,
            "count": 0
           },
           {
            "bin_start": 19.4,
            "bin_end": 20.799999999999997,
            "count": 0
           },
           {
            "bin_start": 20.799999999999997,
            "bin_end": 22.2,
            "count": 0
           },
           {
            "bin_start": 22.2,
            "bin_end": 23.6,
            "count": 0
           },
           {
            "bin_start": 23.6,
            "bin_end": 25,
            "count": 1
           }
          ]
         }
        },
        {
         "name": "total sulfur dioxide",
         "dtype": "float64",
         "stats": {
          "unique_count": 4,
          "nan_count": 0,
          "min": 34,
          "max": 67,
          "histogram": [
           {
            "bin_start": 34,
            "bin_end": 37.3,
            "count": 2
           },
           {
            "bin_start": 37.3,
            "bin_end": 40.6,
            "count": 0
           },
           {
            "bin_start": 40.6,
            "bin_end": 43.9,
            "count": 0
           },
           {
            "bin_start": 43.9,
            "bin_end": 47.2,
            "count": 0
           },
           {
            "bin_start": 47.2,
            "bin_end": 50.5,
            "count": 0
           },
           {
            "bin_start": 50.5,
            "bin_end": 53.8,
            "count": 0
           },
           {
            "bin_start": 53.8,
            "bin_end": 57.099999999999994,
            "count": 1
           },
           {
            "bin_start": 57.099999999999994,
            "bin_end": 60.4,
            "count": 1
           },
           {
            "bin_start": 60.4,
            "bin_end": 63.7,
            "count": 0
           },
           {
            "bin_start": 63.7,
            "bin_end": 67,
            "count": 1
           }
          ]
         }
        },
        {
         "name": "density",
         "dtype": "float64",
         "stats": {
          "unique_count": 4,
          "nan_count": 0,
          "min": 0.9968,
          "max": 0.998,
          "histogram": [
           {
            "bin_start": 0.9968,
            "bin_end": 0.99692,
            "count": 1
           },
           {
            "bin_start": 0.99692,
            "bin_end": 0.99704,
            "count": 1
           },
           {
            "bin_start": 0.99704,
            "bin_end": 0.99716,
            "count": 0
           },
           {
            "bin_start": 0.99716,
            "bin_end": 0.99728,
            "count": 0
           },
           {
            "bin_start": 0.99728,
            "bin_end": 0.9974000000000001,
            "count": 0
           },
           {
            "bin_start": 0.9974000000000001,
            "bin_end": 0.99752,
            "count": 0
           },
           {
            "bin_start": 0.99752,
            "bin_end": 0.99764,
            "count": 0
           },
           {
            "bin_start": 0.99764,
            "bin_end": 0.99776,
            "count": 0
           },
           {
            "bin_start": 0.99776,
            "bin_end": 0.99788,
            "count": 2
           },
           {
            "bin_start": 0.99788,
            "bin_end": 0.998,
            "count": 1
           }
          ]
         }
        },
        {
         "name": "pH",
         "dtype": "float64",
         "stats": {
          "unique_count": 4,
          "nan_count": 0,
          "min": 3.16,
          "max": 3.51,
          "histogram": [
           {
            "bin_start": 3.16,
            "bin_end": 3.1950000000000003,
            "count": 1
           },
           {
            "bin_start": 3.1950000000000003,
            "bin_end": 3.23,
            "count": 1
           },
           {
            "bin_start": 3.23,
            "bin_end": 3.265,
            "count": 1
           },
           {
            "bin_start": 3.265,
            "bin_end": 3.3,
            "count": 0
           },
           {
            "bin_start": 3.3,
            "bin_end": 3.335,
            "count": 0
           },
           {
            "bin_start": 3.335,
            "bin_end": 3.37,
            "count": 0
           },
           {
            "bin_start": 3.37,
            "bin_end": 3.405,
            "count": 0
           },
           {
            "bin_start": 3.405,
            "bin_end": 3.44,
            "count": 0
           },
           {
            "bin_start": 3.44,
            "bin_end": 3.4749999999999996,
            "count": 0
           },
           {
            "bin_start": 3.4749999999999996,
            "bin_end": 3.51,
            "count": 2
           }
          ]
         }
        },
        {
         "name": "sulphates",
         "dtype": "float64",
         "stats": {
          "unique_count": 4,
          "nan_count": 0,
          "min": 0.56,
          "max": 0.68,
          "histogram": [
           {
            "bin_start": 0.56,
            "bin_end": 0.5720000000000001,
            "count": 2
           },
           {
            "bin_start": 0.5720000000000001,
            "bin_end": 0.5840000000000001,
            "count": 1
           },
           {
            "bin_start": 0.5840000000000001,
            "bin_end": 0.5960000000000001,
            "count": 0
           },
           {
            "bin_start": 0.5960000000000001,
            "bin_end": 0.6080000000000001,
            "count": 0
           },
           {
            "bin_start": 0.6080000000000001,
            "bin_end": 0.6200000000000001,
            "count": 0
           },
           {
            "bin_start": 0.6200000000000001,
            "bin_end": 0.6320000000000001,
            "count": 0
           },
           {
            "bin_start": 0.6320000000000001,
            "bin_end": 0.644,
            "count": 0
           },
           {
            "bin_start": 0.644,
            "bin_end": 0.656,
            "count": 1
           },
           {
            "bin_start": 0.656,
            "bin_end": 0.668,
            "count": 0
           },
           {
            "bin_start": 0.668,
            "bin_end": 0.68,
            "count": 1
           }
          ]
         }
        },
        {
         "name": "alcohol",
         "dtype": "float64",
         "stats": {
          "unique_count": 2,
          "nan_count": 0,
          "min": 9.4,
          "max": 9.8,
          "histogram": [
           {
            "bin_start": 9.4,
            "bin_end": 9.440000000000001,
            "count": 2
           },
           {
            "bin_start": 9.440000000000001,
            "bin_end": 9.48,
            "count": 0
           },
           {
            "bin_start": 9.48,
            "bin_end": 9.52,
            "count": 0
           },
           {
            "bin_start": 9.52,
            "bin_end": 9.56,
            "count": 0
           },
           {
            "bin_start": 9.56,
            "bin_end": 9.600000000000001,
            "count": 0
           },
           {
            "bin_start": 9.600000000000001,
            "bin_end": 9.64,
            "count": 0
           },
           {
            "bin_start": 9.64,
            "bin_end": 9.68,
            "count": 0
           },
           {
            "bin_start": 9.68,
            "bin_end": 9.72,
            "count": 0
           },
           {
            "bin_start": 9.72,
            "bin_end": 9.760000000000002,
            "count": 0
           },
           {
            "bin_start": 9.760000000000002,
            "bin_end": 9.8,
            "count": 3
           }
          ]
         }
        },
        {
         "name": "quality",
         "dtype": "int64",
         "stats": {
          "unique_count": 2,
          "nan_count": 0,
          "min": 5,
          "max": 6,
          "histogram": [
           {
            "bin_start": 5,
            "bin_end": 5.1,
            "count": 4
           },
           {
            "bin_start": 5.1,
            "bin_end": 5.2,
            "count": 0
           },
           {
            "bin_start": 5.2,
            "bin_end": 5.3,
            "count": 0
           },
           {
            "bin_start": 5.3,
            "bin_end": 5.4,
            "count": 0
           },
           {
            "bin_start": 5.4,
            "bin_end": 5.5,
            "count": 0
           },
           {
            "bin_start": 5.5,
            "bin_end": 5.6,
            "count": 0
           },
           {
            "bin_start": 5.6,
            "bin_end": 5.7,
            "count": 0
           },
           {
            "bin_start": 5.7,
            "bin_end": 5.8,
            "count": 0
           },
           {
            "bin_start": 5.8,
            "bin_end": 5.9,
            "count": 0
           },
           {
            "bin_start": 5.9,
            "bin_end": 6,
            "count": 1
           }
          ]
         }
        },
        {
         "name": "color",
         "dtype": "object",
         "stats": {
          "unique_count": 1,
          "nan_count": 0,
          "categories": [
           {
            "name": "red",
            "count": 5
           }
          ]
         }
        },
        {
         "name": "_deepnote_index_column",
         "dtype": "int64"
        }
       ],
       "rows_top": [
        {
         "fixed acidity": 7.4,
         "volatile acidity": 0.7,
         "citric acid": 0,
         "residual sugar": 1.9,
         "chlorides": 0.076,
         "free sulfur dioxide": 11,
         "total sulfur dioxide": 34,
         "density": 0.9978,
         "pH": 3.51,
         "sulphates": 0.56,
         "alcohol": 9.4,
         "quality": 5,
         "color": "red",
         "_deepnote_index_column": 0
        },
        {
         "fixed acidity": 7.8,
         "volatile acidity": 0.88,
         "citric acid": 0,
         "residual sugar": 2.6,
         "chlorides": 0.098,
         "free sulfur dioxide": 25,
         "total sulfur dioxide": 67,
         "density": 0.9968,
         "pH": 3.2,
         "sulphates": 0.68,
         "alcohol": 9.8,
         "quality": 5,
         "color": "red",
         "_deepnote_index_column": 1
        },
        {
         "fixed acidity": 7.8,
         "volatile acidity": 0.76,
         "citric acid": 0.04,
         "residual sugar": 2.3,
         "chlorides": 0.092,
         "free sulfur dioxide": 15,
         "total sulfur dioxide": 54,
         "density": 0.997,
         "pH": 3.26,
         "sulphates": 0.65,
         "alcohol": 9.8,
         "quality": 5,
         "color": "red",
         "_deepnote_index_column": 2
        },
        {
         "fixed acidity": 11.2,
         "volatile acidity": 0.28,
         "citric acid": 0.56,
         "residual sugar": 1.9,
         "chlorides": 0.075,
         "free sulfur dioxide": 17,
         "total sulfur dioxide": 60,
         "density": 0.998,
         "pH": 3.16,
         "sulphates": 0.58,
         "alcohol": 9.8,
         "quality": 6,
         "color": "red",
         "_deepnote_index_column": 3
        },
        {
         "fixed acidity": 7.4,
         "volatile acidity": 0.7,
         "citric acid": 0,
         "residual sugar": 1.9,
         "chlorides": 0.076,
         "free sulfur dioxide": 11,
         "total sulfur dioxide": 34,
         "density": 0.9978,
         "pH": 3.51,
         "sulphates": 0.56,
         "alcohol": 9.4,
         "quality": 5,
         "color": "red",
         "_deepnote_index_column": 4
        }
       ],
       "rows_bottom": null
      },
      "text/plain": "   fixed acidity  volatile acidity  citric acid  residual sugar  chlorides  \\\n0            7.4              0.70         0.00             1.9      0.076   \n1            7.8              0.88         0.00             2.6      0.098   \n2            7.8              0.76         0.04             2.3      0.092   \n3           11.2              0.28         0.56             1.9      0.075   \n4            7.4              0.70         0.00             1.9      0.076   \n\n   free sulfur dioxide  total sulfur dioxide  density    pH  sulphates  \\\n0                 11.0                  34.0   0.9978  3.51       0.56   \n1                 25.0                  67.0   0.9968  3.20       0.68   \n2                 15.0                  54.0   0.9970  3.26       0.65   \n3                 17.0                  60.0   0.9980  3.16       0.58   \n4                 11.0                  34.0   0.9978  3.51       0.56   \n\n   alcohol  quality color  \n0      9.4        5   red  \n1      9.8        5   red  \n2      9.8        5   red  \n3      9.8        6   red  \n4      9.4        5   red  ",
      "text/html": "<div>\n<style scoped>\n    .dataframe tbody tr th:only-of-type {\n        vertical-align: middle;\n    }\n\n    .dataframe tbody tr th {\n        vertical-align: top;\n    }\n\n    .dataframe thead th {\n        text-align: right;\n    }\n</style>\n<table border=\"1\" class=\"dataframe\">\n  <thead>\n    <tr style=\"text-align: right;\">\n      <th></th>\n      <th>fixed acidity</th>\n      <th>volatile acidity</th>\n      <th>citric acid</th>\n      <th>residual sugar</th>\n      <th>chlorides</th>\n      <th>free sulfur dioxide</th>\n      <th>total sulfur dioxide</th>\n      <th>density</th>\n      <th>pH</th>\n      <th>sulphates</th>\n      <th>alcohol</th>\n      <th>quality</th>\n      <th>color</th>\n    </tr>\n  </thead>\n  <tbody>\n    <tr>\n      <th>0</th>\n      <td>7.4</td>\n      <td>0.70</td>\n      <td>0.00</td>\n      <td>1.9</td>\n      <td>0.076</td>\n      <td>11.0</td>\n      <td>34.0</td>\n      <td>0.9978</td>\n      <td>3.51</td>\n      <td>0.56</td>\n      <td>9.4</td>\n      <td>5</td>\n      <td>red</td>\n    </tr>\n    <tr>\n      <th>1</th>\n      <td>7.8</td>\n      <td>0.88</td>\n      <td>0.00</td>\n      <td>2.6</td>\n      <td>0.098</td>\n      <td>25.0</td>\n      <td>67.0</td>\n      <td>0.9968</td>\n      <td>3.20</td>\n      <td>0.68</td>\n      <td>9.8</td>\n      <td>5</td>\n      <td>red</td>\n    </tr>\n    <tr>\n      <th>2</th>\n      <td>7.8</td>\n      <td>0.76</td>\n      <td>0.04</td>\n      <td>2.3</td>\n      <td>0.092</td>\n      <td>15.0</td>\n      <td>54.0</td>\n      <td>0.9970</td>\n      <td>3.26</td>\n      <td>0.65</td>\n      <td>9.8</td>\n      <td>5</td>\n      <td>red</td>\n    </tr>\n    <tr>\n      <th>3</th>\n      <td>11.2</td>\n      <td>0.28</td>\n      <td>0.56</td>\n      <td>1.9</td>\n      <td>0.075</td>\n      <td>17.0</td>\n      <td>60.0</td>\n      <td>0.9980</td>\n      <td>3.16</td>\n      <td>0.58</td>\n      <td>9.8</td>\n      <td>6</td>\n      <td>red</td>\n    </tr>\n    <tr>\n      <th>4</th>\n      <td>7.4</td>\n      <td>0.70</td>\n      <td>0.00</td>\n      <td>1.9</td>\n      <td>0.076</td>\n      <td>11.0</td>\n      <td>34.0</td>\n      <td>0.9978</td>\n      <td>3.51</td>\n      <td>0.56</td>\n      <td>9.4</td>\n      <td>5</td>\n      <td>red</td>\n    </tr>\n  </tbody>\n</table>\n</div>"
     },
     "metadata": {}
    }
   ],
   "execution_count": 168
  },
  {
   "cell_type": "code",
   "source": [
    "df.hist(bins=50,figsize=(20,15))"
   ],
   "metadata": {
    "tags": [],
    "cell_id": "00003-cb467581-146f-4d6b-b2da-a9bc3e8cf760",
    "deepnote_to_be_reexecuted": false,
    "source_hash": "3cf378bd",
    "execution_millis": 2557,
    "execution_start": 1611864757727,
    "deepnote_cell_type": "code"
   },
   "outputs": [
    {
     "output_type": "execute_result",
     "execution_count": 169,
     "data": {
      "text/plain": "array([[<AxesSubplot:title={'center':'fixed acidity'}>,\n        <AxesSubplot:title={'center':'volatile acidity'}>,\n        <AxesSubplot:title={'center':'citric acid'}>],\n       [<AxesSubplot:title={'center':'residual sugar'}>,\n        <AxesSubplot:title={'center':'chlorides'}>,\n        <AxesSubplot:title={'center':'free sulfur dioxide'}>],\n       [<AxesSubplot:title={'center':'total sulfur dioxide'}>,\n        <AxesSubplot:title={'center':'density'}>,\n        <AxesSubplot:title={'center':'pH'}>],\n       [<AxesSubplot:title={'center':'sulphates'}>,\n        <AxesSubplot:title={'center':'alcohol'}>,\n        <AxesSubplot:title={'center':'quality'}>]], dtype=object)"
     },
     "metadata": {}
    },
    {
     "data": {
      "text/plain": "<Figure size 1440x1080 with 12 Axes>",
      "image/png": "[encoded data removed]"
     },
     "metadata": {
      "needs_background": "light"
     },
     "output_type": "display_data"
    }
   ],
   "execution_count": 169
  },
  {
   "cell_type": "code",
   "source": [
    "def log_transform(col):\n",
    "    return np.log(col[0])\n",
    "\n",
    "df['residual sugar'] = df[['residual sugar']].apply(log_transform, axis=1)\n",
    "df['chlorides'] = df[['chlorides']].apply(log_transform, axis=1)\n",
    "df['free sulfur dioxide'] = df[['free sulfur dioxide']].apply(log_transform, axis=1)\n",
    "df['total sulfur dioxide'] = df[['total sulfur dioxide']].apply(log_transform, axis=1)\n",
    "df['sulphates'] = df[['sulphates']].apply(log_transform, axis=1)"
   ],
   "metadata": {
    "tags": [],
    "cell_id": "00005-ec2f3d78-98af-4b1a-9a9e-45646ad7e9c6",
    "deepnote_to_be_reexecuted": false,
    "source_hash": "f91de9c2",
    "execution_millis": 228,
    "execution_start": 1611864760358,
    "deepnote_cell_type": "code"
   },
   "outputs": [],
   "execution_count": 170
  },
  {
   "cell_type": "code",
   "source": [
    "df.corr()['quality'].sort_values(ascending=False)"
   ],
   "metadata": {
    "tags": [],
    "cell_id": "00006-28853f84-6f3d-4d25-ba74-369ecf50a6f0",
    "deepnote_to_be_reexecuted": false,
    "source_hash": "de5d1ebf",
    "execution_millis": 12,
    "execution_start": 1611864760588,
    "deepnote_cell_type": "code"
   },
   "outputs": [
    {
     "output_type": "execute_result",
     "execution_count": 171,
     "data": {
      "text/plain": "quality                 1.000000\nalcohol                 0.444319\nfree sulfur dioxide     0.113564\ncitric acid             0.085532\nsulphates               0.027437\npH                      0.019506\ntotal sulfur dioxide    0.009365\nresidual sugar         -0.012986\nfixed acidity          -0.076743\nvolatile acidity       -0.265699\nchlorides              -0.267391\ndensity                -0.305858\nName: quality, dtype: float64"
     },
     "metadata": {}
    }
   ],
   "execution_count": 171
  },
  {
   "cell_type": "code",
   "source": [
    "plt.figure(figsize = (20,10))\n",
    "sns.heatmap(df.corr(), vmin=-1, vmax=1, cmap='coolwarm',annot=True)"
   ],
   "metadata": {
    "tags": [],
    "cell_id": "00007-39a7c5a1-d78d-4248-985d-04f6f80d401e",
    "deepnote_to_be_reexecuted": false,
    "source_hash": "5c169ead",
    "execution_millis": 1676,
    "execution_start": 1611864760602,
    "deepnote_cell_type": "code"
   },
   "outputs": [
    {
     "output_type": "execute_result",
     "execution_count": 172,
     "data": {
      "text/plain": "<AxesSubplot:>"
     },
     "metadata": {}
    },
    {
     "data": {
      "text/plain": "<Figure size 1440x720 with 2 Axes>",
      "image/png": "[encoded data removed]"
     },
     "metadata": {
      "needs_background": "light"
     },
     "output_type": "display_data"
    }
   ],
   "execution_count": 172
  },
  {
   "cell_type": "code",
   "source": [
    "fig, ax1 = plt.subplots(3,4, figsize=(22,16))\n",
    "k = 0\n",
    "columns = list(df.columns)\n",
    "for i in range(3):\n",
    "    for j in range(4):\n",
    "            sns.barplot(df['quality'], df[columns[k]], ax = ax1[i][j])\n",
    "            k += 1\n",
    "plt.show()"
   ],
   "metadata": {
    "tags": [],
    "cell_id": "00008-4c67fb2d-d0a6-41b3-8044-9c82d39bc179",
    "deepnote_to_be_reexecuted": false,
    "source_hash": "37284662",
    "execution_millis": 4262,
    "execution_start": 1611864762282,
    "deepnote_cell_type": "code"
   },
   "outputs": [
    {
     "name": "stderr",
     "text": "/shared-libs/python3.7/py/lib/python3.7/site-packages/seaborn/_decorators.py:43: FutureWarning: Pass the following variables as keyword args: x, y. From version 0.12, the only valid positional argument will be `data`, and passing other arguments without an explicit keyword will result in an error or misinterpretation.\n  FutureWarning\n/shared-libs/python3.7/py/lib/python3.7/site-packages/seaborn/_decorators.py:43: FutureWarning: Pass the following variables as keyword args: x, y. From version 0.12, the only valid positional argument will be `data`, and passing other arguments without an explicit keyword will result in an error or misinterpretation.\n  FutureWarning\n/shared-libs/python3.7/py/lib/python3.7/site-packages/seaborn/_decorators.py:43: FutureWarning: Pass the following variables as keyword args: x, y. From version 0.12, the only valid positional argument will be `data`, and passing other arguments without an explicit keyword will result in an error or misinterpretation.\n  FutureWarning\n/shared-libs/python3.7/py/lib/python3.7/site-packages/seaborn/_decorators.py:43: FutureWarning: Pass the following variables as keyword args: x, y. From version 0.12, the only valid positional argument will be `data`, and passing other arguments without an explicit keyword will result in an error or misinterpretation.\n  FutureWarning\n/shared-libs/python3.7/py/lib/python3.7/site-packages/seaborn/_decorators.py:43: FutureWarning: Pass the following variables as keyword args: x, y. From version 0.12, the only valid positional argument will be `data`, and passing other arguments without an explicit keyword will result in an error or misinterpretation.\n  FutureWarning\n/shared-libs/python3.7/py/lib/python3.7/site-packages/seaborn/_decorators.py:43: FutureWarning: Pass the following variables as keyword args: x, y. From version 0.12, the only valid positional argument will be `data`, and passing other arguments without an explicit keyword will result in an error or misinterpretation.\n  FutureWarning\n/shared-libs/python3.7/py/lib/python3.7/site-packages/seaborn/_decorators.py:43: FutureWarning: Pass the following variables as keyword args: x, y. From version 0.12, the only valid positional argument will be `data`, and passing other arguments without an explicit keyword will result in an error or misinterpretation.\n  FutureWarning\n/shared-libs/python3.7/py/lib/python3.7/site-packages/seaborn/_decorators.py:43: FutureWarning: Pass the following variables as keyword args: x, y. From version 0.12, the only valid positional argument will be `data`, and passing other arguments without an explicit keyword will result in an error or misinterpretation.\n  FutureWarning\n/shared-libs/python3.7/py/lib/python3.7/site-packages/seaborn/_decorators.py:43: FutureWarning: Pass the following variables as keyword args: x, y. From version 0.12, the only valid positional argument will be `data`, and passing other arguments without an explicit keyword will result in an error or misinterpretation.\n  FutureWarning\n/shared-libs/python3.7/py/lib/python3.7/site-packages/seaborn/_decorators.py:43: FutureWarning: Pass the following variables as keyword args: x, y. From version 0.12, the only valid positional argument will be `data`, and passing other arguments without an explicit keyword will result in an error or misinterpretation.\n  FutureWarning\n/shared-libs/python3.7/py/lib/python3.7/site-packages/seaborn/_decorators.py:43: FutureWarning: Pass the following variables as keyword args: x, y. From version 0.12, the only valid positional argument will be `data`, and passing other arguments without an explicit keyword will result in an error or misinterpretation.\n  FutureWarning\n/shared-libs/python3.7/py/lib/python3.7/site-packages/seaborn/_decorators.py:43: FutureWarning: Pass the following variables as keyword args: x, y. From version 0.12, the only valid positional argument will be `data`, and passing other arguments without an explicit keyword will result in an error or misinterpretation.\n  FutureWarning\n",
     "output_type": "stream"
    },
    {
     "data": {
      "text/plain": "<Figure size 1584x1152 with 12 Axes>",
      "image/png": "[encoded data removed]"
     },
     "metadata": {
      "needs_background": "light"
     },
     "output_type": "display_data"
    }
   ],
   "execution_count": 173
  },
  {
   "cell_type": "code",
   "source": [
    "sns.scatterplot('alcohol','volatile acidity',style='quality',data=df)"
   ],
   "metadata": {
    "tags": [],
    "cell_id": "00009-a960ed67-eae1-4236-a2d9-cc7f451bb509",
    "deepnote_to_be_reexecuted": false,
    "source_hash": "a5176b71",
    "execution_start": 1611866126418,
    "execution_millis": 325,
    "deepnote_cell_type": "code"
   },
   "outputs": [
    {
     "name": "stderr",
     "text": "/shared-libs/python3.7/py/lib/python3.7/site-packages/seaborn/_decorators.py:43: FutureWarning: Pass the following variables as keyword args: x, y. From version 0.12, the only valid positional argument will be `data`, and passing other arguments without an explicit keyword will result in an error or misinterpretation.\n  FutureWarning\n",
     "output_type": "stream"
    },
    {
     "output_type": "execute_result",
     "execution_count": 174,
     "data": {
      "text/plain": "<AxesSubplot:xlabel='alcohol', ylabel='volatile acidity'>"
     },
     "metadata": {}
    },
    {
     "data": {
      "text/plain": "<Figure size 432x288 with 1 Axes>",
      "image/png": "[encoded data removed]"
     },
     "metadata": {
      "needs_background": "light"
     },
     "output_type": "display_data"
    }
   ],
   "execution_count": 174
  },
  {
   "cell_type": "code",
   "source": [
    "# insight: Volatile acidity and alchohol have high correlations with the target variable."
   ],
   "metadata": {
    "tags": [],
    "cell_id": "00010-d31cdb2e-8388-4814-a746-2aca2c834783",
    "deepnote_to_be_reexecuted": false,
    "source_hash": "6f97626d",
    "execution_start": 1611866180903,
    "execution_millis": 0,
    "deepnote_cell_type": "code"
   },
   "outputs": [],
   "execution_count": 2
  },
  {
   "cell_type": "code",
   "source": [
    "# category wine color\n",
    "df['color'].replace({'white':0, 'red':1}, inplace=True)\n",
    "df.rename(columns={'color':'is_red_wine'}, inplace=True)"
   ],
   "metadata": {
    "tags": [],
    "cell_id": "00004-ff33f341-1dff-4430-bf92-a22f3f1ab736",
    "deepnote_to_be_reexecuted": false,
    "source_hash": "822163ac",
    "execution_millis": 0,
    "execution_start": 1611864373084,
    "deepnote_cell_type": "code"
   },
   "outputs": [],
   "execution_count": 162
  },
  {
   "cell_type": "code",
   "source": [
    "#df[\"quality\"]=np.where(df[\"quality\"]<6, 0, 1)\n",
    "df['quality'] = np.where(df['quality'] >=7, 1, 0)\n",
    "df.head()"
   ],
   "metadata": {
    "tags": [],
    "cell_id": "00010-ea6a80f4-b04f-4cb2-809e-0f0971d743cc",
    "deepnote_to_be_reexecuted": false,
    "source_hash": "e287f5af",
    "execution_millis": 37,
    "execution_start": 1611864374010,
    "deepnote_cell_type": "code"
   },
   "outputs": [
    {
     "output_type": "execute_result",
     "execution_count": 163,
     "data": {
      "application/vnd.deepnote.dataframe.v2+json": {
       "row_count": 5,
       "column_count": 13,
       "columns": [
        {
         "name": "fixed acidity",
         "dtype": "float64",
         "stats": {
          "unique_count": 3,
          "nan_count": 0,
          "min": 7.4,
          "max": 11.2,
          "histogram": [
           {
            "bin_start": 7.4,
            "bin_end": 7.78,
            "count": 2
           },
           {
            "bin_start": 7.78,
            "bin_end": 8.16,
            "count": 2
           },
           {
            "bin_start": 8.16,
            "bin_end": 8.54,
            "count": 0
           },
           {
            "bin_start": 8.54,
            "bin_end": 8.92,
            "count": 0
           },
           {
            "bin_start": 8.92,
            "bin_end": 9.3,
            "count": 0
           },
           {
            "bin_start": 9.3,
            "bin_end": 9.68,
            "count": 0
           },
           {
            "bin_start": 9.68,
            "bin_end": 10.059999999999999,
            "count": 0
           },
           {
            "bin_start": 10.059999999999999,
            "bin_end": 10.44,
            "count": 0
           },
           {
            "bin_start": 10.44,
            "bin_end": 10.82,
            "count": 0
           },
           {
            "bin_start": 10.82,
            "bin_end": 11.2,
            "count": 1
           }
          ]
         }
        },
        {
         "name": "volatile acidity",
         "dtype": "float64",
         "stats": {
          "unique_count": 4,
          "nan_count": 0,
          "min": 0.28,
          "max": 0.88,
          "histogram": [
           {
            "bin_start": 0.28,
            "bin_end": 0.34,
            "count": 1
           },
           {
            "bin_start": 0.34,
            "bin_end": 0.4,
            "count": 0
           },
           {
            "bin_start": 0.4,
            "bin_end": 0.46,
            "count": 0
           },
           {
            "bin_start": 0.46,
            "bin_end": 0.52,
            "count": 0
           },
           {
            "bin_start": 0.52,
            "bin_end": 0.5800000000000001,
            "count": 0
           },
           {
            "bin_start": 0.5800000000000001,
            "bin_end": 0.64,
            "count": 0
           },
           {
            "bin_start": 0.64,
            "bin_end": 0.7,
            "count": 0
           },
           {
            "bin_start": 0.7,
            "bin_end": 0.76,
            "count": 2
           },
           {
            "bin_start": 0.76,
            "bin_end": 0.8200000000000001,
            "count": 1
           },
           {
            "bin_start": 0.8200000000000001,
            "bin_end": 0.88,
            "count": 1
           }
          ]
         }
        },
        {
         "name": "citric acid",
         "dtype": "float64",
         "stats": {
          "unique_count": 3,
          "nan_count": 0,
          "min": 0,
          "max": 0.56,
          "histogram": [
           {
            "bin_start": 0,
            "bin_end": 0.05600000000000001,
            "count": 4
           },
           {
            "bin_start": 0.05600000000000001,
            "bin_end": 0.11200000000000002,
            "count": 0
           },
           {
            "bin_start": 0.11200000000000002,
            "bin_end": 0.16800000000000004,
            "count": 0
           },
           {
            "bin_start": 0.16800000000000004,
            "bin_end": 0.22400000000000003,
            "count": 0
           },
           {
            "bin_start": 0.22400000000000003,
            "bin_end": 0.28,
            "count": 0
           },
           {
            "bin_start": 0.28,
            "bin_end": 0.3360000000000001,
            "count": 0
           },
           {
            "bin_start": 0.3360000000000001,
            "bin_end": 0.39200000000000007,
            "count": 0
           },
           {
            "bin_start": 0.39200000000000007,
            "bin_end": 0.44800000000000006,
            "count": 0
           },
           {
            "bin_start": 0.44800000000000006,
            "bin_end": 0.5040000000000001,
            "count": 0
           },
           {
            "bin_start": 0.5040000000000001,
            "bin_end": 0.56,
            "count": 1
           }
          ]
         }
        },
        {
         "name": "residual sugar",
         "dtype": "float64",
         "stats": {
          "unique_count": 3,
          "nan_count": 0,
          "min": 0.6418538861723947,
          "max": 0.9555114450274363,
          "histogram": [
           {
            "bin_start": 0.6418538861723947,
            "bin_end": 0.6732196420578989,
            "count": 3
           },
           {
            "bin_start": 0.6732196420578989,
            "bin_end": 0.704585397943403,
            "count": 0
           },
           {
            "bin_start": 0.704585397943403,
            "bin_end": 0.7359511538289072,
            "count": 0
           },
           {
            "bin_start": 0.7359511538289072,
            "bin_end": 0.7673169097144114,
            "count": 0
           },
           {
            "bin_start": 0.7673169097144114,
            "bin_end": 0.7986826655999155,
            "count": 0
           },
           {
            "bin_start": 0.7986826655999155,
            "bin_end": 0.8300484214854197,
            "count": 0
           },
           {
            "bin_start": 0.8300484214854197,
            "bin_end": 0.8614141773709239,
            "count": 1
           },
           {
            "bin_start": 0.8614141773709239,
            "bin_end": 0.892779933256428,
            "count": 0
           },
           {
            "bin_start": 0.892779933256428,
            "bin_end": 0.9241456891419322,
            "count": 0
           },
           {
            "bin_start": 0.9241456891419322,
            "bin_end": 0.9555114450274363,
            "count": 1
           }
          ]
         }
        },
        {
         "name": "chlorides",
         "dtype": "float64",
         "stats": {
          "unique_count": 4,
          "nan_count": 0,
          "min": -2.5902671654458267,
          "max": -2.322787800311565,
          "histogram": [
           {
            "bin_start": -2.5902671654458267,
            "bin_end": -2.5635192289324005,
            "count": 3
           },
           {
            "bin_start": -2.5635192289324005,
            "bin_end": -2.5367712924189743,
            "count": 0
           },
           {
            "bin_start": -2.5367712924189743,
            "bin_end": -2.510023355905548,
            "count": 0
           },
           {
            "bin_start": -2.510023355905548,
            "bin_end": -2.483275419392122,
            "count": 0
           },
           {
            "bin_start": -2.483275419392122,
            "bin_end": -2.4565274828786956,
            "count": 0
           },
           {
            "bin_start": -2.4565274828786956,
            "bin_end": -2.42977954636527,
            "count": 0
           },
           {
            "bin_start": -2.42977954636527,
            "bin_end": -2.4030316098518436,
            "count": 0
           },
           {
            "bin_start": -2.4030316098518436,
            "bin_end": -2.3762836733384174,
            "count": 1
           },
           {
            "bin_start": -2.3762836733384174,
            "bin_end": -2.349535736824991,
            "count": 0
           },
           {
            "bin_start": -2.349535736824991,
            "bin_end": -2.322787800311565,
            "count": 1
           }
          ]
         }
        },
        {
         "name": "free sulfur dioxide",
         "dtype": "float64",
         "stats": {
          "unique_count": 4,
          "nan_count": 0,
          "min": 2.3978952727983707,
          "max": 3.2188758248682006,
          "histogram": [
           {
            "bin_start": 2.3978952727983707,
            "bin_end": 2.479993328005354,
            "count": 2
           },
           {
            "bin_start": 2.479993328005354,
            "bin_end": 2.5620913832123366,
            "count": 0
           },
           {
            "bin_start": 2.5620913832123366,
            "bin_end": 2.6441894384193194,
            "count": 0
           },
           {
            "bin_start": 2.6441894384193194,
            "bin_end": 2.7262874936263026,
            "count": 1
           },
           {
            "bin_start": 2.7262874936263026,
            "bin_end": 2.808385548833286,
            "count": 0
           },
           {
            "bin_start": 2.808385548833286,
            "bin_end": 2.8904836040402686,
            "count": 1
           },
           {
            "bin_start": 2.8904836040402686,
            "bin_end": 2.9725816592472514,
            "count": 0
           },
           {
            "bin_start": 2.9725816592472514,
            "bin_end": 3.0546797144542346,
            "count": 0
           },
           {
            "bin_start": 3.0546797144542346,
            "bin_end": 3.136777769661218,
            "count": 0
           },
           {
            "bin_start": 3.136777769661218,
            "bin_end": 3.2188758248682006,
            "count": 1
           }
          ]
         }
        },
        {
         "name": "total sulfur dioxide",
         "dtype": "float64",
         "stats": {
          "unique_count": 4,
          "nan_count": 0,
          "min": 3.5263605246161616,
          "max": 4.204692619390966,
          "histogram": [
           {
            "bin_start": 3.5263605246161616,
            "bin_end": 3.594193734093642,
            "count": 2
           },
           {
            "bin_start": 3.594193734093642,
            "bin_end": 3.6620269435711226,
            "count": 0
           },
           {
            "bin_start": 3.6620269435711226,
            "bin_end": 3.7298601530486026,
            "count": 0
           },
           {
            "bin_start": 3.7298601530486026,
            "bin_end": 3.797693362526083,
            "count": 0
           },
           {
            "bin_start": 3.797693362526083,
            "bin_end": 3.8655265720035636,
            "count": 0
           },
           {
            "bin_start": 3.8655265720035636,
            "bin_end": 3.933359781481044,
            "count": 0
           },
           {
            "bin_start": 3.933359781481044,
            "bin_end": 4.001192990958525,
            "count": 1
           },
           {
            "bin_start": 4.001192990958525,
            "bin_end": 4.069026200436005,
            "count": 0
           },
           {
            "bin_start": 4.069026200436005,
            "bin_end": 4.136859409913486,
            "count": 1
           },
           {
            "bin_start": 4.136859409913486,
            "bin_end": 4.204692619390966,
            "count": 1
           }
          ]
         }
        },
        {
         "name": "density",
         "dtype": "float64",
         "stats": {
          "unique_count": 4,
          "nan_count": 0,
          "min": 0.9968,
          "max": 0.998,
          "histogram": [
           {
            "bin_start": 0.9968,
            "bin_end": 0.99692,
            "count": 1
           },
           {
            "bin_start": 0.99692,
            "bin_end": 0.99704,
            "count": 1
           },
           {
            "bin_start": 0.99704,
            "bin_end": 0.99716,
            "count": 0
           },
           {
            "bin_start": 0.99716,
            "bin_end": 0.99728,
            "count": 0
           },
           {
            "bin_start": 0.99728,
            "bin_end": 0.9974000000000001,
            "count": 0
           },
           {
            "bin_start": 0.9974000000000001,
            "bin_end": 0.99752,
            "count": 0
           },
           {
            "bin_start": 0.99752,
            "bin_end": 0.99764,
            "count": 0
           },
           {
            "bin_start": 0.99764,
            "bin_end": 0.99776,
            "count": 0
           },
           {
            "bin_start": 0.99776,
            "bin_end": 0.99788,
            "count": 2
           },
           {
            "bin_start": 0.99788,
            "bin_end": 0.998,
            "count": 1
           }
          ]
         }
        },
        {
         "name": "pH",
         "dtype": "float64",
         "stats": {
          "unique_count": 4,
          "nan_count": 0,
          "min": 3.16,
          "max": 3.51,
          "histogram": [
           {
            "bin_start": 3.16,
            "bin_end": 3.1950000000000003,
            "count": 1
           },
           {
            "bin_start": 3.1950000000000003,
            "bin_end": 3.23,
            "count": 1
           },
           {
            "bin_start": 3.23,
            "bin_end": 3.265,
            "count": 1
           },
           {
            "bin_start": 3.265,
            "bin_end": 3.3,
            "count": 0
           },
           {
            "bin_start": 3.3,
            "bin_end": 3.335,
            "count": 0
           },
           {
            "bin_start": 3.335,
            "bin_end": 3.37,
            "count": 0
           },
           {
            "bin_start": 3.37,
            "bin_end": 3.405,
            "count": 0
           },
           {
            "bin_start": 3.405,
            "bin_end": 3.44,
            "count": 0
           },
           {
            "bin_start": 3.44,
            "bin_end": 3.4749999999999996,
            "count": 0
           },
           {
            "bin_start": 3.4749999999999996,
            "bin_end": 3.51,
            "count": 2
           }
          ]
         }
        },
        {
         "name": "sulphates",
         "dtype": "float64",
         "stats": {
          "unique_count": 4,
          "nan_count": 0,
          "min": -0.579818495252942,
          "max": -0.3856624808119846,
          "histogram": [
           {
            "bin_start": -0.579818495252942,
            "bin_end": -0.5604028938088463,
            "count": 2
           },
           {
            "bin_start": -0.5604028938088463,
            "bin_end": -0.5409872923647505,
            "count": 1
           },
           {
            "bin_start": -0.5409872923647505,
            "bin_end": -0.5215716909206548,
            "count": 0
           },
           {
            "bin_start": -0.5215716909206548,
            "bin_end": -0.5021560894765591,
            "count": 0
           },
           {
            "bin_start": -0.5021560894765591,
            "bin_end": -0.48274048803246333,
            "count": 0
           },
           {
            "bin_start": -0.48274048803246333,
            "bin_end": -0.46332488658836757,
            "count": 0
           },
           {
            "bin_start": -0.46332488658836757,
            "bin_end": -0.44390928514427186,
            "count": 0
           },
           {
            "bin_start": -0.44390928514427186,
            "bin_end": -0.4244936837001761,
            "count": 1
           },
           {
            "bin_start": -0.4244936837001761,
            "bin_end": -0.40507808225608033,
            "count": 0
           },
           {
            "bin_start": -0.40507808225608033,
            "bin_end": -0.3856624808119846,
            "count": 1
           }
          ]
         }
        },
        {
         "name": "alcohol",
         "dtype": "float64",
         "stats": {
          "unique_count": 2,
          "nan_count": 0,
          "min": 9.4,
          "max": 9.8,
          "histogram": [
           {
            "bin_start": 9.4,
            "bin_end": 9.440000000000001,
            "count": 2
           },
           {
            "bin_start": 9.440000000000001,
            "bin_end": 9.48,
            "count": 0
           },
           {
            "bin_start": 9.48,
            "bin_end": 9.52,
            "count": 0
           },
           {
            "bin_start": 9.52,
            "bin_end": 9.56,
            "count": 0
           },
           {
            "bin_start": 9.56,
            "bin_end": 9.600000000000001,
            "count": 0
           },
           {
            "bin_start": 9.600000000000001,
            "bin_end": 9.64,
            "count": 0
           },
           {
            "bin_start": 9.64,
            "bin_end": 9.68,
            "count": 0
           },
           {
            "bin_start": 9.68,
            "bin_end": 9.72,
            "count": 0
           },
           {
            "bin_start": 9.72,
            "bin_end": 9.760000000000002,
            "count": 0
           },
           {
            "bin_start": 9.760000000000002,
            "bin_end": 9.8,
            "count": 3
           }
          ]
         }
        },
        {
         "name": "quality",
         "dtype": "int64",
         "stats": {
          "unique_count": 1,
          "nan_count": 0,
          "min": 0,
          "max": 0,
          "histogram": [
           {
            "bin_start": -0.5,
            "bin_end": -0.4,
            "count": 0
           },
           {
            "bin_start": -0.4,
            "bin_end": -0.3,
            "count": 0
           },
           {
            "bin_start": -0.3,
            "bin_end": -0.19999999999999996,
            "count": 0
           },
           {
            "bin_start": -0.19999999999999996,
            "bin_end": -0.09999999999999998,
            "count": 0
           },
           {
            "bin_start": -0.09999999999999998,
            "bin_end": 0,
            "count": 0
           },
           {
            "bin_start": 0,
            "bin_end": 0.10000000000000009,
            "count": 5
           },
           {
            "bin_start": 0.10000000000000009,
            "bin_end": 0.20000000000000007,
            "count": 0
           },
           {
            "bin_start": 0.20000000000000007,
            "bin_end": 0.30000000000000004,
            "count": 0
           },
           {
            "bin_start": 0.30000000000000004,
            "bin_end": 0.4,
            "count": 0
           },
           {
            "bin_start": 0.4,
            "bin_end": 0.5,
            "count": 0
           }
          ]
         }
        },
        {
         "name": "is_red_wine",
         "dtype": "int64",
         "stats": {
          "unique_count": 1,
          "nan_count": 0,
          "min": 1,
          "max": 1,
          "histogram": [
           {
            "bin_start": 0.5,
            "bin_end": 0.6,
            "count": 0
           },
           {
            "bin_start": 0.6,
            "bin_end": 0.7,
            "count": 0
           },
           {
            "bin_start": 0.7,
            "bin_end": 0.8,
            "count": 0
           },
           {
            "bin_start": 0.8,
            "bin_end": 0.9,
            "count": 0
           },
           {
            "bin_start": 0.9,
            "bin_end": 1,
            "count": 0
           },
           {
            "bin_start": 1,
            "bin_end": 1.1,
            "count": 5
           },
           {
            "bin_start": 1.1,
            "bin_end": 1.2000000000000002,
            "count": 0
           },
           {
            "bin_start": 1.2000000000000002,
            "bin_end": 1.3,
            "count": 0
           },
           {
            "bin_start": 1.3,
            "bin_end": 1.4,
            "count": 0
           },
           {
            "bin_start": 1.4,
            "bin_end": 1.5,
            "count": 0
           }
          ]
         }
        },
        {
         "name": "_deepnote_index_column",
         "dtype": "int64"
        }
       ],
       "rows_top": [
        {
         "fixed acidity": 7.4,
         "volatile acidity": 0.7,
         "citric acid": 0,
         "residual sugar": 0.6418538861723947,
         "chlorides": -2.577021938695806,
         "free sulfur dioxide": 2.3978952727983707,
         "total sulfur dioxide": 3.5263605246161616,
         "density": 0.9978,
         "pH": 3.51,
         "sulphates": -0.579818495252942,
         "alcohol": 9.4,
         "quality": 0,
         "is_red_wine": 1,
         "_deepnote_index_column": 0
        },
        {
         "fixed acidity": 7.8,
         "volatile acidity": 0.88,
         "citric acid": 0,
         "residual sugar": 0.9555114450274363,
         "chlorides": -2.322787800311565,
         "free sulfur dioxide": 3.2188758248682006,
         "total sulfur dioxide": 4.204692619390966,
         "density": 0.9968,
         "pH": 3.2,
         "sulphates": -0.3856624808119846,
         "alcohol": 9.8,
         "quality": 0,
         "is_red_wine": 1,
         "_deepnote_index_column": 1
        },
        {
         "fixed acidity": 7.8,
         "volatile acidity": 0.76,
         "citric acid": 0.04,
         "residual sugar": 0.8329091229351039,
         "chlorides": -2.385966701933097,
         "free sulfur dioxide": 2.70805020110221,
         "total sulfur dioxide": 3.9889840465642745,
         "density": 0.997,
         "pH": 3.26,
         "sulphates": -0.4307829160924542,
         "alcohol": 9.8,
         "quality": 0,
         "is_red_wine": 1,
         "_deepnote_index_column": 2
        },
        {
         "fixed acidity": 11.2,
         "volatile acidity": 0.28,
         "citric acid": 0.56,
         "residual sugar": 0.6418538861723947,
         "chlorides": -2.5902671654458267,
         "free sulfur dioxide": 2.833213344056216,
         "total sulfur dioxide": 4.0943445622221,
         "density": 0.998,
         "pH": 3.16,
         "sulphates": -0.5447271754416722,
         "alcohol": 9.8,
         "quality": 0,
         "is_red_wine": 1,
         "_deepnote_index_column": 3
        },
        {
         "fixed acidity": 7.4,
         "volatile acidity": 0.7,
         "citric acid": 0,
         "residual sugar": 0.6418538861723947,
         "chlorides": -2.577021938695806,
         "free sulfur dioxide": 2.3978952727983707,
         "total sulfur dioxide": 3.5263605246161616,
         "density": 0.9978,
         "pH": 3.51,
         "sulphates": -0.579818495252942,
         "alcohol": 9.4,
         "quality": 0,
         "is_red_wine": 1,
         "_deepnote_index_column": 4
        }
       ],
       "rows_bottom": null
      },
      "text/plain": "   fixed acidity  volatile acidity  citric acid  residual sugar  chlorides  \\\n0            7.4              0.70         0.00        0.641854  -2.577022   \n1            7.8              0.88         0.00        0.955511  -2.322788   \n2            7.8              0.76         0.04        0.832909  -2.385967   \n3           11.2              0.28         0.56        0.641854  -2.590267   \n4            7.4              0.70         0.00        0.641854  -2.577022   \n\n   free sulfur dioxide  total sulfur dioxide  density    pH  sulphates  \\\n0             2.397895              3.526361   0.9978  3.51  -0.579818   \n1             3.218876              4.204693   0.9968  3.20  -0.385662   \n2             2.708050              3.988984   0.9970  3.26  -0.430783   \n3             2.833213              4.094345   0.9980  3.16  -0.544727   \n4             2.397895              3.526361   0.9978  3.51  -0.579818   \n\n   alcohol  quality  is_red_wine  \n0      9.4        0            1  \n1      9.8        0            1  \n2      9.8        0            1  \n3      9.8        0            1  \n4      9.4        0            1  ",
      "text/html": "<div>\n<style scoped>\n    .dataframe tbody tr th:only-of-type {\n        vertical-align: middle;\n    }\n\n    .dataframe tbody tr th {\n        vertical-align: top;\n    }\n\n    .dataframe thead th {\n        text-align: right;\n    }\n</style>\n<table border=\"1\" class=\"dataframe\">\n  <thead>\n    <tr style=\"text-align: right;\">\n      <th></th>\n      <th>fixed acidity</th>\n      <th>volatile acidity</th>\n      <th>citric acid</th>\n      <th>residual sugar</th>\n      <th>chlorides</th>\n      <th>free sulfur dioxide</th>\n      <th>total sulfur dioxide</th>\n      <th>density</th>\n      <th>pH</th>\n      <th>sulphates</th>\n      <th>alcohol</th>\n      <th>quality</th>\n      <th>is_red_wine</th>\n    </tr>\n  </thead>\n  <tbody>\n    <tr>\n      <th>0</th>\n      <td>7.4</td>\n      <td>0.70</td>\n      <td>0.00</td>\n      <td>0.641854</td>\n      <td>-2.577022</td>\n      <td>2.397895</td>\n      <td>3.526361</td>\n      <td>0.9978</td>\n      <td>3.51</td>\n      <td>-0.579818</td>\n      <td>9.4</td>\n      <td>0</td>\n      <td>1</td>\n    </tr>\n    <tr>\n      <th>1</th>\n      <td>7.8</td>\n      <td>0.88</td>\n      <td>0.00</td>\n      <td>0.955511</td>\n      <td>-2.322788</td>\n      <td>3.218876</td>\n      <td>4.204693</td>\n      <td>0.9968</td>\n      <td>3.20</td>\n      <td>-0.385662</td>\n      <td>9.8</td>\n      <td>0</td>\n      <td>1</td>\n    </tr>\n    <tr>\n      <th>2</th>\n      <td>7.8</td>\n      <td>0.76</td>\n      <td>0.04</td>\n      <td>0.832909</td>\n      <td>-2.385967</td>\n      <td>2.708050</td>\n      <td>3.988984</td>\n      <td>0.9970</td>\n      <td>3.26</td>\n      <td>-0.430783</td>\n      <td>9.8</td>\n      <td>0</td>\n      <td>1</td>\n    </tr>\n    <tr>\n      <th>3</th>\n      <td>11.2</td>\n      <td>0.28</td>\n      <td>0.56</td>\n      <td>0.641854</td>\n      <td>-2.590267</td>\n      <td>2.833213</td>\n      <td>4.094345</td>\n      <td>0.9980</td>\n      <td>3.16</td>\n      <td>-0.544727</td>\n      <td>9.8</td>\n      <td>0</td>\n      <td>1</td>\n    </tr>\n    <tr>\n      <th>4</th>\n      <td>7.4</td>\n      <td>0.70</td>\n      <td>0.00</td>\n      <td>0.641854</td>\n      <td>-2.577022</td>\n      <td>2.397895</td>\n      <td>3.526361</td>\n      <td>0.9978</td>\n      <td>3.51</td>\n      <td>-0.579818</td>\n      <td>9.4</td>\n      <td>0</td>\n      <td>1</td>\n    </tr>\n  </tbody>\n</table>\n</div>"
     },
     "metadata": {}
    }
   ],
   "execution_count": 163
  },
  {
   "cell_type": "code",
   "source": [
    "df['quality'].value_counts()"
   ],
   "metadata": {
    "tags": [],
    "cell_id": "00011-2ba96d66-39d3-4953-9fee-f08e94d0fd57",
    "deepnote_to_be_reexecuted": false,
    "source_hash": "b665e248",
    "execution_millis": 1,
    "execution_start": 1611860175431,
    "deepnote_cell_type": "code"
   },
   "outputs": [
    {
     "output_type": "execute_result",
     "execution_count": 112,
     "data": {
      "text/plain": "0    5220\n1    1277\nName: quality, dtype: int64"
     },
     "metadata": {}
    }
   ],
   "execution_count": 112
  },
  {
   "cell_type": "code",
   "source": [
    "# Part 3: Fitting and evaluation various models"
   ],
   "metadata": {
    "tags": [],
    "cell_id": "00017-61352603-d095-4f8f-acce-cbffcbad0809",
    "deepnote_to_be_reexecuted": false,
    "source_hash": "9a03b032",
    "execution_start": 1611864474614,
    "execution_millis": 0,
    "deepnote_cell_type": "code"
   },
   "outputs": [],
   "execution_count": 164
  },
  {
   "cell_type": "code",
   "source": [
    "# Saving the independent variables to 'X'\n",
    "X = df.drop(\"quality\", axis=1)\n",
    "# Saving dependent variable to 'y'\n",
    "y = df[\"quality\"]"
   ],
   "metadata": {
    "tags": [],
    "cell_id": "00020-e59e07b8-343d-48ee-a4de-51805d82af9e",
    "deepnote_to_be_reexecuted": false,
    "source_hash": "eedfbed9",
    "execution_millis": 0,
    "execution_start": 1611860338595,
    "deepnote_cell_type": "code"
   },
   "outputs": [],
   "execution_count": 118
  },
  {
   "cell_type": "code",
   "source": [
    "X.head()"
   ],
   "metadata": {
    "tags": [],
    "cell_id": "00021-3d754fe5-c9ef-486b-b5ca-0f3d7dfcf174",
    "deepnote_to_be_reexecuted": false,
    "source_hash": "91c01c58",
    "execution_millis": 21,
    "execution_start": 1611860339560,
    "deepnote_cell_type": "code"
   },
   "outputs": [
    {
     "output_type": "execute_result",
     "execution_count": 119,
     "data": {
      "application/vnd.deepnote.dataframe.v2+json": {
       "row_count": 5,
       "column_count": 12,
       "columns": [
        {
         "name": "fixed acidity",
         "dtype": "float64",
         "stats": {
          "unique_count": 3,
          "nan_count": 0,
          "min": 7.4,
          "max": 11.2,
          "histogram": [
           {
            "bin_start": 7.4,
            "bin_end": 7.78,
            "count": 2
           },
           {
            "bin_start": 7.78,
            "bin_end": 8.16,
            "count": 2
           },
           {
            "bin_start": 8.16,
            "bin_end": 8.54,
            "count": 0
           },
           {
            "bin_start": 8.54,
            "bin_end": 8.92,
            "count": 0
           },
           {
            "bin_start": 8.92,
            "bin_end": 9.3,
            "count": 0
           },
           {
            "bin_start": 9.3,
            "bin_end": 9.68,
            "count": 0
           },
           {
            "bin_start": 9.68,
            "bin_end": 10.059999999999999,
            "count": 0
           },
           {
            "bin_start": 10.059999999999999,
            "bin_end": 10.44,
            "count": 0
           },
           {
            "bin_start": 10.44,
            "bin_end": 10.82,
            "count": 0
           },
           {
            "bin_start": 10.82,
            "bin_end": 11.2,
            "count": 1
           }
          ]
         }
        },
        {
         "name": "volatile acidity",
         "dtype": "float64",
         "stats": {
          "unique_count": 4,
          "nan_count": 0,
          "min": 0.28,
          "max": 0.88,
          "histogram": [
           {
            "bin_start": 0.28,
            "bin_end": 0.34,
            "count": 1
           },
           {
            "bin_start": 0.34,
            "bin_end": 0.4,
            "count": 0
           },
           {
            "bin_start": 0.4,
            "bin_end": 0.46,
            "count": 0
           },
           {
            "bin_start": 0.46,
            "bin_end": 0.52,
            "count": 0
           },
           {
            "bin_start": 0.52,
            "bin_end": 0.5800000000000001,
            "count": 0
           },
           {
            "bin_start": 0.5800000000000001,
            "bin_end": 0.64,
            "count": 0
           },
           {
            "bin_start": 0.64,
            "bin_end": 0.7,
            "count": 0
           },
           {
            "bin_start": 0.7,
            "bin_end": 0.76,
            "count": 2
           },
           {
            "bin_start": 0.76,
            "bin_end": 0.8200000000000001,
            "count": 1
           },
           {
            "bin_start": 0.8200000000000001,
            "bin_end": 0.88,
            "count": 1
           }
          ]
         }
        },
        {
         "name": "citric acid",
         "dtype": "float64",
         "stats": {
          "unique_count": 3,
          "nan_count": 0,
          "min": 0,
          "max": 0.56,
          "histogram": [
           {
            "bin_start": 0,
            "bin_end": 0.05600000000000001,
            "count": 4
           },
           {
            "bin_start": 0.05600000000000001,
            "bin_end": 0.11200000000000002,
            "count": 0
           },
           {
            "bin_start": 0.11200000000000002,
            "bin_end": 0.16800000000000004,
            "count": 0
           },
           {
            "bin_start": 0.16800000000000004,
            "bin_end": 0.22400000000000003,
            "count": 0
           },
           {
            "bin_start": 0.22400000000000003,
            "bin_end": 0.28,
            "count": 0
           },
           {
            "bin_start": 0.28,
            "bin_end": 0.3360000000000001,
            "count": 0
           },
           {
            "bin_start": 0.3360000000000001,
            "bin_end": 0.39200000000000007,
            "count": 0
           },
           {
            "bin_start": 0.39200000000000007,
            "bin_end": 0.44800000000000006,
            "count": 0
           },
           {
            "bin_start": 0.44800000000000006,
            "bin_end": 0.5040000000000001,
            "count": 0
           },
           {
            "bin_start": 0.5040000000000001,
            "bin_end": 0.56,
            "count": 1
           }
          ]
         }
        },
        {
         "name": "residual sugar",
         "dtype": "float64",
         "stats": {
          "unique_count": 3,
          "nan_count": 0,
          "min": 0.6418538861723947,
          "max": 0.9555114450274363,
          "histogram": [
           {
            "bin_start": 0.6418538861723947,
            "bin_end": 0.6732196420578989,
            "count": 3
           },
           {
            "bin_start": 0.6732196420578989,
            "bin_end": 0.704585397943403,
            "count": 0
           },
           {
            "bin_start": 0.704585397943403,
            "bin_end": 0.7359511538289072,
            "count": 0
           },
           {
            "bin_start": 0.7359511538289072,
            "bin_end": 0.7673169097144114,
            "count": 0
           },
           {
            "bin_start": 0.7673169097144114,
            "bin_end": 0.7986826655999155,
            "count": 0
           },
           {
            "bin_start": 0.7986826655999155,
            "bin_end": 0.8300484214854197,
            "count": 0
           },
           {
            "bin_start": 0.8300484214854197,
            "bin_end": 0.8614141773709239,
            "count": 1
           },
           {
            "bin_start": 0.8614141773709239,
            "bin_end": 0.892779933256428,
            "count": 0
           },
           {
            "bin_start": 0.892779933256428,
            "bin_end": 0.9241456891419322,
            "count": 0
           },
           {
            "bin_start": 0.9241456891419322,
            "bin_end": 0.9555114450274363,
            "count": 1
           }
          ]
         }
        },
        {
         "name": "chlorides",
         "dtype": "float64",
         "stats": {
          "unique_count": 4,
          "nan_count": 0,
          "min": -2.5902671654458267,
          "max": -2.322787800311565,
          "histogram": [
           {
            "bin_start": -2.5902671654458267,
            "bin_end": -2.5635192289324005,
            "count": 3
           },
           {
            "bin_start": -2.5635192289324005,
            "bin_end": -2.5367712924189743,
            "count": 0
           },
           {
            "bin_start": -2.5367712924189743,
            "bin_end": -2.510023355905548,
            "count": 0
           },
           {
            "bin_start": -2.510023355905548,
            "bin_end": -2.483275419392122,
            "count": 0
           },
           {
            "bin_start": -2.483275419392122,
            "bin_end": -2.4565274828786956,
            "count": 0
           },
           {
            "bin_start": -2.4565274828786956,
            "bin_end": -2.42977954636527,
            "count": 0
           },
           {
            "bin_start": -2.42977954636527,
            "bin_end": -2.4030316098518436,
            "count": 0
           },
           {
            "bin_start": -2.4030316098518436,
            "bin_end": -2.3762836733384174,
            "count": 1
           },
           {
            "bin_start": -2.3762836733384174,
            "bin_end": -2.349535736824991,
            "count": 0
           },
           {
            "bin_start": -2.349535736824991,
            "bin_end": -2.322787800311565,
            "count": 1
           }
          ]
         }
        },
        {
         "name": "free sulfur dioxide",
         "dtype": "float64",
         "stats": {
          "unique_count": 4,
          "nan_count": 0,
          "min": 2.3978952727983707,
          "max": 3.2188758248682006,
          "histogram": [
           {
            "bin_start": 2.3978952727983707,
            "bin_end": 2.479993328005354,
            "count": 2
           },
           {
            "bin_start": 2.479993328005354,
            "bin_end": 2.5620913832123366,
            "count": 0
           },
           {
            "bin_start": 2.5620913832123366,
            "bin_end": 2.6441894384193194,
            "count": 0
           },
           {
            "bin_start": 2.6441894384193194,
            "bin_end": 2.7262874936263026,
            "count": 1
           },
           {
            "bin_start": 2.7262874936263026,
            "bin_end": 2.808385548833286,
            "count": 0
           },
           {
            "bin_start": 2.808385548833286,
            "bin_end": 2.8904836040402686,
            "count": 1
           },
           {
            "bin_start": 2.8904836040402686,
            "bin_end": 2.9725816592472514,
            "count": 0
           },
           {
            "bin_start": 2.9725816592472514,
            "bin_end": 3.0546797144542346,
            "count": 0
           },
           {
            "bin_start": 3.0546797144542346,
            "bin_end": 3.136777769661218,
            "count": 0
           },
           {
            "bin_start": 3.136777769661218,
            "bin_end": 3.2188758248682006,
            "count": 1
           }
          ]
         }
        },
        {
         "name": "total sulfur dioxide",
         "dtype": "float64",
         "stats": {
          "unique_count": 4,
          "nan_count": 0,
          "min": 3.5263605246161616,
          "max": 4.204692619390966,
          "histogram": [
           {
            "bin_start": 3.5263605246161616,
            "bin_end": 3.594193734093642,
            "count": 2
           },
           {
            "bin_start": 3.594193734093642,
            "bin_end": 3.6620269435711226,
            "count": 0
           },
           {
            "bin_start": 3.6620269435711226,
            "bin_end": 3.7298601530486026,
            "count": 0
           },
           {
            "bin_start": 3.7298601530486026,
            "bin_end": 3.797693362526083,
            "count": 0
           },
           {
            "bin_start": 3.797693362526083,
            "bin_end": 3.8655265720035636,
            "count": 0
           },
           {
            "bin_start": 3.8655265720035636,
            "bin_end": 3.933359781481044,
            "count": 0
           },
           {
            "bin_start": 3.933359781481044,
            "bin_end": 4.001192990958525,
            "count": 1
           },
           {
            "bin_start": 4.001192990958525,
            "bin_end": 4.069026200436005,
            "count": 0
           },
           {
            "bin_start": 4.069026200436005,
            "bin_end": 4.136859409913486,
            "count": 1
           },
           {
            "bin_start": 4.136859409913486,
            "bin_end": 4.204692619390966,
            "count": 1
           }
          ]
         }
        },
        {
         "name": "density",
         "dtype": "float64",
         "stats": {
          "unique_count": 4,
          "nan_count": 0,
          "min": 0.9968,
          "max": 0.998,
          "histogram": [
           {
            "bin_start": 0.9968,
            "bin_end": 0.99692,
            "count": 1
           },
           {
            "bin_start": 0.99692,
            "bin_end": 0.99704,
            "count": 1
           },
           {
            "bin_start": 0.99704,
            "bin_end": 0.99716,
            "count": 0
           },
           {
            "bin_start": 0.99716,
            "bin_end": 0.99728,
            "count": 0
           },
           {
            "bin_start": 0.99728,
            "bin_end": 0.9974000000000001,
            "count": 0
           },
           {
            "bin_start": 0.9974000000000001,
            "bin_end": 0.99752,
            "count": 0
           },
           {
            "bin_start": 0.99752,
            "bin_end": 0.99764,
            "count": 0
           },
           {
            "bin_start": 0.99764,
            "bin_end": 0.99776,
            "count": 0
           },
           {
            "bin_start": 0.99776,
            "bin_end": 0.99788,
            "count": 2
           },
           {
            "bin_start": 0.99788,
            "bin_end": 0.998,
            "count": 1
           }
          ]
         }
        },
        {
         "name": "pH",
         "dtype": "float64",
         "stats": {
          "unique_count": 4,
          "nan_count": 0,
          "min": 3.16,
          "max": 3.51,
          "histogram": [
           {
            "bin_start": 3.16,
            "bin_end": 3.1950000000000003,
            "count": 1
           },
           {
            "bin_start": 3.1950000000000003,
            "bin_end": 3.23,
            "count": 1
           },
           {
            "bin_start": 3.23,
            "bin_end": 3.265,
            "count": 1
           },
           {
            "bin_start": 3.265,
            "bin_end": 3.3,
            "count": 0
           },
           {
            "bin_start": 3.3,
            "bin_end": 3.335,
            "count": 0
           },
           {
            "bin_start": 3.335,
            "bin_end": 3.37,
            "count": 0
           },
           {
            "bin_start": 3.37,
            "bin_end": 3.405,
            "count": 0
           },
           {
            "bin_start": 3.405,
            "bin_end": 3.44,
            "count": 0
           },
           {
            "bin_start": 3.44,
            "bin_end": 3.4749999999999996,
            "count": 0
           },
           {
            "bin_start": 3.4749999999999996,
            "bin_end": 3.51,
            "count": 2
           }
          ]
         }
        },
        {
         "name": "sulphates",
         "dtype": "float64",
         "stats": {
          "unique_count": 4,
          "nan_count": 0,
          "min": -0.579818495252942,
          "max": -0.3856624808119846,
          "histogram": [
           {
            "bin_start": -0.579818495252942,
            "bin_end": -0.5604028938088463,
            "count": 2
           },
           {
            "bin_start": -0.5604028938088463,
            "bin_end": -0.5409872923647505,
            "count": 1
           },
           {
            "bin_start": -0.5409872923647505,
            "bin_end": -0.5215716909206548,
            "count": 0
           },
           {
            "bin_start": -0.5215716909206548,
            "bin_end": -0.5021560894765591,
            "count": 0
           },
           {
            "bin_start": -0.5021560894765591,
            "bin_end": -0.48274048803246333,
            "count": 0
           },
           {
            "bin_start": -0.48274048803246333,
            "bin_end": -0.46332488658836757,
            "count": 0
           },
           {
            "bin_start": -0.46332488658836757,
            "bin_end": -0.44390928514427186,
            "count": 0
           },
           {
            "bin_start": -0.44390928514427186,
            "bin_end": -0.4244936837001761,
            "count": 1
           },
           {
            "bin_start": -0.4244936837001761,
            "bin_end": -0.40507808225608033,
            "count": 0
           },
           {
            "bin_start": -0.40507808225608033,
            "bin_end": -0.3856624808119846,
            "count": 1
           }
          ]
         }
        },
        {
         "name": "alcohol",
         "dtype": "float64",
         "stats": {
          "unique_count": 2,
          "nan_count": 0,
          "min": 9.4,
          "max": 9.8,
          "histogram": [
           {
            "bin_start": 9.4,
            "bin_end": 9.440000000000001,
            "count": 2
           },
           {
            "bin_start": 9.440000000000001,
            "bin_end": 9.48,
            "count": 0
           },
           {
            "bin_start": 9.48,
            "bin_end": 9.52,
            "count": 0
           },
           {
            "bin_start": 9.52,
            "bin_end": 9.56,
            "count": 0
           },
           {
            "bin_start": 9.56,
            "bin_end": 9.600000000000001,
            "count": 0
           },
           {
            "bin_start": 9.600000000000001,
            "bin_end": 9.64,
            "count": 0
           },
           {
            "bin_start": 9.64,
            "bin_end": 9.68,
            "count": 0
           },
           {
            "bin_start": 9.68,
            "bin_end": 9.72,
            "count": 0
           },
           {
            "bin_start": 9.72,
            "bin_end": 9.760000000000002,
            "count": 0
           },
           {
            "bin_start": 9.760000000000002,
            "bin_end": 9.8,
            "count": 3
           }
          ]
         }
        },
        {
         "name": "is_red_wine",
         "dtype": "int64",
         "stats": {
          "unique_count": 1,
          "nan_count": 0,
          "min": 1,
          "max": 1,
          "histogram": [
           {
            "bin_start": 0.5,
            "bin_end": 0.6,
            "count": 0
           },
           {
            "bin_start": 0.6,
            "bin_end": 0.7,
            "count": 0
           },
           {
            "bin_start": 0.7,
            "bin_end": 0.8,
            "count": 0
           },
           {
            "bin_start": 0.8,
            "bin_end": 0.9,
            "count": 0
           },
           {
            "bin_start": 0.9,
            "bin_end": 1,
            "count": 0
           },
           {
            "bin_start": 1,
            "bin_end": 1.1,
            "count": 5
           },
           {
            "bin_start": 1.1,
            "bin_end": 1.2000000000000002,
            "count": 0
           },
           {
            "bin_start": 1.2000000000000002,
            "bin_end": 1.3,
            "count": 0
           },
           {
            "bin_start": 1.3,
            "bin_end": 1.4,
            "count": 0
           },
           {
            "bin_start": 1.4,
            "bin_end": 1.5,
            "count": 0
           }
          ]
         }
        },
        {
         "name": "_deepnote_index_column",
         "dtype": "int64"
        }
       ],
       "rows_top": [
        {
         "fixed acidity": 7.4,
         "volatile acidity": 0.7,
         "citric acid": 0,
         "residual sugar": 0.6418538861723947,
         "chlorides": -2.577021938695806,
         "free sulfur dioxide": 2.3978952727983707,
         "total sulfur dioxide": 3.5263605246161616,
         "density": 0.9978,
         "pH": 3.51,
         "sulphates": -0.579818495252942,
         "alcohol": 9.4,
         "is_red_wine": 1,
         "_deepnote_index_column": 0
        },
        {
         "fixed acidity": 7.8,
         "volatile acidity": 0.88,
         "citric acid": 0,
         "residual sugar": 0.9555114450274363,
         "chlorides": -2.322787800311565,
         "free sulfur dioxide": 3.2188758248682006,
         "total sulfur dioxide": 4.204692619390966,
         "density": 0.9968,
         "pH": 3.2,
         "sulphates": -0.3856624808119846,
         "alcohol": 9.8,
         "is_red_wine": 1,
         "_deepnote_index_column": 1
        },
        {
         "fixed acidity": 7.8,
         "volatile acidity": 0.76,
         "citric acid": 0.04,
         "residual sugar": 0.8329091229351039,
         "chlorides": -2.385966701933097,
         "free sulfur dioxide": 2.70805020110221,
         "total sulfur dioxide": 3.9889840465642745,
         "density": 0.997,
         "pH": 3.26,
         "sulphates": -0.4307829160924542,
         "alcohol": 9.8,
         "is_red_wine": 1,
         "_deepnote_index_column": 2
        },
        {
         "fixed acidity": 11.2,
         "volatile acidity": 0.28,
         "citric acid": 0.56,
         "residual sugar": 0.6418538861723947,
         "chlorides": -2.5902671654458267,
         "free sulfur dioxide": 2.833213344056216,
         "total sulfur dioxide": 4.0943445622221,
         "density": 0.998,
         "pH": 3.16,
         "sulphates": -0.5447271754416722,
         "alcohol": 9.8,
         "is_red_wine": 1,
         "_deepnote_index_column": 3
        },
        {
         "fixed acidity": 7.4,
         "volatile acidity": 0.7,
         "citric acid": 0,
         "residual sugar": 0.6418538861723947,
         "chlorides": -2.577021938695806,
         "free sulfur dioxide": 2.3978952727983707,
         "total sulfur dioxide": 3.5263605246161616,
         "density": 0.9978,
         "pH": 3.51,
         "sulphates": -0.579818495252942,
         "alcohol": 9.4,
         "is_red_wine": 1,
         "_deepnote_index_column": 4
        }
       ],
       "rows_bottom": null
      },
      "text/plain": "   fixed acidity  volatile acidity  citric acid  residual sugar  chlorides  \\\n0            7.4              0.70         0.00        0.641854  -2.577022   \n1            7.8              0.88         0.00        0.955511  -2.322788   \n2            7.8              0.76         0.04        0.832909  -2.385967   \n3           11.2              0.28         0.56        0.641854  -2.590267   \n4            7.4              0.70         0.00        0.641854  -2.577022   \n\n   free sulfur dioxide  total sulfur dioxide  density    pH  sulphates  \\\n0             2.397895              3.526361   0.9978  3.51  -0.579818   \n1             3.218876              4.204693   0.9968  3.20  -0.385662   \n2             2.708050              3.988984   0.9970  3.26  -0.430783   \n3             2.833213              4.094345   0.9980  3.16  -0.544727   \n4             2.397895              3.526361   0.9978  3.51  -0.579818   \n\n   alcohol  is_red_wine  \n0      9.4            1  \n1      9.8            1  \n2      9.8            1  \n3      9.8            1  \n4      9.4            1  ",
      "text/html": "<div>\n<style scoped>\n    .dataframe tbody tr th:only-of-type {\n        vertical-align: middle;\n    }\n\n    .dataframe tbody tr th {\n        vertical-align: top;\n    }\n\n    .dataframe thead th {\n        text-align: right;\n    }\n</style>\n<table border=\"1\" class=\"dataframe\">\n  <thead>\n    <tr style=\"text-align: right;\">\n      <th></th>\n      <th>fixed acidity</th>\n      <th>volatile acidity</th>\n      <th>citric acid</th>\n      <th>residual sugar</th>\n      <th>chlorides</th>\n      <th>free sulfur dioxide</th>\n      <th>total sulfur dioxide</th>\n      <th>density</th>\n      <th>pH</th>\n      <th>sulphates</th>\n      <th>alcohol</th>\n      <th>is_red_wine</th>\n    </tr>\n  </thead>\n  <tbody>\n    <tr>\n      <th>0</th>\n      <td>7.4</td>\n      <td>0.70</td>\n      <td>0.00</td>\n      <td>0.641854</td>\n      <td>-2.577022</td>\n      <td>2.397895</td>\n      <td>3.526361</td>\n      <td>0.9978</td>\n      <td>3.51</td>\n      <td>-0.579818</td>\n      <td>9.4</td>\n      <td>1</td>\n    </tr>\n    <tr>\n      <th>1</th>\n      <td>7.8</td>\n      <td>0.88</td>\n      <td>0.00</td>\n      <td>0.955511</td>\n      <td>-2.322788</td>\n      <td>3.218876</td>\n      <td>4.204693</td>\n      <td>0.9968</td>\n      <td>3.20</td>\n      <td>-0.385662</td>\n      <td>9.8</td>\n      <td>1</td>\n    </tr>\n    <tr>\n      <th>2</th>\n      <td>7.8</td>\n      <td>0.76</td>\n      <td>0.04</td>\n      <td>0.832909</td>\n      <td>-2.385967</td>\n      <td>2.708050</td>\n      <td>3.988984</td>\n      <td>0.9970</td>\n      <td>3.26</td>\n      <td>-0.430783</td>\n      <td>9.8</td>\n      <td>1</td>\n    </tr>\n    <tr>\n      <th>3</th>\n      <td>11.2</td>\n      <td>0.28</td>\n      <td>0.56</td>\n      <td>0.641854</td>\n      <td>-2.590267</td>\n      <td>2.833213</td>\n      <td>4.094345</td>\n      <td>0.9980</td>\n      <td>3.16</td>\n      <td>-0.544727</td>\n      <td>9.8</td>\n      <td>1</td>\n    </tr>\n    <tr>\n      <th>4</th>\n      <td>7.4</td>\n      <td>0.70</td>\n      <td>0.00</td>\n      <td>0.641854</td>\n      <td>-2.577022</td>\n      <td>2.397895</td>\n      <td>3.526361</td>\n      <td>0.9978</td>\n      <td>3.51</td>\n      <td>-0.579818</td>\n      <td>9.4</td>\n      <td>1</td>\n    </tr>\n  </tbody>\n</table>\n</div>"
     },
     "metadata": {}
    }
   ],
   "execution_count": 119
  },
  {
   "cell_type": "code",
   "source": [
    "# Initial check for multicollinearity\n",
    "# Using variance inflation factor"
   ],
   "metadata": {
    "tags": [],
    "cell_id": "00022-eeed428b-f7c1-4213-b944-90049155045a",
    "deepnote_to_be_reexecuted": false,
    "source_hash": "fb529d63",
    "execution_millis": 0,
    "execution_start": 1611858127626,
    "deepnote_cell_type": "code"
   },
   "outputs": [],
   "execution_count": 70
  },
  {
   "cell_type": "code",
   "source": [
    "from statsmodels.stats.outliers_influence import variance_inflation_factor\n",
    "\n",
    "pd.Series(\n",
    "    data = [variance_inflation_factor(X.values, i) for i in range(X.shape[1])],\n",
    "    index = X.columns\n",
    ")"
   ],
   "metadata": {
    "tags": [],
    "cell_id": "00023-a67c9d74-5dcd-4938-9996-90f790d8fef8",
    "deepnote_to_be_reexecuted": false,
    "source_hash": "148f68ac",
    "execution_millis": 204,
    "execution_start": 1611860349963,
    "deepnote_cell_type": "code"
   },
   "outputs": [
    {
     "output_type": "execute_result",
     "execution_count": 120,
     "data": {
      "text/plain": "fixed acidity             70.662957\nvolatile acidity          11.127602\ncitric acid                9.190071\nresidual sugar             4.656570\nchlorides                110.966239\nfree sulfur dioxide       62.640489\ntotal sulfur dioxide     215.622871\ndensity                 1212.554725\npH                       649.970190\nsulphates                 10.987603\nalcohol                  115.815300\nis_red_wine                8.076981\ndtype: float64"
     },
     "metadata": {}
    }
   ],
   "execution_count": 120
  },
  {
   "cell_type": "code",
   "source": [
    "# Adding constant to our X\n",
    "X_const = sm.add_constant(X)\n",
    "X_const.head()"
   ],
   "metadata": {
    "tags": [],
    "cell_id": "00024-77711289-51de-40ba-b934-7f52950d7b9a",
    "deepnote_to_be_reexecuted": false,
    "source_hash": "92cf8a90",
    "execution_start": 1611858186826,
    "execution_millis": 14,
    "deepnote_cell_type": "code"
   },
   "outputs": [
    {
     "output_type": "execute_result",
     "execution_count": 72,
     "data": {
      "application/vnd.deepnote.dataframe.v2+json": {
       "row_count": 5,
       "column_count": 13,
       "columns": [
        {
         "name": "const",
         "dtype": "float64",
         "stats": {
          "unique_count": 1,
          "nan_count": 0,
          "min": 1,
          "max": 1,
          "histogram": [
           {
            "bin_start": 0.5,
            "bin_end": 0.6,
            "count": 0
           },
           {
            "bin_start": 0.6,
            "bin_end": 0.7,
            "count": 0
           },
           {
            "bin_start": 0.7,
            "bin_end": 0.8,
            "count": 0
           },
           {
            "bin_start": 0.8,
            "bin_end": 0.9,
            "count": 0
           },
           {
            "bin_start": 0.9,
            "bin_end": 1,
            "count": 0
           },
           {
            "bin_start": 1,
            "bin_end": 1.1,
            "count": 5
           },
           {
            "bin_start": 1.1,
            "bin_end": 1.2000000000000002,
            "count": 0
           },
           {
            "bin_start": 1.2000000000000002,
            "bin_end": 1.3,
            "count": 0
           },
           {
            "bin_start": 1.3,
            "bin_end": 1.4,
            "count": 0
           },
           {
            "bin_start": 1.4,
            "bin_end": 1.5,
            "count": 0
           }
          ]
         }
        },
        {
         "name": "fixed acidity",
         "dtype": "float64",
         "stats": {
          "unique_count": 3,
          "nan_count": 0,
          "min": 7.4,
          "max": 11.2,
          "histogram": [
           {
            "bin_start": 7.4,
            "bin_end": 7.78,
            "count": 2
           },
           {
            "bin_start": 7.78,
            "bin_end": 8.16,
            "count": 2
           },
           {
            "bin_start": 8.16,
            "bin_end": 8.54,
            "count": 0
           },
           {
            "bin_start": 8.54,
            "bin_end": 8.92,
            "count": 0
           },
           {
            "bin_start": 8.92,
            "bin_end": 9.3,
            "count": 0
           },
           {
            "bin_start": 9.3,
            "bin_end": 9.68,
            "count": 0
           },
           {
            "bin_start": 9.68,
            "bin_end": 10.059999999999999,
            "count": 0
           },
           {
            "bin_start": 10.059999999999999,
            "bin_end": 10.44,
            "count": 0
           },
           {
            "bin_start": 10.44,
            "bin_end": 10.82,
            "count": 0
           },
           {
            "bin_start": 10.82,
            "bin_end": 11.2,
            "count": 1
           }
          ]
         }
        },
        {
         "name": "volatile acidity",
         "dtype": "float64",
         "stats": {
          "unique_count": 4,
          "nan_count": 0,
          "min": 0.28,
          "max": 0.88,
          "histogram": [
           {
            "bin_start": 0.28,
            "bin_end": 0.34,
            "count": 1
           },
           {
            "bin_start": 0.34,
            "bin_end": 0.4,
            "count": 0
           },
           {
            "bin_start": 0.4,
            "bin_end": 0.46,
            "count": 0
           },
           {
            "bin_start": 0.46,
            "bin_end": 0.52,
            "count": 0
           },
           {
            "bin_start": 0.52,
            "bin_end": 0.5800000000000001,
            "count": 0
           },
           {
            "bin_start": 0.5800000000000001,
            "bin_end": 0.64,
            "count": 0
           },
           {
            "bin_start": 0.64,
            "bin_end": 0.7,
            "count": 0
           },
           {
            "bin_start": 0.7,
            "bin_end": 0.76,
            "count": 2
           },
           {
            "bin_start": 0.76,
            "bin_end": 0.8200000000000001,
            "count": 1
           },
           {
            "bin_start": 0.8200000000000001,
            "bin_end": 0.88,
            "count": 1
           }
          ]
         }
        },
        {
         "name": "citric acid",
         "dtype": "float64",
         "stats": {
          "unique_count": 3,
          "nan_count": 0,
          "min": 0,
          "max": 0.56,
          "histogram": [
           {
            "bin_start": 0,
            "bin_end": 0.05600000000000001,
            "count": 4
           },
           {
            "bin_start": 0.05600000000000001,
            "bin_end": 0.11200000000000002,
            "count": 0
           },
           {
            "bin_start": 0.11200000000000002,
            "bin_end": 0.16800000000000004,
            "count": 0
           },
           {
            "bin_start": 0.16800000000000004,
            "bin_end": 0.22400000000000003,
            "count": 0
           },
           {
            "bin_start": 0.22400000000000003,
            "bin_end": 0.28,
            "count": 0
           },
           {
            "bin_start": 0.28,
            "bin_end": 0.3360000000000001,
            "count": 0
           },
           {
            "bin_start": 0.3360000000000001,
            "bin_end": 0.39200000000000007,
            "count": 0
           },
           {
            "bin_start": 0.39200000000000007,
            "bin_end": 0.44800000000000006,
            "count": 0
           },
           {
            "bin_start": 0.44800000000000006,
            "bin_end": 0.5040000000000001,
            "count": 0
           },
           {
            "bin_start": 0.5040000000000001,
            "bin_end": 0.56,
            "count": 1
           }
          ]
         }
        },
        {
         "name": "residual sugar",
         "dtype": "float64",
         "stats": {
          "unique_count": 3,
          "nan_count": 0,
          "min": 1.9,
          "max": 2.6,
          "histogram": [
           {
            "bin_start": 1.9,
            "bin_end": 1.97,
            "count": 3
           },
           {
            "bin_start": 1.97,
            "bin_end": 2.04,
            "count": 0
           },
           {
            "bin_start": 2.04,
            "bin_end": 2.11,
            "count": 0
           },
           {
            "bin_start": 2.11,
            "bin_end": 2.18,
            "count": 0
           },
           {
            "bin_start": 2.18,
            "bin_end": 2.25,
            "count": 0
           },
           {
            "bin_start": 2.25,
            "bin_end": 2.3200000000000003,
            "count": 1
           },
           {
            "bin_start": 2.3200000000000003,
            "bin_end": 2.39,
            "count": 0
           },
           {
            "bin_start": 2.39,
            "bin_end": 2.46,
            "count": 0
           },
           {
            "bin_start": 2.46,
            "bin_end": 2.5300000000000002,
            "count": 0
           },
           {
            "bin_start": 2.5300000000000002,
            "bin_end": 2.6,
            "count": 1
           }
          ]
         }
        },
        {
         "name": "chlorides",
         "dtype": "float64",
         "stats": {
          "unique_count": 4,
          "nan_count": 0,
          "min": 0.075,
          "max": 0.098,
          "histogram": [
           {
            "bin_start": 0.075,
            "bin_end": 0.0773,
            "count": 3
           },
           {
            "bin_start": 0.0773,
            "bin_end": 0.0796,
            "count": 0
           },
           {
            "bin_start": 0.0796,
            "bin_end": 0.0819,
            "count": 0
           },
           {
            "bin_start": 0.0819,
            "bin_end": 0.0842,
            "count": 0
           },
           {
            "bin_start": 0.0842,
            "bin_end": 0.0865,
            "count": 0
           },
           {
            "bin_start": 0.0865,
            "bin_end": 0.0888,
            "count": 0
           },
           {
            "bin_start": 0.0888,
            "bin_end": 0.0911,
            "count": 0
           },
           {
            "bin_start": 0.0911,
            "bin_end": 0.09340000000000001,
            "count": 1
           },
           {
            "bin_start": 0.09340000000000001,
            "bin_end": 0.09570000000000001,
            "count": 0
           },
           {
            "bin_start": 0.09570000000000001,
            "bin_end": 0.098,
            "count": 1
           }
          ]
         }
        },
        {
         "name": "free sulfur dioxide",
         "dtype": "float64",
         "stats": {
          "unique_count": 4,
          "nan_count": 0,
          "min": 11,
          "max": 25,
          "histogram": [
           {
            "bin_start": 11,
            "bin_end": 12.4,
            "count": 2
           },
           {
            "bin_start": 12.4,
            "bin_end": 13.8,
            "count": 0
           },
           {
            "bin_start": 13.8,
            "bin_end": 15.2,
            "count": 1
           },
           {
            "bin_start": 15.2,
            "bin_end": 16.6,
            "count": 0
           },
           {
            "bin_start": 16.6,
            "bin_end": 18,
            "count": 1
           },
           {
            "bin_start": 18,
            "bin_end": 19.4,
            "count": 0
           },
           {
            "bin_start": 19.4,
            "bin_end": 20.799999999999997,
            "count": 0
           },
           {
            "bin_start": 20.799999999999997,
            "bin_end": 22.2,
            "count": 0
           },
           {
            "bin_start": 22.2,
            "bin_end": 23.6,
            "count": 0
           },
           {
            "bin_start": 23.6,
            "bin_end": 25,
            "count": 1
           }
          ]
         }
        },
        {
         "name": "total sulfur dioxide",
         "dtype": "float64",
         "stats": {
          "unique_count": 4,
          "nan_count": 0,
          "min": 34,
          "max": 67,
          "histogram": [
           {
            "bin_start": 34,
            "bin_end": 37.3,
            "count": 2
           },
           {
            "bin_start": 37.3,
            "bin_end": 40.6,
            "count": 0
           },
           {
            "bin_start": 40.6,
            "bin_end": 43.9,
            "count": 0
           },
           {
            "bin_start": 43.9,
            "bin_end": 47.2,
            "count": 0
           },
           {
            "bin_start": 47.2,
            "bin_end": 50.5,
            "count": 0
           },
           {
            "bin_start": 50.5,
            "bin_end": 53.8,
            "count": 0
           },
           {
            "bin_start": 53.8,
            "bin_end": 57.099999999999994,
            "count": 1
           },
           {
            "bin_start": 57.099999999999994,
            "bin_end": 60.4,
            "count": 1
           },
           {
            "bin_start": 60.4,
            "bin_end": 63.7,
            "count": 0
           },
           {
            "bin_start": 63.7,
            "bin_end": 67,
            "count": 1
           }
          ]
         }
        },
        {
         "name": "density",
         "dtype": "float64",
         "stats": {
          "unique_count": 4,
          "nan_count": 0,
          "min": 0.9968,
          "max": 0.998,
          "histogram": [
           {
            "bin_start": 0.9968,
            "bin_end": 0.99692,
            "count": 1
           },
           {
            "bin_start": 0.99692,
            "bin_end": 0.99704,
            "count": 1
           },
           {
            "bin_start": 0.99704,
            "bin_end": 0.99716,
            "count": 0
           },
           {
            "bin_start": 0.99716,
            "bin_end": 0.99728,
            "count": 0
           },
           {
            "bin_start": 0.99728,
            "bin_end": 0.9974000000000001,
            "count": 0
           },
           {
            "bin_start": 0.9974000000000001,
            "bin_end": 0.99752,
            "count": 0
           },
           {
            "bin_start": 0.99752,
            "bin_end": 0.99764,
            "count": 0
           },
           {
            "bin_start": 0.99764,
            "bin_end": 0.99776,
            "count": 0
           },
           {
            "bin_start": 0.99776,
            "bin_end": 0.99788,
            "count": 2
           },
           {
            "bin_start": 0.99788,
            "bin_end": 0.998,
            "count": 1
           }
          ]
         }
        },
        {
         "name": "pH",
         "dtype": "float64",
         "stats": {
          "unique_count": 4,
          "nan_count": 0,
          "min": 3.16,
          "max": 3.51,
          "histogram": [
           {
            "bin_start": 3.16,
            "bin_end": 3.1950000000000003,
            "count": 1
           },
           {
            "bin_start": 3.1950000000000003,
            "bin_end": 3.23,
            "count": 1
           },
           {
            "bin_start": 3.23,
            "bin_end": 3.265,
            "count": 1
           },
           {
            "bin_start": 3.265,
            "bin_end": 3.3,
            "count": 0
           },
           {
            "bin_start": 3.3,
            "bin_end": 3.335,
            "count": 0
           },
           {
            "bin_start": 3.335,
            "bin_end": 3.37,
            "count": 0
           },
           {
            "bin_start": 3.37,
            "bin_end": 3.405,
            "count": 0
           },
           {
            "bin_start": 3.405,
            "bin_end": 3.44,
            "count": 0
           },
           {
            "bin_start": 3.44,
            "bin_end": 3.4749999999999996,
            "count": 0
           },
           {
            "bin_start": 3.4749999999999996,
            "bin_end": 3.51,
            "count": 2
           }
          ]
         }
        },
        {
         "name": "sulphates",
         "dtype": "float64",
         "stats": {
          "unique_count": 4,
          "nan_count": 0,
          "min": 0.56,
          "max": 0.68,
          "histogram": [
           {
            "bin_start": 0.56,
            "bin_end": 0.5720000000000001,
            "count": 2
           },
           {
            "bin_start": 0.5720000000000001,
            "bin_end": 0.5840000000000001,
            "count": 1
           },
           {
            "bin_start": 0.5840000000000001,
            "bin_end": 0.5960000000000001,
            "count": 0
           },
           {
            "bin_start": 0.5960000000000001,
            "bin_end": 0.6080000000000001,
            "count": 0
           },
           {
            "bin_start": 0.6080000000000001,
            "bin_end": 0.6200000000000001,
            "count": 0
           },
           {
            "bin_start": 0.6200000000000001,
            "bin_end": 0.6320000000000001,
            "count": 0
           },
           {
            "bin_start": 0.6320000000000001,
            "bin_end": 0.644,
            "count": 0
           },
           {
            "bin_start": 0.644,
            "bin_end": 0.656,
            "count": 1
           },
           {
            "bin_start": 0.656,
            "bin_end": 0.668,
            "count": 0
           },
           {
            "bin_start": 0.668,
            "bin_end": 0.68,
            "count": 1
           }
          ]
         }
        },
        {
         "name": "alcohol",
         "dtype": "float64",
         "stats": {
          "unique_count": 2,
          "nan_count": 0,
          "min": 9.4,
          "max": 9.8,
          "histogram": [
           {
            "bin_start": 9.4,
            "bin_end": 9.440000000000001,
            "count": 2
           },
           {
            "bin_start": 9.440000000000001,
            "bin_end": 9.48,
            "count": 0
           },
           {
            "bin_start": 9.48,
            "bin_end": 9.52,
            "count": 0
           },
           {
            "bin_start": 9.52,
            "bin_end": 9.56,
            "count": 0
           },
           {
            "bin_start": 9.56,
            "bin_end": 9.600000000000001,
            "count": 0
           },
           {
            "bin_start": 9.600000000000001,
            "bin_end": 9.64,
            "count": 0
           },
           {
            "bin_start": 9.64,
            "bin_end": 9.68,
            "count": 0
           },
           {
            "bin_start": 9.68,
            "bin_end": 9.72,
            "count": 0
           },
           {
            "bin_start": 9.72,
            "bin_end": 9.760000000000002,
            "count": 0
           },
           {
            "bin_start": 9.760000000000002,
            "bin_end": 9.8,
            "count": 3
           }
          ]
         }
        },
        {
         "name": "is_red_wine",
         "dtype": "int64",
         "stats": {
          "unique_count": 1,
          "nan_count": 0,
          "min": 1,
          "max": 1,
          "histogram": [
           {
            "bin_start": 0.5,
            "bin_end": 0.6,
            "count": 0
           },
           {
            "bin_start": 0.6,
            "bin_end": 0.7,
            "count": 0
           },
           {
            "bin_start": 0.7,
            "bin_end": 0.8,
            "count": 0
           },
           {
            "bin_start": 0.8,
            "bin_end": 0.9,
            "count": 0
           },
           {
            "bin_start": 0.9,
            "bin_end": 1,
            "count": 0
           },
           {
            "bin_start": 1,
            "bin_end": 1.1,
            "count": 5
           },
           {
            "bin_start": 1.1,
            "bin_end": 1.2000000000000002,
            "count": 0
           },
           {
            "bin_start": 1.2000000000000002,
            "bin_end": 1.3,
            "count": 0
           },
           {
            "bin_start": 1.3,
            "bin_end": 1.4,
            "count": 0
           },
           {
            "bin_start": 1.4,
            "bin_end": 1.5,
            "count": 0
           }
          ]
         }
        },
        {
         "name": "_deepnote_index_column",
         "dtype": "int64"
        }
       ],
       "rows_top": [
        {
         "const": 1,
         "fixed acidity": 7.4,
         "volatile acidity": 0.7,
         "citric acid": 0,
         "residual sugar": 1.9,
         "chlorides": 0.076,
         "free sulfur dioxide": 11,
         "total sulfur dioxide": 34,
         "density": 0.9978,
         "pH": 3.51,
         "sulphates": 0.56,
         "alcohol": 9.4,
         "is_red_wine": 1,
         "_deepnote_index_column": 0
        },
        {
         "const": 1,
         "fixed acidity": 7.8,
         "volatile acidity": 0.88,
         "citric acid": 0,
         "residual sugar": 2.6,
         "chlorides": 0.098,
         "free sulfur dioxide": 25,
         "total sulfur dioxide": 67,
         "density": 0.9968,
         "pH": 3.2,
         "sulphates": 0.68,
         "alcohol": 9.8,
         "is_red_wine": 1,
         "_deepnote_index_column": 1
        },
        {
         "const": 1,
         "fixed acidity": 7.8,
         "volatile acidity": 0.76,
         "citric acid": 0.04,
         "residual sugar": 2.3,
         "chlorides": 0.092,
         "free sulfur dioxide": 15,
         "total sulfur dioxide": 54,
         "density": 0.997,
         "pH": 3.26,
         "sulphates": 0.65,
         "alcohol": 9.8,
         "is_red_wine": 1,
         "_deepnote_index_column": 2
        },
        {
         "const": 1,
         "fixed acidity": 11.2,
         "volatile acidity": 0.28,
         "citric acid": 0.56,
         "residual sugar": 1.9,
         "chlorides": 0.075,
         "free sulfur dioxide": 17,
         "total sulfur dioxide": 60,
         "density": 0.998,
         "pH": 3.16,
         "sulphates": 0.58,
         "alcohol": 9.8,
         "is_red_wine": 1,
         "_deepnote_index_column": 3
        },
        {
         "const": 1,
         "fixed acidity": 7.4,
         "volatile acidity": 0.7,
         "citric acid": 0,
         "residual sugar": 1.9,
         "chlorides": 0.076,
         "free sulfur dioxide": 11,
         "total sulfur dioxide": 34,
         "density": 0.9978,
         "pH": 3.51,
         "sulphates": 0.56,
         "alcohol": 9.4,
         "is_red_wine": 1,
         "_deepnote_index_column": 4
        }
       ],
       "rows_bottom": null
      },
      "text/plain": "   const  fixed acidity  volatile acidity  citric acid  residual sugar  \\\n0    1.0            7.4              0.70         0.00             1.9   \n1    1.0            7.8              0.88         0.00             2.6   \n2    1.0            7.8              0.76         0.04             2.3   \n3    1.0           11.2              0.28         0.56             1.9   \n4    1.0            7.4              0.70         0.00             1.9   \n\n   chlorides  free sulfur dioxide  total sulfur dioxide  density    pH  \\\n0      0.076                 11.0                  34.0   0.9978  3.51   \n1      0.098                 25.0                  67.0   0.9968  3.20   \n2      0.092                 15.0                  54.0   0.9970  3.26   \n3      0.075                 17.0                  60.0   0.9980  3.16   \n4      0.076                 11.0                  34.0   0.9978  3.51   \n\n   sulphates  alcohol  is_red_wine  \n0       0.56      9.4            1  \n1       0.68      9.8            1  \n2       0.65      9.8            1  \n3       0.58      9.8            1  \n4       0.56      9.4            1  ",
      "text/html": "<div>\n<style scoped>\n    .dataframe tbody tr th:only-of-type {\n        vertical-align: middle;\n    }\n\n    .dataframe tbody tr th {\n        vertical-align: top;\n    }\n\n    .dataframe thead th {\n        text-align: right;\n    }\n</style>\n<table border=\"1\" class=\"dataframe\">\n  <thead>\n    <tr style=\"text-align: right;\">\n      <th></th>\n      <th>const</th>\n      <th>fixed acidity</th>\n      <th>volatile acidity</th>\n      <th>citric acid</th>\n      <th>residual sugar</th>\n      <th>chlorides</th>\n      <th>free sulfur dioxide</th>\n      <th>total sulfur dioxide</th>\n      <th>density</th>\n      <th>pH</th>\n      <th>sulphates</th>\n      <th>alcohol</th>\n      <th>is_red_wine</th>\n    </tr>\n  </thead>\n  <tbody>\n    <tr>\n      <th>0</th>\n      <td>1.0</td>\n      <td>7.4</td>\n      <td>0.70</td>\n      <td>0.00</td>\n      <td>1.9</td>\n      <td>0.076</td>\n      <td>11.0</td>\n      <td>34.0</td>\n      <td>0.9978</td>\n      <td>3.51</td>\n      <td>0.56</td>\n      <td>9.4</td>\n      <td>1</td>\n    </tr>\n    <tr>\n      <th>1</th>\n      <td>1.0</td>\n      <td>7.8</td>\n      <td>0.88</td>\n      <td>0.00</td>\n      <td>2.6</td>\n      <td>0.098</td>\n      <td>25.0</td>\n      <td>67.0</td>\n      <td>0.9968</td>\n      <td>3.20</td>\n      <td>0.68</td>\n      <td>9.8</td>\n      <td>1</td>\n    </tr>\n    <tr>\n      <th>2</th>\n      <td>1.0</td>\n      <td>7.8</td>\n      <td>0.76</td>\n      <td>0.04</td>\n      <td>2.3</td>\n      <td>0.092</td>\n      <td>15.0</td>\n      <td>54.0</td>\n      <td>0.9970</td>\n      <td>3.26</td>\n      <td>0.65</td>\n      <td>9.8</td>\n      <td>1</td>\n    </tr>\n    <tr>\n      <th>3</th>\n      <td>1.0</td>\n      <td>11.2</td>\n      <td>0.28</td>\n      <td>0.56</td>\n      <td>1.9</td>\n      <td>0.075</td>\n      <td>17.0</td>\n      <td>60.0</td>\n      <td>0.9980</td>\n      <td>3.16</td>\n      <td>0.58</td>\n      <td>9.8</td>\n      <td>1</td>\n    </tr>\n    <tr>\n      <th>4</th>\n      <td>1.0</td>\n      <td>7.4</td>\n      <td>0.70</td>\n      <td>0.00</td>\n      <td>1.9</td>\n      <td>0.076</td>\n      <td>11.0</td>\n      <td>34.0</td>\n      <td>0.9978</td>\n      <td>3.51</td>\n      <td>0.56</td>\n      <td>9.4</td>\n      <td>1</td>\n    </tr>\n  </tbody>\n</table>\n</div>"
     },
     "metadata": {}
    }
   ],
   "execution_count": 72
  },
  {
   "cell_type": "code",
   "source": [
    "# If we didn't add a constant then the sm.Logit would not calculate the constant and assume (B0 = 0), which would alter our coefficients as well.\n",
    "# Now, let's fit the model to the data:"
   ],
   "metadata": {
    "tags": [],
    "cell_id": "00025-119b821d-ab12-4cad-b4aa-cffd6529df4d",
    "deepnote_cell_type": "code"
   },
   "outputs": [],
   "execution_count": null
  },
  {
   "cell_type": "code",
   "source": [
    "# Instantiate and fit the logistic regression model\n",
    "logreg = sm.Logit(y, X_const).fit()\n",
    "# Display the results \n",
    "logreg.summary()"
   ],
   "metadata": {
    "tags": [],
    "cell_id": "00026-5eb80c92-4174-45d7-b86c-a47aea61142e",
    "deepnote_to_be_reexecuted": false,
    "source_hash": "b589b327",
    "execution_start": 1611858218474,
    "execution_millis": 202,
    "deepnote_cell_type": "code"
   },
   "outputs": [
    {
     "name": "stdout",
     "text": "Optimization terminated successfully.\n         Current function value: 0.390855\n         Iterations 9\n",
     "output_type": "stream"
    },
    {
     "output_type": "execute_result",
     "execution_count": 73,
     "data": {
      "text/plain": "<class 'statsmodels.iolib.summary.Summary'>\n\"\"\"\n                           Logit Regression Results                           \n==============================================================================\nDep. Variable:                quality   No. Observations:                 6497\nModel:                          Logit   Df Residuals:                     6484\nMethod:                           MLE   Df Model:                           12\nDate:                Thu, 28 Jan 2021   Pseudo R-squ.:                  0.2113\nTime:                        18:23:38   Log-Likelihood:                -2539.4\nconverged:                       True   LL-Null:                       -3219.8\nCovariance Type:            nonrobust   LLR p-value:                3.799e-284\n========================================================================================\n                           coef    std err          z      P>|z|      [0.025      0.975]\n----------------------------------------------------------------------------------------\nconst                  402.0945     65.700      6.120      0.000     273.325     530.864\nfixed acidity            0.4940      0.067      7.362      0.000       0.362       0.626\nvolatile acidity        -3.6631      0.388     -9.437      0.000      -4.424      -2.902\ncitric acid             -0.2488      0.346     -0.719      0.472      -0.927       0.429\nresidual sugar           0.2198      0.026      8.367      0.000       0.168       0.271\nchlorides               -7.6116      2.497     -3.048      0.002     -12.507      -2.717\nfree sulfur dioxide      0.0108      0.003      3.657      0.000       0.005       0.017\ntotal sulfur dioxide    -0.0037      0.001     -2.776      0.006      -0.006      -0.001\ndensity               -423.7827     66.726     -6.351      0.000    -554.563    -293.003\npH                       2.5964      0.361      7.185      0.000       1.888       3.305\nsulphates                2.4586      0.285      8.615      0.000       1.899       3.018\nalcohol                  0.4541      0.081      5.618      0.000       0.296       0.613\nis_red_wine              0.7747      0.245      3.167      0.002       0.295       1.254\n========================================================================================\n\"\"\"",
      "text/html": "<table class=\"simpletable\">\n<caption>Logit Regression Results</caption>\n<tr>\n  <th>Dep. Variable:</th>        <td>quality</td>     <th>  No. Observations:  </th>   <td>  6497</td>  \n</tr>\n<tr>\n  <th>Model:</th>                 <td>Logit</td>      <th>  Df Residuals:      </th>   <td>  6484</td>  \n</tr>\n<tr>\n  <th>Method:</th>                 <td>MLE</td>       <th>  Df Model:          </th>   <td>    12</td>  \n</tr>\n<tr>\n  <th>Date:</th>            <td>Thu, 28 Jan 2021</td> <th>  Pseudo R-squ.:     </th>   <td>0.2113</td>  \n</tr>\n<tr>\n  <th>Time:</th>                <td>18:23:38</td>     <th>  Log-Likelihood:    </th>  <td> -2539.4</td> \n</tr>\n<tr>\n  <th>converged:</th>             <td>True</td>       <th>  LL-Null:           </th>  <td> -3219.8</td> \n</tr>\n<tr>\n  <th>Covariance Type:</th>     <td>nonrobust</td>    <th>  LLR p-value:       </th> <td>3.799e-284</td>\n</tr>\n</table>\n<table class=\"simpletable\">\n<tr>\n            <td></td>              <th>coef</th>     <th>std err</th>      <th>z</th>      <th>P>|z|</th>  <th>[0.025</th>    <th>0.975]</th>  \n</tr>\n<tr>\n  <th>const</th>                <td>  402.0945</td> <td>   65.700</td> <td>    6.120</td> <td> 0.000</td> <td>  273.325</td> <td>  530.864</td>\n</tr>\n<tr>\n  <th>fixed acidity</th>        <td>    0.4940</td> <td>    0.067</td> <td>    7.362</td> <td> 0.000</td> <td>    0.362</td> <td>    0.626</td>\n</tr>\n<tr>\n  <th>volatile acidity</th>     <td>   -3.6631</td> <td>    0.388</td> <td>   -9.437</td> <td> 0.000</td> <td>   -4.424</td> <td>   -2.902</td>\n</tr>\n<tr>\n  <th>citric acid</th>          <td>   -0.2488</td> <td>    0.346</td> <td>   -0.719</td> <td> 0.472</td> <td>   -0.927</td> <td>    0.429</td>\n</tr>\n<tr>\n  <th>residual sugar</th>       <td>    0.2198</td> <td>    0.026</td> <td>    8.367</td> <td> 0.000</td> <td>    0.168</td> <td>    0.271</td>\n</tr>\n<tr>\n  <th>chlorides</th>            <td>   -7.6116</td> <td>    2.497</td> <td>   -3.048</td> <td> 0.002</td> <td>  -12.507</td> <td>   -2.717</td>\n</tr>\n<tr>\n  <th>free sulfur dioxide</th>  <td>    0.0108</td> <td>    0.003</td> <td>    3.657</td> <td> 0.000</td> <td>    0.005</td> <td>    0.017</td>\n</tr>\n<tr>\n  <th>total sulfur dioxide</th> <td>   -0.0037</td> <td>    0.001</td> <td>   -2.776</td> <td> 0.006</td> <td>   -0.006</td> <td>   -0.001</td>\n</tr>\n<tr>\n  <th>density</th>              <td> -423.7827</td> <td>   66.726</td> <td>   -6.351</td> <td> 0.000</td> <td> -554.563</td> <td> -293.003</td>\n</tr>\n<tr>\n  <th>pH</th>                   <td>    2.5964</td> <td>    0.361</td> <td>    7.185</td> <td> 0.000</td> <td>    1.888</td> <td>    3.305</td>\n</tr>\n<tr>\n  <th>sulphates</th>            <td>    2.4586</td> <td>    0.285</td> <td>    8.615</td> <td> 0.000</td> <td>    1.899</td> <td>    3.018</td>\n</tr>\n<tr>\n  <th>alcohol</th>              <td>    0.4541</td> <td>    0.081</td> <td>    5.618</td> <td> 0.000</td> <td>    0.296</td> <td>    0.613</td>\n</tr>\n<tr>\n  <th>is_red_wine</th>          <td>    0.7747</td> <td>    0.245</td> <td>    3.167</td> <td> 0.002</td> <td>    0.295</td> <td>    1.254</td>\n</tr>\n</table>"
     },
     "metadata": {}
    }
   ],
   "execution_count": 73
  },
  {
   "cell_type": "code",
   "source": [
    "# We can now evaluate how well our model performed by looking at the accuracy of its predictions."
   ],
   "metadata": {
    "tags": [],
    "cell_id": "00027-ace2d591-737c-42d3-8a53-1cd1bc5354bc",
    "deepnote_to_be_reexecuted": false,
    "source_hash": "7fb70832",
    "execution_start": 1611858242443,
    "execution_millis": 1,
    "deepnote_cell_type": "code"
   },
   "outputs": [],
   "execution_count": 74
  },
  {
   "cell_type": "code",
   "source": [
    "# Check accuracy\n",
    "# Define a function to check logistic model accuracy\n",
    "def get_acc(logreg, X_const, y):\n",
    "    y_proba = logreg.predict(X_const)\n",
    "    y_pred = np.where(y_proba >= 0.5, 1, 0)\n",
    "    acc = (y_pred == y).mean()\n",
    "    print(f\"Accuracy: {acc}\")"
   ],
   "metadata": {
    "tags": [],
    "cell_id": "00028-317ff4a1-3fa9-4ef0-9006-7a069b027cc7",
    "deepnote_to_be_reexecuted": false,
    "source_hash": "81b7e0c8",
    "execution_start": 1611858260378,
    "execution_millis": 1,
    "deepnote_cell_type": "code"
   },
   "outputs": [],
   "execution_count": 75
  },
  {
   "cell_type": "code",
   "source": [
    "# Get model accuracy\n",
    "get_acc(logreg, X_const, y)"
   ],
   "metadata": {
    "tags": [],
    "cell_id": "00029-0c9ff12b-dfa7-4399-8bd3-80fe0e52c230",
    "deepnote_to_be_reexecuted": false,
    "source_hash": "b09f77c8",
    "execution_start": 1611858275509,
    "execution_millis": 1,
    "deepnote_cell_type": "code"
   },
   "outputs": [
    {
     "name": "stdout",
     "text": "Accuracy: 0.8182237955979683\n",
     "output_type": "stream"
    }
   ],
   "execution_count": 76
  },
  {
   "cell_type": "code",
   "source": [
    "# So our model had a accuracy score of 81.82% which is decent given we only used 12 variables and this was the first model specification we fit."
   ],
   "metadata": {
    "tags": [],
    "cell_id": "00030-e551d841-dbe5-4ed1-b851-971a8e89e385",
    "deepnote_cell_type": "code"
   },
   "outputs": [],
   "execution_count": null
  },
  {
   "cell_type": "code",
   "source": [
    "# Looking at the p-values"
   ],
   "metadata": {
    "tags": [],
    "cell_id": "00032-602c8045-51fe-4b0a-b173-aadc495e98eb",
    "deepnote_cell_type": "code"
   },
   "outputs": [],
   "execution_count": null
  },
  {
   "cell_type": "code",
   "source": [
    "# Drop 'citric acid' since it has p-values over 0.05\n",
    "X_const = X_const.drop([\"citric acid\"], axis=1)\n",
    "X_const"
   ],
   "metadata": {
    "tags": [],
    "cell_id": "00032-359143b5-467c-404f-b774-8e56bd427f90",
    "deepnote_to_be_reexecuted": false,
    "source_hash": "4667c6f3",
    "execution_start": 1611858589373,
    "execution_millis": 2,
    "deepnote_cell_type": "code"
   },
   "outputs": [
    {
     "output_type": "execute_result",
     "execution_count": 79,
     "data": {
      "application/vnd.deepnote.dataframe.v2+json": {
       "row_count": 6497,
       "column_count": 12,
       "columns": [
        {
         "name": "const",
         "dtype": "float64",
         "stats": {
          "unique_count": 1,
          "nan_count": 0,
          "min": 1,
          "max": 1,
          "histogram": [
           {
            "bin_start": 0.5,
            "bin_end": 0.6,
            "count": 0
           },
           {
            "bin_start": 0.6,
            "bin_end": 0.7,
            "count": 0
           },
           {
            "bin_start": 0.7,
            "bin_end": 0.8,
            "count": 0
           },
           {
            "bin_start": 0.8,
            "bin_end": 0.9,
            "count": 0
           },
           {
            "bin_start": 0.9,
            "bin_end": 1,
            "count": 0
           },
           {
            "bin_start": 1,
            "bin_end": 1.1,
            "count": 6497
           },
           {
            "bin_start": 1.1,
            "bin_end": 1.2000000000000002,
            "count": 0
           },
           {
            "bin_start": 1.2000000000000002,
            "bin_end": 1.3,
            "count": 0
           },
           {
            "bin_start": 1.3,
            "bin_end": 1.4,
            "count": 0
           },
           {
            "bin_start": 1.4,
            "bin_end": 1.5,
            "count": 0
           }
          ]
         }
        },
        {
         "name": "fixed acidity",
         "dtype": "float64",
         "stats": {
          "unique_count": 106,
          "nan_count": 0,
          "min": 3.8,
          "max": 15.9,
          "histogram": [
           {
            "bin_start": 3.8,
            "bin_end": 5.01,
            "count": 63
           },
           {
            "bin_start": 5.01,
            "bin_end": 6.220000000000001,
            "count": 1151
           },
           {
            "bin_start": 6.220000000000001,
            "bin_end": 7.430000000000001,
            "count": 3248
           },
           {
            "bin_start": 7.430000000000001,
            "bin_end": 8.64,
            "count": 1339
           },
           {
            "bin_start": 8.64,
            "bin_end": 9.850000000000001,
            "count": 382
           },
           {
            "bin_start": 9.850000000000001,
            "bin_end": 11.060000000000002,
            "count": 177
           },
           {
            "bin_start": 11.060000000000002,
            "bin_end": 12.27,
            "count": 82
           },
           {
            "bin_start": 12.27,
            "bin_end": 13.48,
            "count": 41
           },
           {
            "bin_start": 13.48,
            "bin_end": 14.690000000000001,
            "count": 7
           },
           {
            "bin_start": 14.690000000000001,
            "bin_end": 15.9,
            "count": 7
           }
          ]
         }
        },
        {
         "name": "volatile acidity",
         "dtype": "float64",
         "stats": {
          "unique_count": 187,
          "nan_count": 0,
          "min": 0.08,
          "max": 1.58,
          "histogram": [
           {
            "bin_start": 0.08,
            "bin_end": 0.22999999999999998,
            "count": 1580
           },
           {
            "bin_start": 0.22999999999999998,
            "bin_end": 0.38,
            "count": 3002
           },
           {
            "bin_start": 0.38,
            "bin_end": 0.5299999999999999,
            "count": 996
           },
           {
            "bin_start": 0.5299999999999999,
            "bin_end": 0.6799999999999999,
            "count": 606
           },
           {
            "bin_start": 0.6799999999999999,
            "bin_end": 0.83,
            "count": 214
           },
           {
            "bin_start": 0.83,
            "bin_end": 0.9799999999999999,
            "count": 70
           },
           {
            "bin_start": 0.9799999999999999,
            "bin_end": 1.1300000000000001,
            "count": 23
           },
           {
            "bin_start": 1.1300000000000001,
            "bin_end": 1.28,
            "count": 3
           },
           {
            "bin_start": 1.28,
            "bin_end": 1.43,
            "count": 2
           },
           {
            "bin_start": 1.43,
            "bin_end": 1.58,
            "count": 1
           }
          ]
         }
        },
        {
         "name": "residual sugar",
         "dtype": "float64",
         "stats": {
          "unique_count": 316,
          "nan_count": 0,
          "min": 0.6,
          "max": 65.8,
          "histogram": [
           {
            "bin_start": 0.6,
            "bin_end": 7.12,
            "count": 4551
           },
           {
            "bin_start": 7.12,
            "bin_end": 13.64,
            "count": 1396
           },
           {
            "bin_start": 13.64,
            "bin_end": 20.160000000000004,
            "count": 533
           },
           {
            "bin_start": 20.160000000000004,
            "bin_end": 26.680000000000003,
            "count": 14
           },
           {
            "bin_start": 26.680000000000003,
            "bin_end": 33.2,
            "count": 2
           },
           {
            "bin_start": 33.2,
            "bin_end": 39.720000000000006,
            "count": 0
           },
           {
            "bin_start": 39.720000000000006,
            "bin_end": 46.24,
            "count": 0
           },
           {
            "bin_start": 46.24,
            "bin_end": 52.760000000000005,
            "count": 0
           },
           {
            "bin_start": 52.760000000000005,
            "bin_end": 59.28000000000001,
            "count": 0
           },
           {
            "bin_start": 59.28000000000001,
            "bin_end": 65.8,
            "count": 1
           }
          ]
         }
        },
        {
         "name": "chlorides",
         "dtype": "float64",
         "stats": {
          "unique_count": 214,
          "nan_count": 0,
          "min": 0.009,
          "max": 0.611,
          "histogram": [
           {
            "bin_start": 0.009,
            "bin_end": 0.0692,
            "count": 5061
           },
           {
            "bin_start": 0.0692,
            "bin_end": 0.1294,
            "count": 1279
           },
           {
            "bin_start": 0.1294,
            "bin_end": 0.1896,
            "count": 92
           },
           {
            "bin_start": 0.1896,
            "bin_end": 0.2498,
            "count": 34
           },
           {
            "bin_start": 0.2498,
            "bin_end": 0.31,
            "count": 8
           },
           {
            "bin_start": 0.31,
            "bin_end": 0.3702,
            "count": 9
           },
           {
            "bin_start": 0.3702,
            "bin_end": 0.4304,
            "count": 10
           },
           {
            "bin_start": 0.4304,
            "bin_end": 0.4906,
            "count": 2
           },
           {
            "bin_start": 0.4906,
            "bin_end": 0.5508,
            "count": 0
           },
           {
            "bin_start": 0.5508,
            "bin_end": 0.611,
            "count": 2
           }
          ]
         }
        },
        {
         "name": "free sulfur dioxide",
         "dtype": "float64",
         "stats": {
          "unique_count": 135,
          "nan_count": 0,
          "min": 1,
          "max": 289,
          "histogram": [
           {
            "bin_start": 1,
            "bin_end": 29.8,
            "count": 3392
           },
           {
            "bin_start": 29.8,
            "bin_end": 58.6,
            "count": 2676
           },
           {
            "bin_start": 58.6,
            "bin_end": 87.4,
            "count": 401
           },
           {
            "bin_start": 87.4,
            "bin_end": 116.2,
            "count": 20
           },
           {
            "bin_start": 116.2,
            "bin_end": 145,
            "count": 6
           },
           {
            "bin_start": 145,
            "bin_end": 173.8,
            "count": 1
           },
           {
            "bin_start": 173.8,
            "bin_end": 202.6,
            "count": 0
           },
           {
            "bin_start": 202.6,
            "bin_end": 231.4,
            "count": 0
           },
           {
            "bin_start": 231.4,
            "bin_end": 260.2,
            "count": 0
           },
           {
            "bin_start": 260.2,
            "bin_end": 289,
            "count": 1
           }
          ]
         }
        },
        {
         "name": "total sulfur dioxide",
         "dtype": "float64",
         "stats": {
          "unique_count": 276,
          "nan_count": 0,
          "min": 6,
          "max": 440,
          "histogram": [
           {
            "bin_start": 6,
            "bin_end": 49.4,
            "count": 1088
           },
           {
            "bin_start": 49.4,
            "bin_end": 92.8,
            "count": 979
           },
           {
            "bin_start": 92.8,
            "bin_end": 136.2,
            "count": 2049
           },
           {
            "bin_start": 136.2,
            "bin_end": 179.6,
            "count": 1514
           },
           {
            "bin_start": 179.6,
            "bin_end": 223,
            "count": 721
           },
           {
            "bin_start": 223,
            "bin_end": 266.4,
            "count": 134
           },
           {
            "bin_start": 266.4,
            "bin_end": 309.8,
            "count": 8
           },
           {
            "bin_start": 309.8,
            "bin_end": 353.2,
            "count": 2
           },
           {
            "bin_start": 353.2,
            "bin_end": 396.59999999999997,
            "count": 1
           },
           {
            "bin_start": 396.59999999999997,
            "bin_end": 440,
            "count": 1
           }
          ]
         }
        },
        {
         "name": "density",
         "dtype": "float64",
         "stats": {
          "unique_count": 998,
          "nan_count": 0,
          "min": 0.98711,
          "max": 1.03898,
          "histogram": [
           {
            "bin_start": 0.98711,
            "bin_end": 0.992297,
            "count": 1599
           },
           {
            "bin_start": 0.992297,
            "bin_end": 0.997484,
            "count": 3645
           },
           {
            "bin_start": 0.997484,
            "bin_end": 1.002671,
            "count": 1241
           },
           {
            "bin_start": 1.002671,
            "bin_end": 1.0078580000000001,
            "count": 9
           },
           {
            "bin_start": 1.0078580000000001,
            "bin_end": 1.013045,
            "count": 2
           },
           {
            "bin_start": 1.013045,
            "bin_end": 1.018232,
            "count": 0
           },
           {
            "bin_start": 1.018232,
            "bin_end": 1.023419,
            "count": 0
           },
           {
            "bin_start": 1.023419,
            "bin_end": 1.028606,
            "count": 0
           },
           {
            "bin_start": 1.028606,
            "bin_end": 1.033793,
            "count": 0
           },
           {
            "bin_start": 1.033793,
            "bin_end": 1.03898,
            "count": 1
           }
          ]
         }
        },
        {
         "name": "pH",
         "dtype": "float64",
         "stats": {
          "unique_count": 108,
          "nan_count": 0,
          "min": 2.72,
          "max": 4.01,
          "histogram": [
           {
            "bin_start": 2.72,
            "bin_end": 2.849,
            "count": 16
           },
           {
            "bin_start": 2.849,
            "bin_end": 2.978,
            "count": 334
           },
           {
            "bin_start": 2.978,
            "bin_end": 3.107,
            "count": 1233
           },
           {
            "bin_start": 3.107,
            "bin_end": 3.2359999999999998,
            "count": 2111
           },
           {
            "bin_start": 3.2359999999999998,
            "bin_end": 3.365,
            "count": 1663
           },
           {
            "bin_start": 3.365,
            "bin_end": 3.4939999999999998,
            "count": 802
           },
           {
            "bin_start": 3.4939999999999998,
            "bin_end": 3.6229999999999998,
            "count": 263
           },
           {
            "bin_start": 3.6229999999999998,
            "bin_end": 3.752,
            "count": 59
           },
           {
            "bin_start": 3.752,
            "bin_end": 3.881,
            "count": 12
           },
           {
            "bin_start": 3.881,
            "bin_end": 4.01,
            "count": 4
           }
          ]
         }
        },
        {
         "name": "sulphates",
         "dtype": "float64",
         "stats": {
          "unique_count": 111,
          "nan_count": 0,
          "min": 0.22,
          "max": 2,
          "histogram": [
           {
            "bin_start": 0.22,
            "bin_end": 0.398,
            "count": 1023
           },
           {
            "bin_start": 0.398,
            "bin_end": 0.576,
            "count": 3451
           },
           {
            "bin_start": 0.576,
            "bin_end": 0.754,
            "count": 1540
           },
           {
            "bin_start": 0.754,
            "bin_end": 0.9319999999999999,
            "count": 382
           },
           {
            "bin_start": 0.9319999999999999,
            "bin_end": 1.1099999999999999,
            "count": 66
           },
           {
            "bin_start": 1.1099999999999999,
            "bin_end": 1.288,
            "count": 21
           },
           {
            "bin_start": 1.288,
            "bin_end": 1.466,
            "count": 6
           },
           {
            "bin_start": 1.466,
            "bin_end": 1.644,
            "count": 4
           },
           {
            "bin_start": 1.644,
            "bin_end": 1.8219999999999998,
            "count": 0
           },
           {
            "bin_start": 1.8219999999999998,
            "bin_end": 2,
            "count": 4
           }
          ]
         }
        },
        {
         "name": "alcohol",
         "dtype": "float64",
         "stats": {
          "unique_count": 111,
          "nan_count": 0,
          "min": 8,
          "max": 14.9,
          "histogram": [
           {
            "bin_start": 8,
            "bin_end": 8.69,
            "count": 40
           },
           {
            "bin_start": 8.69,
            "bin_end": 9.38,
            "count": 1133
           },
           {
            "bin_start": 9.38,
            "bin_end": 10.07,
            "count": 1662
           },
           {
            "bin_start": 10.07,
            "bin_end": 10.76,
            "count": 1156
           },
           {
            "bin_start": 10.76,
            "bin_end": 11.45,
            "count": 1092
           },
           {
            "bin_start": 11.45,
            "bin_end": 12.14,
            "count": 628
           },
           {
            "bin_start": 12.14,
            "bin_end": 12.83,
            "count": 569
           },
           {
            "bin_start": 12.83,
            "bin_end": 13.52,
            "count": 175
           },
           {
            "bin_start": 13.52,
            "bin_end": 14.21,
            "count": 41
           },
           {
            "bin_start": 14.21,
            "bin_end": 14.9,
            "count": 1
           }
          ]
         }
        },
        {
         "name": "is_red_wine",
         "dtype": "int64",
         "stats": {
          "unique_count": 2,
          "nan_count": 0,
          "min": 0,
          "max": 1,
          "histogram": [
           {
            "bin_start": 0,
            "bin_end": 0.1,
            "count": 4898
           },
           {
            "bin_start": 0.1,
            "bin_end": 0.2,
            "count": 0
           },
           {
            "bin_start": 0.2,
            "bin_end": 0.30000000000000004,
            "count": 0
           },
           {
            "bin_start": 0.30000000000000004,
            "bin_end": 0.4,
            "count": 0
           },
           {
            "bin_start": 0.4,
            "bin_end": 0.5,
            "count": 0
           },
           {
            "bin_start": 0.5,
            "bin_end": 0.6000000000000001,
            "count": 0
           },
           {
            "bin_start": 0.6000000000000001,
            "bin_end": 0.7000000000000001,
            "count": 0
           },
           {
            "bin_start": 0.7000000000000001,
            "bin_end": 0.8,
            "count": 0
           },
           {
            "bin_start": 0.8,
            "bin_end": 0.9,
            "count": 0
           },
           {
            "bin_start": 0.9,
            "bin_end": 1,
            "count": 1599
           }
          ]
         }
        },
        {
         "name": "_deepnote_index_column",
         "dtype": "int64"
        }
       ],
       "rows_top": [
        {
         "const": 1,
         "fixed acidity": 7.4,
         "volatile acidity": 0.7,
         "residual sugar": 1.9,
         "chlorides": 0.076,
         "free sulfur dioxide": 11,
         "total sulfur dioxide": 34,
         "density": 0.9978,
         "pH": 3.51,
         "sulphates": 0.56,
         "alcohol": 9.4,
         "is_red_wine": 1,
         "_deepnote_index_column": 0
        },
        {
         "const": 1,
         "fixed acidity": 7.8,
         "volatile acidity": 0.88,
         "residual sugar": 2.6,
         "chlorides": 0.098,
         "free sulfur dioxide": 25,
         "total sulfur dioxide": 67,
         "density": 0.9968,
         "pH": 3.2,
         "sulphates": 0.68,
         "alcohol": 9.8,
         "is_red_wine": 1,
         "_deepnote_index_column": 1
        },
        {
         "const": 1,
         "fixed acidity": 7.8,
         "volatile acidity": 0.76,
         "residual sugar": 2.3,
         "chlorides": 0.092,
         "free sulfur dioxide": 15,
         "total sulfur dioxide": 54,
         "density": 0.997,
         "pH": 3.26,
         "sulphates": 0.65,
         "alcohol": 9.8,
         "is_red_wine": 1,
         "_deepnote_index_column": 2
        },
        {
         "const": 1,
         "fixed acidity": 11.2,
         "volatile acidity": 0.28,
         "residual sugar": 1.9,
         "chlorides": 0.075,
         "free sulfur dioxide": 17,
         "total sulfur dioxide": 60,
         "density": 0.998,
         "pH": 3.16,
         "sulphates": 0.58,
         "alcohol": 9.8,
         "is_red_wine": 1,
         "_deepnote_index_column": 3
        },
        {
         "const": 1,
         "fixed acidity": 7.4,
         "volatile acidity": 0.7,
         "residual sugar": 1.9,
         "chlorides": 0.076,
         "free sulfur dioxide": 11,
         "total sulfur dioxide": 34,
         "density": 0.9978,
         "pH": 3.51,
         "sulphates": 0.56,
         "alcohol": 9.4,
         "is_red_wine": 1,
         "_deepnote_index_column": 4
        },
        {
         "const": 1,
         "fixed acidity": 7.4,
         "volatile acidity": 0.66,
         "residual sugar": 1.8,
         "chlorides": 0.075,
         "free sulfur dioxide": 13,
         "total sulfur dioxide": 40,
         "density": 0.9978,
         "pH": 3.51,
         "sulphates": 0.56,
         "alcohol": 9.4,
         "is_red_wine": 1,
         "_deepnote_index_column": 5
        },
        {
         "const": 1,
         "fixed acidity": 7.9,
         "volatile acidity": 0.6,
         "residual sugar": 1.6,
         "chlorides": 0.069,
         "free sulfur dioxide": 15,
         "total sulfur dioxide": 59,
         "density": 0.9964,
         "pH": 3.3,
         "sulphates": 0.46,
         "alcohol": 9.4,
         "is_red_wine": 1,
         "_deepnote_index_column": 6
        },
        {
         "const": 1,
         "fixed acidity": 7.3,
         "volatile acidity": 0.65,
         "residual sugar": 1.2,
         "chlorides": 0.065,
         "free sulfur dioxide": 15,
         "total sulfur dioxide": 21,
         "density": 0.9946,
         "pH": 3.39,
         "sulphates": 0.47,
         "alcohol": 10,
         "is_red_wine": 1,
         "_deepnote_index_column": 7
        },
        {
         "const": 1,
         "fixed acidity": 7.8,
         "volatile acidity": 0.58,
         "residual sugar": 2,
         "chlorides": 0.073,
         "free sulfur dioxide": 9,
         "total sulfur dioxide": 18,
         "density": 0.9968,
         "pH": 3.36,
         "sulphates": 0.57,
         "alcohol": 9.5,
         "is_red_wine": 1,
         "_deepnote_index_column": 8
        },
        {
         "const": 1,
         "fixed acidity": 7.5,
         "volatile acidity": 0.5,
         "residual sugar": 6.1,
         "chlorides": 0.071,
         "free sulfur dioxide": 17,
         "total sulfur dioxide": 102,
         "density": 0.9978,
         "pH": 3.35,
         "sulphates": 0.8,
         "alcohol": 10.5,
         "is_red_wine": 1,
         "_deepnote_index_column": 9
        },
        {
         "const": 1,
         "fixed acidity": 6.7,
         "volatile acidity": 0.58,
         "residual sugar": 1.8,
         "chlorides": 0.0969999999999999,
         "free sulfur dioxide": 15,
         "total sulfur dioxide": 65,
         "density": 0.9959,
         "pH": 3.28,
         "sulphates": 0.54,
         "alcohol": 9.2,
         "is_red_wine": 1,
         "_deepnote_index_column": 10
        },
        {
         "const": 1,
         "fixed acidity": 7.5,
         "volatile acidity": 0.5,
         "residual sugar": 6.1,
         "chlorides": 0.071,
         "free sulfur dioxide": 17,
         "total sulfur dioxide": 102,
         "density": 0.9978,
         "pH": 3.35,
         "sulphates": 0.8,
         "alcohol": 10.5,
         "is_red_wine": 1,
         "_deepnote_index_column": 11
        },
        {
         "const": 1,
         "fixed acidity": 5.6,
         "volatile acidity": 0.615,
         "residual sugar": 1.6,
         "chlorides": 0.089,
         "free sulfur dioxide": 16,
         "total sulfur dioxide": 59,
         "density": 0.9943,
         "pH": 3.58,
         "sulphates": 0.52,
         "alcohol": 9.9,
         "is_red_wine": 1,
         "_deepnote_index_column": 12
        },
        {
         "const": 1,
         "fixed acidity": 7.8,
         "volatile acidity": 0.61,
         "residual sugar": 1.6,
         "chlorides": 0.114,
         "free sulfur dioxide": 9,
         "total sulfur dioxide": 29,
         "density": 0.9974,
         "pH": 3.26,
         "sulphates": 1.56,
         "alcohol": 9.1,
         "is_red_wine": 1,
         "_deepnote_index_column": 13
        },
        {
         "const": 1,
         "fixed acidity": 8.9,
         "volatile acidity": 0.62,
         "residual sugar": 3.8,
         "chlorides": 0.176,
         "free sulfur dioxide": 52,
         "total sulfur dioxide": 145,
         "density": 0.9986,
         "pH": 3.16,
         "sulphates": 0.88,
         "alcohol": 9.2,
         "is_red_wine": 1,
         "_deepnote_index_column": 14
        },
        {
         "const": 1,
         "fixed acidity": 8.9,
         "volatile acidity": 0.62,
         "residual sugar": 3.9,
         "chlorides": 0.17,
         "free sulfur dioxide": 51,
         "total sulfur dioxide": 148,
         "density": 0.9986,
         "pH": 3.17,
         "sulphates": 0.93,
         "alcohol": 9.2,
         "is_red_wine": 1,
         "_deepnote_index_column": 15
        },
        {
         "const": 1,
         "fixed acidity": 8.5,
         "volatile acidity": 0.28,
         "residual sugar": 1.8,
         "chlorides": 0.092,
         "free sulfur dioxide": 35,
         "total sulfur dioxide": 103,
         "density": 0.9969,
         "pH": 3.3,
         "sulphates": 0.75,
         "alcohol": 10.5,
         "is_red_wine": 1,
         "_deepnote_index_column": 16
        },
        {
         "const": 1,
         "fixed acidity": 8.1,
         "volatile acidity": 0.56,
         "residual sugar": 1.7,
         "chlorides": 0.368,
         "free sulfur dioxide": 16,
         "total sulfur dioxide": 56,
         "density": 0.9968,
         "pH": 3.11,
         "sulphates": 1.28,
         "alcohol": 9.3,
         "is_red_wine": 1,
         "_deepnote_index_column": 17
        },
        {
         "const": 1,
         "fixed acidity": 7.4,
         "volatile acidity": 0.59,
         "residual sugar": 4.4,
         "chlorides": 0.086,
         "free sulfur dioxide": 6,
         "total sulfur dioxide": 29,
         "density": 0.9974,
         "pH": 3.38,
         "sulphates": 0.5,
         "alcohol": 9,
         "is_red_wine": 1,
         "_deepnote_index_column": 18
        },
        {
         "const": 1,
         "fixed acidity": 7.9,
         "volatile acidity": 0.32,
         "residual sugar": 1.8,
         "chlorides": 0.341,
         "free sulfur dioxide": 17,
         "total sulfur dioxide": 56,
         "density": 0.9969,
         "pH": 3.04,
         "sulphates": 1.08,
         "alcohol": 9.2,
         "is_red_wine": 1,
         "_deepnote_index_column": 19
        },
        {
         "const": 1,
         "fixed acidity": 8.9,
         "volatile acidity": 0.22,
         "residual sugar": 1.8,
         "chlorides": 0.077,
         "free sulfur dioxide": 29,
         "total sulfur dioxide": 60,
         "density": 0.9968,
         "pH": 3.39,
         "sulphates": 0.53,
         "alcohol": 9.4,
         "is_red_wine": 1,
         "_deepnote_index_column": 20
        },
        {
         "const": 1,
         "fixed acidity": 7.6,
         "volatile acidity": 0.39,
         "residual sugar": 2.3,
         "chlorides": 0.0819999999999999,
         "free sulfur dioxide": 23,
         "total sulfur dioxide": 71,
         "density": 0.9982,
         "pH": 3.52,
         "sulphates": 0.65,
         "alcohol": 9.7,
         "is_red_wine": 1,
         "_deepnote_index_column": 21
        },
        {
         "const": 1,
         "fixed acidity": 7.9,
         "volatile acidity": 0.43,
         "residual sugar": 1.6,
         "chlorides": 0.106,
         "free sulfur dioxide": 10,
         "total sulfur dioxide": 37,
         "density": 0.9966,
         "pH": 3.17,
         "sulphates": 0.91,
         "alcohol": 9.5,
         "is_red_wine": 1,
         "_deepnote_index_column": 22
        },
        {
         "const": 1,
         "fixed acidity": 8.5,
         "volatile acidity": 0.49,
         "residual sugar": 2.3,
         "chlorides": 0.084,
         "free sulfur dioxide": 9,
         "total sulfur dioxide": 67,
         "density": 0.9968,
         "pH": 3.17,
         "sulphates": 0.53,
         "alcohol": 9.4,
         "is_red_wine": 1,
         "_deepnote_index_column": 23
        },
        {
         "const": 1,
         "fixed acidity": 6.9,
         "volatile acidity": 0.4,
         "residual sugar": 2.4,
         "chlorides": 0.085,
         "free sulfur dioxide": 21,
         "total sulfur dioxide": 40,
         "density": 0.9968,
         "pH": 3.43,
         "sulphates": 0.63,
         "alcohol": 9.7,
         "is_red_wine": 1,
         "_deepnote_index_column": 24
        },
        {
         "const": 1,
         "fixed acidity": 6.3,
         "volatile acidity": 0.39,
         "residual sugar": 1.4,
         "chlorides": 0.08,
         "free sulfur dioxide": 11,
         "total sulfur dioxide": 23,
         "density": 0.9955,
         "pH": 3.34,
         "sulphates": 0.56,
         "alcohol": 9.3,
         "is_red_wine": 1,
         "_deepnote_index_column": 25
        },
        {
         "const": 1,
         "fixed acidity": 7.6,
         "volatile acidity": 0.41,
         "residual sugar": 1.8,
         "chlorides": 0.08,
         "free sulfur dioxide": 4,
         "total sulfur dioxide": 11,
         "density": 0.9962,
         "pH": 3.28,
         "sulphates": 0.59,
         "alcohol": 9.5,
         "is_red_wine": 1,
         "_deepnote_index_column": 26
        },
        {
         "const": 1,
         "fixed acidity": 7.9,
         "volatile acidity": 0.43,
         "residual sugar": 1.6,
         "chlorides": 0.106,
         "free sulfur dioxide": 10,
         "total sulfur dioxide": 37,
         "density": 0.9966,
         "pH": 3.17,
         "sulphates": 0.91,
         "alcohol": 9.5,
         "is_red_wine": 1,
         "_deepnote_index_column": 27
        },
        {
         "const": 1,
         "fixed acidity": 7.1,
         "volatile acidity": 0.71,
         "residual sugar": 1.9,
         "chlorides": 0.08,
         "free sulfur dioxide": 14,
         "total sulfur dioxide": 35,
         "density": 0.9972,
         "pH": 3.47,
         "sulphates": 0.55,
         "alcohol": 9.4,
         "is_red_wine": 1,
         "_deepnote_index_column": 28
        },
        {
         "const": 1,
         "fixed acidity": 7.8,
         "volatile acidity": 0.645,
         "residual sugar": 2,
         "chlorides": 0.0819999999999999,
         "free sulfur dioxide": 8,
         "total sulfur dioxide": 16,
         "density": 0.9964,
         "pH": 3.38,
         "sulphates": 0.59,
         "alcohol": 9.8,
         "is_red_wine": 1,
         "_deepnote_index_column": 29
        },
        {
         "const": 1,
         "fixed acidity": 6.7,
         "volatile acidity": 0.675,
         "residual sugar": 2.4,
         "chlorides": 0.089,
         "free sulfur dioxide": 17,
         "total sulfur dioxide": 82,
         "density": 0.9958,
         "pH": 3.35,
         "sulphates": 0.54,
         "alcohol": 10.1,
         "is_red_wine": 1,
         "_deepnote_index_column": 30
        },
        {
         "const": 1,
         "fixed acidity": 6.9,
         "volatile acidity": 0.685,
         "residual sugar": 2.5,
         "chlorides": 0.105,
         "free sulfur dioxide": 22,
         "total sulfur dioxide": 37,
         "density": 0.9966,
         "pH": 3.46,
         "sulphates": 0.57,
         "alcohol": 10.6,
         "is_red_wine": 1,
         "_deepnote_index_column": 31
        },
        {
         "const": 1,
         "fixed acidity": 8.3,
         "volatile acidity": 0.655,
         "residual sugar": 2.3,
         "chlorides": 0.083,
         "free sulfur dioxide": 15,
         "total sulfur dioxide": 113,
         "density": 0.9966,
         "pH": 3.17,
         "sulphates": 0.66,
         "alcohol": 9.8,
         "is_red_wine": 1,
         "_deepnote_index_column": 32
        },
        {
         "const": 1,
         "fixed acidity": 6.9,
         "volatile acidity": 0.605,
         "residual sugar": 10.7,
         "chlorides": 0.073,
         "free sulfur dioxide": 40,
         "total sulfur dioxide": 83,
         "density": 0.9993,
         "pH": 3.45,
         "sulphates": 0.52,
         "alcohol": 9.4,
         "is_red_wine": 1,
         "_deepnote_index_column": 33
        },
        {
         "const": 1,
         "fixed acidity": 5.2,
         "volatile acidity": 0.32,
         "residual sugar": 1.8,
         "chlorides": 0.103,
         "free sulfur dioxide": 13,
         "total sulfur dioxide": 50,
         "density": 0.9957,
         "pH": 3.38,
         "sulphates": 0.55,
         "alcohol": 9.2,
         "is_red_wine": 1,
         "_deepnote_index_column": 34
        },
        {
         "const": 1,
         "fixed acidity": 7.8,
         "volatile acidity": 0.645,
         "residual sugar": 5.5,
         "chlorides": 0.086,
         "free sulfur dioxide": 5,
         "total sulfur dioxide": 18,
         "density": 0.9986,
         "pH": 3.4,
         "sulphates": 0.55,
         "alcohol": 9.6,
         "is_red_wine": 1,
         "_deepnote_index_column": 35
        },
        {
         "const": 1,
         "fixed acidity": 7.8,
         "volatile acidity": 0.6,
         "residual sugar": 2.4,
         "chlorides": 0.086,
         "free sulfur dioxide": 3,
         "total sulfur dioxide": 15,
         "density": 0.9975,
         "pH": 3.42,
         "sulphates": 0.6,
         "alcohol": 10.8,
         "is_red_wine": 1,
         "_deepnote_index_column": 36
        },
        {
         "const": 1,
         "fixed acidity": 8.1,
         "volatile acidity": 0.38,
         "residual sugar": 2.1,
         "chlorides": 0.066,
         "free sulfur dioxide": 13,
         "total sulfur dioxide": 30,
         "density": 0.9968,
         "pH": 3.23,
         "sulphates": 0.73,
         "alcohol": 9.7,
         "is_red_wine": 1,
         "_deepnote_index_column": 37
        },
        {
         "const": 1,
         "fixed acidity": 5.7,
         "volatile acidity": 1.13,
         "residual sugar": 1.5,
         "chlorides": 0.172,
         "free sulfur dioxide": 7,
         "total sulfur dioxide": 19,
         "density": 0.994,
         "pH": 3.5,
         "sulphates": 0.48,
         "alcohol": 9.8,
         "is_red_wine": 1,
         "_deepnote_index_column": 38
        },
        {
         "const": 1,
         "fixed acidity": 7.3,
         "volatile acidity": 0.45,
         "residual sugar": 5.9,
         "chlorides": 0.074,
         "free sulfur dioxide": 12,
         "total sulfur dioxide": 87,
         "density": 0.9978,
         "pH": 3.33,
         "sulphates": 0.83,
         "alcohol": 10.5,
         "is_red_wine": 1,
         "_deepnote_index_column": 39
        },
        {
         "const": 1,
         "fixed acidity": 7.3,
         "volatile acidity": 0.45,
         "residual sugar": 5.9,
         "chlorides": 0.074,
         "free sulfur dioxide": 12,
         "total sulfur dioxide": 87,
         "density": 0.9978,
         "pH": 3.33,
         "sulphates": 0.83,
         "alcohol": 10.5,
         "is_red_wine": 1,
         "_deepnote_index_column": 40
        }
       ],
       "rows_bottom": [
        {
         "const": 1,
         "fixed acidity": 7.1,
         "volatile acidity": 0.23,
         "residual sugar": 13.7,
         "chlorides": 0.0579999999999999,
         "free sulfur dioxide": 26,
         "total sulfur dioxide": 172,
         "density": 0.99755,
         "pH": 2.9,
         "sulphates": 0.46,
         "alcohol": 9,
         "is_red_wine": 0,
         "_deepnote_index_column": 6455
        },
        {
         "const": 1,
         "fixed acidity": 7.5,
         "volatile acidity": 0.38,
         "residual sugar": 9.2,
         "chlorides": 0.043,
         "free sulfur dioxide": 19,
         "total sulfur dioxide": 116,
         "density": 0.99444,
         "pH": 3.08,
         "sulphates": 0.42,
         "alcohol": 11.4,
         "is_red_wine": 0,
         "_deepnote_index_column": 6456
        },
        {
         "const": 1,
         "fixed acidity": 6.4,
         "volatile acidity": 0.35,
         "residual sugar": 7.8,
         "chlorides": 0.055,
         "free sulfur dioxide": 53,
         "total sulfur dioxide": 177,
         "density": 0.99502,
         "pH": 3.12,
         "sulphates": 0.45,
         "alcohol": 9.6,
         "is_red_wine": 0,
         "_deepnote_index_column": 6457
        },
        {
         "const": 1,
         "fixed acidity": 6,
         "volatile acidity": 0.43,
         "residual sugar": 7.6,
         "chlorides": 0.045,
         "free sulfur dioxide": 25,
         "total sulfur dioxide": 118,
         "density": 0.99222,
         "pH": 3.03,
         "sulphates": 0.37,
         "alcohol": 11,
         "is_red_wine": 0,
         "_deepnote_index_column": 6458
        },
        {
         "const": 1,
         "fixed acidity": 6,
         "volatile acidity": 0.52,
         "residual sugar": 7.7,
         "chlorides": 0.046,
         "free sulfur dioxide": 24,
         "total sulfur dioxide": 119,
         "density": 0.99224,
         "pH": 3.04,
         "sulphates": 0.38,
         "alcohol": 11,
         "is_red_wine": 0,
         "_deepnote_index_column": 6459
        },
        {
         "const": 1,
         "fixed acidity": 5.5,
         "volatile acidity": 0.31,
         "residual sugar": 3,
         "chlorides": 0.027,
         "free sulfur dioxide": 16,
         "total sulfur dioxide": 102,
         "density": 0.99067,
         "pH": 3.23,
         "sulphates": 0.56,
         "alcohol": 11.2,
         "is_red_wine": 0,
         "_deepnote_index_column": 6460
        },
        {
         "const": 1,
         "fixed acidity": 5.9,
         "volatile acidity": 0.22,
         "residual sugar": 1.3,
         "chlorides": 0.052,
         "free sulfur dioxide": 42,
         "total sulfur dioxide": 86,
         "density": 0.99069,
         "pH": 3.31,
         "sulphates": 0.47,
         "alcohol": 11.55,
         "is_red_wine": 0,
         "_deepnote_index_column": 6461
        },
        {
         "const": 1,
         "fixed acidity": 6.2,
         "volatile acidity": 0.36,
         "residual sugar": 4,
         "chlorides": 0.036,
         "free sulfur dioxide": 44,
         "total sulfur dioxide": 92,
         "density": 0.98936,
         "pH": 3.2,
         "sulphates": 0.5,
         "alcohol": 13.3,
         "is_red_wine": 0,
         "_deepnote_index_column": 6462
        },
        {
         "const": 1,
         "fixed acidity": 6,
         "volatile acidity": 0.41,
         "residual sugar": 1.1,
         "chlorides": 0.066,
         "free sulfur dioxide": 22,
         "total sulfur dioxide": 148,
         "density": 0.99266,
         "pH": 3.3,
         "sulphates": 0.47,
         "alcohol": 9.63333333333333,
         "is_red_wine": 0,
         "_deepnote_index_column": 6463
        },
        {
         "const": 1,
         "fixed acidity": 6.2,
         "volatile acidity": 0.355,
         "residual sugar": 2,
         "chlorides": 0.046,
         "free sulfur dioxide": 31,
         "total sulfur dioxide": 95,
         "density": 0.98822,
         "pH": 3.06,
         "sulphates": 0.46,
         "alcohol": 13.6,
         "is_red_wine": 0,
         "_deepnote_index_column": 6464
        },
        {
         "const": 1,
         "fixed acidity": 5.7,
         "volatile acidity": 0.41,
         "residual sugar": 1.9,
         "chlorides": 0.048,
         "free sulfur dioxide": 30,
         "total sulfur dioxide": 112,
         "density": 0.99138,
         "pH": 3.29,
         "sulphates": 0.55,
         "alcohol": 11.2,
         "is_red_wine": 0,
         "_deepnote_index_column": 6465
        },
        {
         "const": 1,
         "fixed acidity": 5.3,
         "volatile acidity": 0.6,
         "residual sugar": 1.4,
         "chlorides": 0.031,
         "free sulfur dioxide": 3,
         "total sulfur dioxide": 60,
         "density": 0.98854,
         "pH": 3.27,
         "sulphates": 0.38,
         "alcohol": 13,
         "is_red_wine": 0,
         "_deepnote_index_column": 6466
        },
        {
         "const": 1,
         "fixed acidity": 5.8,
         "volatile acidity": 0.23,
         "residual sugar": 4.5,
         "chlorides": 0.046,
         "free sulfur dioxide": 42,
         "total sulfur dioxide": 124,
         "density": 0.99324,
         "pH": 3.31,
         "sulphates": 0.64,
         "alcohol": 10.8,
         "is_red_wine": 0,
         "_deepnote_index_column": 6467
        },
        {
         "const": 1,
         "fixed acidity": 6.6,
         "volatile acidity": 0.24,
         "residual sugar": 10.1,
         "chlorides": 0.032,
         "free sulfur dioxide": 8,
         "total sulfur dioxide": 81,
         "density": 0.99626,
         "pH": 3.19,
         "sulphates": 0.51,
         "alcohol": 9.8,
         "is_red_wine": 0,
         "_deepnote_index_column": 6468
        },
        {
         "const": 1,
         "fixed acidity": 6.1,
         "volatile acidity": 0.32,
         "residual sugar": 6.6,
         "chlorides": 0.021,
         "free sulfur dioxide": 29,
         "total sulfur dioxide": 132,
         "density": 0.99188,
         "pH": 3.15,
         "sulphates": 0.36,
         "alcohol": 11.45,
         "is_red_wine": 0,
         "_deepnote_index_column": 6469
        },
        {
         "const": 1,
         "fixed acidity": 5,
         "volatile acidity": 0.2,
         "residual sugar": 1.9,
         "chlorides": 0.015,
         "free sulfur dioxide": 20,
         "total sulfur dioxide": 98,
         "density": 0.9897,
         "pH": 3.37,
         "sulphates": 0.55,
         "alcohol": 12.05,
         "is_red_wine": 0,
         "_deepnote_index_column": 6470
        },
        {
         "const": 1,
         "fixed acidity": 6,
         "volatile acidity": 0.42,
         "residual sugar": 12.4,
         "chlorides": 0.032,
         "free sulfur dioxide": 50,
         "total sulfur dioxide": 179,
         "density": 0.99622,
         "pH": 3.14,
         "sulphates": 0.6,
         "alcohol": 9.7,
         "is_red_wine": 0,
         "_deepnote_index_column": 6471
        },
        {
         "const": 1,
         "fixed acidity": 5.7,
         "volatile acidity": 0.21,
         "residual sugar": 1.6,
         "chlorides": 0.03,
         "free sulfur dioxide": 33,
         "total sulfur dioxide": 122,
         "density": 0.99044,
         "pH": 3.33,
         "sulphates": 0.52,
         "alcohol": 11.9,
         "is_red_wine": 0,
         "_deepnote_index_column": 6472
        },
        {
         "const": 1,
         "fixed acidity": 5.6,
         "volatile acidity": 0.2,
         "residual sugar": 2.5,
         "chlorides": 0.048,
         "free sulfur dioxide": 16,
         "total sulfur dioxide": 125,
         "density": 0.99282,
         "pH": 3.49,
         "sulphates": 0.49,
         "alcohol": 10,
         "is_red_wine": 0,
         "_deepnote_index_column": 6473
        },
        {
         "const": 1,
         "fixed acidity": 7.4,
         "volatile acidity": 0.22,
         "residual sugar": 1.2,
         "chlorides": 0.035,
         "free sulfur dioxide": 18,
         "total sulfur dioxide": 97,
         "density": 0.99245,
         "pH": 3.12,
         "sulphates": 0.41,
         "alcohol": 9.7,
         "is_red_wine": 0,
         "_deepnote_index_column": 6474
        },
        {
         "const": 1,
         "fixed acidity": 6.2,
         "volatile acidity": 0.38,
         "residual sugar": 2.5,
         "chlorides": 0.038,
         "free sulfur dioxide": 34,
         "total sulfur dioxide": 117,
         "density": 0.99132,
         "pH": 3.36,
         "sulphates": 0.59,
         "alcohol": 11.6,
         "is_red_wine": 0,
         "_deepnote_index_column": 6475
        },
        {
         "const": 1,
         "fixed acidity": 5.9,
         "volatile acidity": 0.54,
         "residual sugar": 0.8,
         "chlorides": 0.032,
         "free sulfur dioxide": 12,
         "total sulfur dioxide": 82,
         "density": 0.99286,
         "pH": 3.25,
         "sulphates": 0.36,
         "alcohol": 8.8,
         "is_red_wine": 0,
         "_deepnote_index_column": 6476
        },
        {
         "const": 1,
         "fixed acidity": 6.2,
         "volatile acidity": 0.53,
         "residual sugar": 0.9,
         "chlorides": 0.035,
         "free sulfur dioxide": 6,
         "total sulfur dioxide": 81,
         "density": 0.99234,
         "pH": 3.24,
         "sulphates": 0.35,
         "alcohol": 9.5,
         "is_red_wine": 0,
         "_deepnote_index_column": 6477
        },
        {
         "const": 1,
         "fixed acidity": 6.6,
         "volatile acidity": 0.34,
         "residual sugar": 8.1,
         "chlorides": 0.046,
         "free sulfur dioxide": 68,
         "total sulfur dioxide": 170,
         "density": 0.99494,
         "pH": 3.15,
         "sulphates": 0.5,
         "alcohol": 9.53333333333333,
         "is_red_wine": 0,
         "_deepnote_index_column": 6478
        },
        {
         "const": 1,
         "fixed acidity": 6.6,
         "volatile acidity": 0.34,
         "residual sugar": 8.1,
         "chlorides": 0.046,
         "free sulfur dioxide": 68,
         "total sulfur dioxide": 170,
         "density": 0.99494,
         "pH": 3.15,
         "sulphates": 0.5,
         "alcohol": 9.53333333333333,
         "is_red_wine": 0,
         "_deepnote_index_column": 6479
        },
        {
         "const": 1,
         "fixed acidity": 5,
         "volatile acidity": 0.235,
         "residual sugar": 11.75,
         "chlorides": 0.03,
         "free sulfur dioxide": 34,
         "total sulfur dioxide": 118,
         "density": 0.9954,
         "pH": 3.07,
         "sulphates": 0.5,
         "alcohol": 9.4,
         "is_red_wine": 0,
         "_deepnote_index_column": 6480
        },
        {
         "const": 1,
         "fixed acidity": 5.5,
         "volatile acidity": 0.32,
         "residual sugar": 1.3,
         "chlorides": 0.037,
         "free sulfur dioxide": 45,
         "total sulfur dioxide": 156,
         "density": 0.99184,
         "pH": 3.26,
         "sulphates": 0.38,
         "alcohol": 10.7,
         "is_red_wine": 0,
         "_deepnote_index_column": 6481
        },
        {
         "const": 1,
         "fixed acidity": 4.9,
         "volatile acidity": 0.47,
         "residual sugar": 1.9,
         "chlorides": 0.035,
         "free sulfur dioxide": 60,
         "total sulfur dioxide": 148,
         "density": 0.98964,
         "pH": 3.27,
         "sulphates": 0.35,
         "alcohol": 11.5,
         "is_red_wine": 0,
         "_deepnote_index_column": 6482
        },
        {
         "const": 1,
         "fixed acidity": 6.5,
         "volatile acidity": 0.33,
         "residual sugar": 8.3,
         "chlorides": 0.048,
         "free sulfur dioxide": 68,
         "total sulfur dioxide": 174,
         "density": 0.99492,
         "pH": 3.14,
         "sulphates": 0.5,
         "alcohol": 9.6,
         "is_red_wine": 0,
         "_deepnote_index_column": 6483
        },
        {
         "const": 1,
         "fixed acidity": 6.6,
         "volatile acidity": 0.34,
         "residual sugar": 8.1,
         "chlorides": 0.046,
         "free sulfur dioxide": 68,
         "total sulfur dioxide": 170,
         "density": 0.99494,
         "pH": 3.15,
         "sulphates": 0.5,
         "alcohol": 9.55,
         "is_red_wine": 0,
         "_deepnote_index_column": 6484
        },
        {
         "const": 1,
         "fixed acidity": 6.2,
         "volatile acidity": 0.21,
         "residual sugar": 5.7,
         "chlorides": 0.0279999999999999,
         "free sulfur dioxide": 45,
         "total sulfur dioxide": 121,
         "density": 0.99168,
         "pH": 3.21,
         "sulphates": 1.08,
         "alcohol": 12.15,
         "is_red_wine": 0,
         "_deepnote_index_column": 6485
        },
        {
         "const": 1,
         "fixed acidity": 6.2,
         "volatile acidity": 0.41,
         "residual sugar": 1.9,
         "chlorides": 0.023,
         "free sulfur dioxide": 5,
         "total sulfur dioxide": 56,
         "density": 0.98928,
         "pH": 3.04,
         "sulphates": 0.79,
         "alcohol": 13,
         "is_red_wine": 0,
         "_deepnote_index_column": 6486
        },
        {
         "const": 1,
         "fixed acidity": 6.8,
         "volatile acidity": 0.22,
         "residual sugar": 1.2,
         "chlorides": 0.052,
         "free sulfur dioxide": 38,
         "total sulfur dioxide": 127,
         "density": 0.9933,
         "pH": 3.04,
         "sulphates": 0.54,
         "alcohol": 9.2,
         "is_red_wine": 0,
         "_deepnote_index_column": 6487
        },
        {
         "const": 1,
         "fixed acidity": 4.9,
         "volatile acidity": 0.235,
         "residual sugar": 11.75,
         "chlorides": 0.03,
         "free sulfur dioxide": 34,
         "total sulfur dioxide": 118,
         "density": 0.9954,
         "pH": 3.07,
         "sulphates": 0.5,
         "alcohol": 9.4,
         "is_red_wine": 0,
         "_deepnote_index_column": 6488
        },
        {
         "const": 1,
         "fixed acidity": 6.1,
         "volatile acidity": 0.34,
         "residual sugar": 2.2,
         "chlorides": 0.036,
         "free sulfur dioxide": 25,
         "total sulfur dioxide": 100,
         "density": 0.98938,
         "pH": 3.06,
         "sulphates": 0.44,
         "alcohol": 11.8,
         "is_red_wine": 0,
         "_deepnote_index_column": 6489
        },
        {
         "const": 1,
         "fixed acidity": 5.7,
         "volatile acidity": 0.21,
         "residual sugar": 0.9,
         "chlorides": 0.038,
         "free sulfur dioxide": 38,
         "total sulfur dioxide": 121,
         "density": 0.99074,
         "pH": 3.24,
         "sulphates": 0.46,
         "alcohol": 10.6,
         "is_red_wine": 0,
         "_deepnote_index_column": 6490
        },
        {
         "const": 1,
         "fixed acidity": 6.5,
         "volatile acidity": 0.23,
         "residual sugar": 1.3,
         "chlorides": 0.032,
         "free sulfur dioxide": 29,
         "total sulfur dioxide": 112,
         "density": 0.99298,
         "pH": 3.29,
         "sulphates": 0.54,
         "alcohol": 9.7,
         "is_red_wine": 0,
         "_deepnote_index_column": 6491
        },
        {
         "const": 1,
         "fixed acidity": 6.2,
         "volatile acidity": 0.21,
         "residual sugar": 1.6,
         "chlorides": 0.039,
         "free sulfur dioxide": 24,
         "total sulfur dioxide": 92,
         "density": 0.99114,
         "pH": 3.27,
         "sulphates": 0.5,
         "alcohol": 11.2,
         "is_red_wine": 0,
         "_deepnote_index_column": 6492
        },
        {
         "const": 1,
         "fixed acidity": 6.6,
         "volatile acidity": 0.32,
         "residual sugar": 8,
         "chlorides": 0.047,
         "free sulfur dioxide": 57,
         "total sulfur dioxide": 168,
         "density": 0.9949,
         "pH": 3.15,
         "sulphates": 0.46,
         "alcohol": 9.6,
         "is_red_wine": 0,
         "_deepnote_index_column": 6493
        },
        {
         "const": 1,
         "fixed acidity": 6.5,
         "volatile acidity": 0.24,
         "residual sugar": 1.2,
         "chlorides": 0.0409999999999999,
         "free sulfur dioxide": 30,
         "total sulfur dioxide": 111,
         "density": 0.99254,
         "pH": 2.99,
         "sulphates": 0.46,
         "alcohol": 9.4,
         "is_red_wine": 0,
         "_deepnote_index_column": 6494
        },
        {
         "const": 1,
         "fixed acidity": 5.5,
         "volatile acidity": 0.29,
         "residual sugar": 1.1,
         "chlorides": 0.022,
         "free sulfur dioxide": 20,
         "total sulfur dioxide": 110,
         "density": 0.98869,
         "pH": 3.34,
         "sulphates": 0.38,
         "alcohol": 12.8,
         "is_red_wine": 0,
         "_deepnote_index_column": 6495
        },
        {
         "const": 1,
         "fixed acidity": 6,
         "volatile acidity": 0.21,
         "residual sugar": 0.8,
         "chlorides": 0.02,
         "free sulfur dioxide": 22,
         "total sulfur dioxide": 98,
         "density": 0.98941,
         "pH": 3.26,
         "sulphates": 0.32,
         "alcohol": 11.8,
         "is_red_wine": 0,
         "_deepnote_index_column": 6496
        }
       ]
      },
      "text/plain": "      const  fixed acidity  volatile acidity  residual sugar  chlorides  \\\n0       1.0            7.4              0.70             1.9      0.076   \n1       1.0            7.8              0.88             2.6      0.098   \n2       1.0            7.8              0.76             2.3      0.092   \n3       1.0           11.2              0.28             1.9      0.075   \n4       1.0            7.4              0.70             1.9      0.076   \n...     ...            ...               ...             ...        ...   \n6492    1.0            6.2              0.21             1.6      0.039   \n6493    1.0            6.6              0.32             8.0      0.047   \n6494    1.0            6.5              0.24             1.2      0.041   \n6495    1.0            5.5              0.29             1.1      0.022   \n6496    1.0            6.0              0.21             0.8      0.020   \n\n      free sulfur dioxide  total sulfur dioxide  density    pH  sulphates  \\\n0                    11.0                  34.0  0.99780  3.51       0.56   \n1                    25.0                  67.0  0.99680  3.20       0.68   \n2                    15.0                  54.0  0.99700  3.26       0.65   \n3                    17.0                  60.0  0.99800  3.16       0.58   \n4                    11.0                  34.0  0.99780  3.51       0.56   \n...                   ...                   ...      ...   ...        ...   \n6492                 24.0                  92.0  0.99114  3.27       0.50   \n6493                 57.0                 168.0  0.99490  3.15       0.46   \n6494                 30.0                 111.0  0.99254  2.99       0.46   \n6495                 20.0                 110.0  0.98869  3.34       0.38   \n6496                 22.0                  98.0  0.98941  3.26       0.32   \n\n      alcohol  is_red_wine  \n0         9.4            1  \n1         9.8            1  \n2         9.8            1  \n3         9.8            1  \n4         9.4            1  \n...       ...          ...  \n6492     11.2            0  \n6493      9.6            0  \n6494      9.4            0  \n6495     12.8            0  \n6496     11.8            0  \n\n[6497 rows x 12 columns]",
      "text/html": "<div>\n<style scoped>\n    .dataframe tbody tr th:only-of-type {\n        vertical-align: middle;\n    }\n\n    .dataframe tbody tr th {\n        vertical-align: top;\n    }\n\n    .dataframe thead th {\n        text-align: right;\n    }\n</style>\n<table border=\"1\" class=\"dataframe\">\n  <thead>\n    <tr style=\"text-align: right;\">\n      <th></th>\n      <th>const</th>\n      <th>fixed acidity</th>\n      <th>volatile acidity</th>\n      <th>residual sugar</th>\n      <th>chlorides</th>\n      <th>free sulfur dioxide</th>\n      <th>total sulfur dioxide</th>\n      <th>density</th>\n      <th>pH</th>\n      <th>sulphates</th>\n      <th>alcohol</th>\n      <th>is_red_wine</th>\n    </tr>\n  </thead>\n  <tbody>\n    <tr>\n      <th>0</th>\n      <td>1.0</td>\n      <td>7.4</td>\n      <td>0.70</td>\n      <td>1.9</td>\n      <td>0.076</td>\n      <td>11.0</td>\n      <td>34.0</td>\n      <td>0.99780</td>\n      <td>3.51</td>\n      <td>0.56</td>\n      <td>9.4</td>\n      <td>1</td>\n    </tr>\n    <tr>\n      <th>1</th>\n      <td>1.0</td>\n      <td>7.8</td>\n      <td>0.88</td>\n      <td>2.6</td>\n      <td>0.098</td>\n      <td>25.0</td>\n      <td>67.0</td>\n      <td>0.99680</td>\n      <td>3.20</td>\n      <td>0.68</td>\n      <td>9.8</td>\n      <td>1</td>\n    </tr>\n    <tr>\n      <th>2</th>\n      <td>1.0</td>\n      <td>7.8</td>\n      <td>0.76</td>\n      <td>2.3</td>\n      <td>0.092</td>\n      <td>15.0</td>\n      <td>54.0</td>\n      <td>0.99700</td>\n      <td>3.26</td>\n      <td>0.65</td>\n      <td>9.8</td>\n      <td>1</td>\n    </tr>\n    <tr>\n      <th>3</th>\n      <td>1.0</td>\n      <td>11.2</td>\n      <td>0.28</td>\n      <td>1.9</td>\n      <td>0.075</td>\n      <td>17.0</td>\n      <td>60.0</td>\n      <td>0.99800</td>\n      <td>3.16</td>\n      <td>0.58</td>\n      <td>9.8</td>\n      <td>1</td>\n    </tr>\n    <tr>\n      <th>4</th>\n      <td>1.0</td>\n      <td>7.4</td>\n      <td>0.70</td>\n      <td>1.9</td>\n      <td>0.076</td>\n      <td>11.0</td>\n      <td>34.0</td>\n      <td>0.99780</td>\n      <td>3.51</td>\n      <td>0.56</td>\n      <td>9.4</td>\n      <td>1</td>\n    </tr>\n    <tr>\n      <th>...</th>\n      <td>...</td>\n      <td>...</td>\n      <td>...</td>\n      <td>...</td>\n      <td>...</td>\n      <td>...</td>\n      <td>...</td>\n      <td>...</td>\n      <td>...</td>\n      <td>...</td>\n      <td>...</td>\n      <td>...</td>\n    </tr>\n    <tr>\n      <th>6492</th>\n      <td>1.0</td>\n      <td>6.2</td>\n      <td>0.21</td>\n      <td>1.6</td>\n      <td>0.039</td>\n      <td>24.0</td>\n      <td>92.0</td>\n      <td>0.99114</td>\n      <td>3.27</td>\n      <td>0.50</td>\n      <td>11.2</td>\n      <td>0</td>\n    </tr>\n    <tr>\n      <th>6493</th>\n      <td>1.0</td>\n      <td>6.6</td>\n      <td>0.32</td>\n      <td>8.0</td>\n      <td>0.047</td>\n      <td>57.0</td>\n      <td>168.0</td>\n      <td>0.99490</td>\n      <td>3.15</td>\n      <td>0.46</td>\n      <td>9.6</td>\n      <td>0</td>\n    </tr>\n    <tr>\n      <th>6494</th>\n      <td>1.0</td>\n      <td>6.5</td>\n      <td>0.24</td>\n      <td>1.2</td>\n      <td>0.041</td>\n      <td>30.0</td>\n      <td>111.0</td>\n      <td>0.99254</td>\n      <td>2.99</td>\n      <td>0.46</td>\n      <td>9.4</td>\n      <td>0</td>\n    </tr>\n    <tr>\n      <th>6495</th>\n      <td>1.0</td>\n      <td>5.5</td>\n      <td>0.29</td>\n      <td>1.1</td>\n      <td>0.022</td>\n      <td>20.0</td>\n      <td>110.0</td>\n      <td>0.98869</td>\n      <td>3.34</td>\n      <td>0.38</td>\n      <td>12.8</td>\n      <td>0</td>\n    </tr>\n    <tr>\n      <th>6496</th>\n      <td>1.0</td>\n      <td>6.0</td>\n      <td>0.21</td>\n      <td>0.8</td>\n      <td>0.020</td>\n      <td>22.0</td>\n      <td>98.0</td>\n      <td>0.98941</td>\n      <td>3.26</td>\n      <td>0.32</td>\n      <td>11.8</td>\n      <td>0</td>\n    </tr>\n  </tbody>\n</table>\n<p>6497 rows × 12 columns</p>\n</div>"
     },
     "metadata": {}
    }
   ],
   "execution_count": 79
  },
  {
   "cell_type": "code",
   "source": [
    "# Redo the process\n",
    "\n",
    "# Istantiate and fit the logistic regression model \n",
    "logreg = sm.Logit(y, X_const).fit()\n",
    "logreg.summary()"
   ],
   "metadata": {
    "tags": [],
    "cell_id": "00033-3501e3f5-8fab-4ff8-b389-cf9f07faca87",
    "deepnote_to_be_reexecuted": false,
    "source_hash": "1ac552e0",
    "execution_millis": 147,
    "execution_start": 1611858974210,
    "deepnote_cell_type": "code"
   },
   "outputs": [
    {
     "name": "stdout",
     "text": "Optimization terminated successfully.\n         Current function value: 0.390895\n         Iterations 9\n",
     "output_type": "stream"
    },
    {
     "output_type": "execute_result",
     "execution_count": 84,
     "data": {
      "text/plain": "<class 'statsmodels.iolib.summary.Summary'>\n\"\"\"\n                           Logit Regression Results                           \n==============================================================================\nDep. Variable:                quality   No. Observations:                 6497\nModel:                          Logit   Df Residuals:                     6485\nMethod:                           MLE   Df Model:                           11\nDate:                Thu, 28 Jan 2021   Pseudo R-squ.:                  0.2112\nTime:                        18:36:14   Log-Likelihood:                -2539.6\nconverged:                       True   LL-Null:                       -3219.8\nCovariance Type:            nonrobust   LLR p-value:                4.319e-285\n========================================================================================\n                           coef    std err          z      P>|z|      [0.025      0.975]\n----------------------------------------------------------------------------------------\nconst                  405.0432     65.554      6.179      0.000     276.561     533.526\nfixed acidity            0.4839      0.066      7.381      0.000       0.355       0.612\nvolatile acidity        -3.5720      0.367     -9.745      0.000      -4.290      -2.854\nresidual sugar           0.2202      0.026      8.388      0.000       0.169       0.272\nchlorides               -7.7348      2.487     -3.111      0.002     -12.608      -2.861\nfree sulfur dioxide      0.0109      0.003      3.688      0.000       0.005       0.017\ntotal sulfur dioxide    -0.0038      0.001     -2.855      0.004      -0.006      -0.001\ndensity               -426.7146     66.582     -6.409      0.000    -557.213    -296.216\npH                       2.6066      0.361      7.222      0.000       1.899       3.314\nsulphates                2.4497      0.285      8.592      0.000       1.891       3.008\nalcohol                  0.4458      0.080      5.575      0.000       0.289       0.603\nis_red_wine              0.7856      0.244      3.219      0.001       0.307       1.264\n========================================================================================\n\"\"\"",
      "text/html": "<table class=\"simpletable\">\n<caption>Logit Regression Results</caption>\n<tr>\n  <th>Dep. Variable:</th>        <td>quality</td>     <th>  No. Observations:  </th>   <td>  6497</td>  \n</tr>\n<tr>\n  <th>Model:</th>                 <td>Logit</td>      <th>  Df Residuals:      </th>   <td>  6485</td>  \n</tr>\n<tr>\n  <th>Method:</th>                 <td>MLE</td>       <th>  Df Model:          </th>   <td>    11</td>  \n</tr>\n<tr>\n  <th>Date:</th>            <td>Thu, 28 Jan 2021</td> <th>  Pseudo R-squ.:     </th>   <td>0.2112</td>  \n</tr>\n<tr>\n  <th>Time:</th>                <td>18:36:14</td>     <th>  Log-Likelihood:    </th>  <td> -2539.6</td> \n</tr>\n<tr>\n  <th>converged:</th>             <td>True</td>       <th>  LL-Null:           </th>  <td> -3219.8</td> \n</tr>\n<tr>\n  <th>Covariance Type:</th>     <td>nonrobust</td>    <th>  LLR p-value:       </th> <td>4.319e-285</td>\n</tr>\n</table>\n<table class=\"simpletable\">\n<tr>\n            <td></td>              <th>coef</th>     <th>std err</th>      <th>z</th>      <th>P>|z|</th>  <th>[0.025</th>    <th>0.975]</th>  \n</tr>\n<tr>\n  <th>const</th>                <td>  405.0432</td> <td>   65.554</td> <td>    6.179</td> <td> 0.000</td> <td>  276.561</td> <td>  533.526</td>\n</tr>\n<tr>\n  <th>fixed acidity</th>        <td>    0.4839</td> <td>    0.066</td> <td>    7.381</td> <td> 0.000</td> <td>    0.355</td> <td>    0.612</td>\n</tr>\n<tr>\n  <th>volatile acidity</th>     <td>   -3.5720</td> <td>    0.367</td> <td>   -9.745</td> <td> 0.000</td> <td>   -4.290</td> <td>   -2.854</td>\n</tr>\n<tr>\n  <th>residual sugar</th>       <td>    0.2202</td> <td>    0.026</td> <td>    8.388</td> <td> 0.000</td> <td>    0.169</td> <td>    0.272</td>\n</tr>\n<tr>\n  <th>chlorides</th>            <td>   -7.7348</td> <td>    2.487</td> <td>   -3.111</td> <td> 0.002</td> <td>  -12.608</td> <td>   -2.861</td>\n</tr>\n<tr>\n  <th>free sulfur dioxide</th>  <td>    0.0109</td> <td>    0.003</td> <td>    3.688</td> <td> 0.000</td> <td>    0.005</td> <td>    0.017</td>\n</tr>\n<tr>\n  <th>total sulfur dioxide</th> <td>   -0.0038</td> <td>    0.001</td> <td>   -2.855</td> <td> 0.004</td> <td>   -0.006</td> <td>   -0.001</td>\n</tr>\n<tr>\n  <th>density</th>              <td> -426.7146</td> <td>   66.582</td> <td>   -6.409</td> <td> 0.000</td> <td> -557.213</td> <td> -296.216</td>\n</tr>\n<tr>\n  <th>pH</th>                   <td>    2.6066</td> <td>    0.361</td> <td>    7.222</td> <td> 0.000</td> <td>    1.899</td> <td>    3.314</td>\n</tr>\n<tr>\n  <th>sulphates</th>            <td>    2.4497</td> <td>    0.285</td> <td>    8.592</td> <td> 0.000</td> <td>    1.891</td> <td>    3.008</td>\n</tr>\n<tr>\n  <th>alcohol</th>              <td>    0.4458</td> <td>    0.080</td> <td>    5.575</td> <td> 0.000</td> <td>    0.289</td> <td>    0.603</td>\n</tr>\n<tr>\n  <th>is_red_wine</th>          <td>    0.7856</td> <td>    0.244</td> <td>    3.219</td> <td> 0.001</td> <td>    0.307</td> <td>    1.264</td>\n</tr>\n</table>"
     },
     "metadata": {}
    }
   ],
   "execution_count": 84
  },
  {
   "cell_type": "code",
   "source": [
    "# Get model updated accuracy\n",
    "get_acc(logreg, X_const, y)"
   ],
   "metadata": {
    "tags": [],
    "cell_id": "00034-8c7e1f94-e034-4e1c-b721-93a5d0aeb8f6",
    "deepnote_to_be_reexecuted": false,
    "source_hash": "237d28ee",
    "execution_start": 1611858626690,
    "execution_millis": 0,
    "deepnote_cell_type": "code"
   },
   "outputs": [
    {
     "name": "stdout",
     "text": "Accuracy: 0.816992458057565\n",
     "output_type": "stream"
    }
   ],
   "execution_count": 81
  },
  {
   "cell_type": "code",
   "source": [
    "# Interpreting coefficents:\n",
    "# Let's interpret some of the coefficients and determine how the different factors impact the odds of the quality of wines."
   ],
   "metadata": {
    "tags": [],
    "cell_id": "00035-eee2a00d-dd42-474c-95c2-f73b421a5926",
    "deepnote_cell_type": "code"
   },
   "outputs": [],
   "execution_count": null
  },
  {
   "cell_type": "code",
   "source": [
    "# Let's put this in a dataframe\n",
    "result_df = pd.DataFrame(logreg.params, columns=[\"Coeff\"])\n",
    "result_df"
   ],
   "metadata": {
    "tags": [],
    "cell_id": "00036-85b60c47-f7ef-4313-97eb-29b93c15c560",
    "deepnote_to_be_reexecuted": false,
    "source_hash": "e92205a1",
    "execution_start": 1611858702374,
    "execution_millis": 1,
    "deepnote_cell_type": "code"
   },
   "outputs": [
    {
     "output_type": "execute_result",
     "execution_count": 82,
     "data": {
      "application/vnd.deepnote.dataframe.v2+json": {
       "row_count": 12,
       "column_count": 1,
       "columns": [
        {
         "name": "Coeff",
         "dtype": "float64",
         "stats": {
          "unique_count": 12,
          "nan_count": 0,
          "min": -426.71457725267527,
          "max": 405.04317162653405,
          "histogram": [
           {
            "bin_start": -426.71457725267527,
            "bin_end": -343.53880236475436,
            "count": 1
           },
           {
            "bin_start": -343.53880236475436,
            "bin_end": -260.3630274768334,
            "count": 0
           },
           {
            "bin_start": -260.3630274768334,
            "bin_end": -177.18725258891246,
            "count": 0
           },
           {
            "bin_start": -177.18725258891246,
            "bin_end": -94.01147770099152,
            "count": 0
           },
           {
            "bin_start": -94.01147770099152,
            "bin_end": -10.835702813070554,
            "count": 0
           },
           {
            "bin_start": -10.835702813070554,
            "bin_end": 72.34007207485035,
            "count": 10
           },
           {
            "bin_start": 72.34007207485035,
            "bin_end": 155.51584696277126,
            "count": 0
           },
           {
            "bin_start": 155.51584696277126,
            "bin_end": 238.69162185069223,
            "count": 0
           },
           {
            "bin_start": 238.69162185069223,
            "bin_end": 321.8673967386132,
            "count": 0
           },
           {
            "bin_start": 321.8673967386132,
            "bin_end": 405.04317162653405,
            "count": 1
           }
          ]
         }
        },
        {
         "name": "_deepnote_index_column",
         "dtype": "object"
        }
       ],
       "rows_top": [
        {
         "Coeff": 405.04317162653405,
         "_deepnote_index_column": "const"
        },
        {
         "Coeff": 0.48390720041086277,
         "_deepnote_index_column": "fixed acidity"
        },
        {
         "Coeff": -3.5720488602262765,
         "_deepnote_index_column": "volatile acidity"
        },
        {
         "Coeff": 0.2201856943220325,
         "_deepnote_index_column": "residual sugar"
        },
        {
         "Coeff": -7.7347608899778875,
         "_deepnote_index_column": "chlorides"
        },
        {
         "Coeff": 0.010885778758851154,
         "_deepnote_index_column": "free sulfur dioxide"
        },
        {
         "Coeff": -0.0037964358936794103,
         "_deepnote_index_column": "total sulfur dioxide"
        },
        {
         "Coeff": -426.71457725267527,
         "_deepnote_index_column": "density"
        },
        {
         "Coeff": 2.6065636368511798,
         "_deepnote_index_column": "pH"
        },
        {
         "Coeff": 2.4496707864888445,
         "_deepnote_index_column": "sulphates"
        },
        {
         "Coeff": 0.44582995190286756,
         "_deepnote_index_column": "alcohol"
        },
        {
         "Coeff": 0.78564902590259,
         "_deepnote_index_column": "is_red_wine"
        }
       ],
       "rows_bottom": null
      },
      "text/plain": "                           Coeff\nconst                 405.043172\nfixed acidity           0.483907\nvolatile acidity       -3.572049\nresidual sugar          0.220186\nchlorides              -7.734761\nfree sulfur dioxide     0.010886\ntotal sulfur dioxide   -0.003796\ndensity              -426.714577\npH                      2.606564\nsulphates               2.449671\nalcohol                 0.445830\nis_red_wine             0.785649",
      "text/html": "<div>\n<style scoped>\n    .dataframe tbody tr th:only-of-type {\n        vertical-align: middle;\n    }\n\n    .dataframe tbody tr th {\n        vertical-align: top;\n    }\n\n    .dataframe thead th {\n        text-align: right;\n    }\n</style>\n<table border=\"1\" class=\"dataframe\">\n  <thead>\n    <tr style=\"text-align: right;\">\n      <th></th>\n      <th>Coeff</th>\n    </tr>\n  </thead>\n  <tbody>\n    <tr>\n      <th>const</th>\n      <td>405.043172</td>\n    </tr>\n    <tr>\n      <th>fixed acidity</th>\n      <td>0.483907</td>\n    </tr>\n    <tr>\n      <th>volatile acidity</th>\n      <td>-3.572049</td>\n    </tr>\n    <tr>\n      <th>residual sugar</th>\n      <td>0.220186</td>\n    </tr>\n    <tr>\n      <th>chlorides</th>\n      <td>-7.734761</td>\n    </tr>\n    <tr>\n      <th>free sulfur dioxide</th>\n      <td>0.010886</td>\n    </tr>\n    <tr>\n      <th>total sulfur dioxide</th>\n      <td>-0.003796</td>\n    </tr>\n    <tr>\n      <th>density</th>\n      <td>-426.714577</td>\n    </tr>\n    <tr>\n      <th>pH</th>\n      <td>2.606564</td>\n    </tr>\n    <tr>\n      <th>sulphates</th>\n      <td>2.449671</td>\n    </tr>\n    <tr>\n      <th>alcohol</th>\n      <td>0.445830</td>\n    </tr>\n    <tr>\n      <th>is_red_wine</th>\n      <td>0.785649</td>\n    </tr>\n  </tbody>\n</table>\n</div>"
     },
     "metadata": {}
    }
   ],
   "execution_count": 82
  },
  {
   "cell_type": "code",
   "source": [
    "# Calculate and add the odds ratios to results_df\n",
    "result_df[\"odd_ratio\"] = np.exp(result_df[\"Coeff\"])\n",
    "result_df"
   ],
   "metadata": {
    "tags": [],
    "cell_id": "00037-db4f90ef-56ab-4a2c-880a-0b64b87f034d",
    "deepnote_to_be_reexecuted": false,
    "source_hash": "9961901a",
    "execution_start": 1611858718458,
    "execution_millis": 1,
    "deepnote_cell_type": "code"
   },
   "outputs": [
    {
     "output_type": "execute_result",
     "execution_count": 83,
     "data": {
      "application/vnd.deepnote.dataframe.v2+json": {
       "row_count": 12,
       "column_count": 2,
       "columns": [
        {
         "name": "Coeff",
         "dtype": "float64",
         "stats": {
          "unique_count": 12,
          "nan_count": 0,
          "min": -426.71457725267527,
          "max": 405.04317162653405,
          "histogram": [
           {
            "bin_start": -426.71457725267527,
            "bin_end": -343.53880236475436,
            "count": 1
           },
           {
            "bin_start": -343.53880236475436,
            "bin_end": -260.3630274768334,
            "count": 0
           },
           {
            "bin_start": -260.3630274768334,
            "bin_end": -177.18725258891246,
            "count": 0
           },
           {
            "bin_start": -177.18725258891246,
            "bin_end": -94.01147770099152,
            "count": 0
           },
           {
            "bin_start": -94.01147770099152,
            "bin_end": -10.835702813070554,
            "count": 0
           },
           {
            "bin_start": -10.835702813070554,
            "bin_end": 72.34007207485035,
            "count": 10
           },
           {
            "bin_start": 72.34007207485035,
            "bin_end": 155.51584696277126,
            "count": 0
           },
           {
            "bin_start": 155.51584696277126,
            "bin_end": 238.69162185069223,
            "count": 0
           },
           {
            "bin_start": 238.69162185069223,
            "bin_end": 321.8673967386132,
            "count": 0
           },
           {
            "bin_start": 321.8673967386132,
            "bin_end": 405.04317162653405,
            "count": 1
           }
          ]
         }
        },
        {
         "name": "odd_ratio",
         "dtype": "float64",
         "stats": {
          "unique_count": 12,
          "nan_count": 0,
          "min": 4.788657229328421E-186,
          "max": 8.091226710976257E175,
          "histogram": [
           {
            "bin_start": 4.788657229328421E-186,
            "bin_end": 8.091226710976256E174,
            "count": 11
           },
           {
            "bin_start": 8.091226710976256E174,
            "bin_end": 1.6182453421952513E175,
            "count": 0
           },
           {
            "bin_start": 1.6182453421952513E175,
            "bin_end": 2.4273680132928767E175,
            "count": 0
           },
           {
            "bin_start": 2.4273680132928767E175,
            "bin_end": 3.2364906843905025E175,
            "count": 0
           },
           {
            "bin_start": 3.2364906843905025E175,
            "bin_end": 4.045613355488128E175,
            "count": 0
           },
           {
            "bin_start": 4.045613355488128E175,
            "bin_end": 4.8547360265857534E175,
            "count": 0
           },
           {
            "bin_start": 4.8547360265857534E175,
            "bin_end": 5.663858697683379E175,
            "count": 0
           },
           {
            "bin_start": 5.663858697683379E175,
            "bin_end": 6.472981368781005E175,
            "count": 0
           },
           {
            "bin_start": 6.472981368781005E175,
            "bin_end": 7.282104039878631E175,
            "count": 0
           },
           {
            "bin_start": 7.282104039878631E175,
            "bin_end": 8.091226710976257E175,
            "count": 1
           }
          ]
         }
        },
        {
         "name": "_deepnote_index_column",
         "dtype": "object"
        }
       ],
       "rows_top": [
        {
         "Coeff": 405.04317162653405,
         "odd_ratio": 8.091226710976257E175,
         "_deepnote_index_column": "const"
        },
        {
         "Coeff": 0.48390720041086277,
         "odd_ratio": 1.6224010805124904,
         "_deepnote_index_column": "fixed acidity"
        },
        {
         "Coeff": -3.5720488602262765,
         "odd_ratio": 0.028098225327936696,
         "_deepnote_index_column": "volatile acidity"
        },
        {
         "Coeff": 0.2201856943220325,
         "odd_ratio": 1.246308141446244,
         "_deepnote_index_column": "residual sugar"
        },
        {
         "Coeff": -7.7347608899778875,
         "odd_ratio": 4.3735694435114206E-4,
         "_deepnote_index_column": "chlorides"
        },
        {
         "Coeff": 0.010885778758851154,
         "odd_ratio": 1.0109452444292717,
         "_deepnote_index_column": "free sulfur dioxide"
        },
        {
         "Coeff": -0.0037964358936794103,
         "odd_ratio": 0.9962107614580923,
         "_deepnote_index_column": "total sulfur dioxide"
        },
        {
         "Coeff": -426.71457725267527,
         "odd_ratio": 4.788657229328421E-186,
         "_deepnote_index_column": "density"
        },
        {
         "Coeff": 2.6065636368511798,
         "odd_ratio": 13.552399775551402,
         "_deepnote_index_column": "pH"
        },
        {
         "Coeff": 2.4496707864888445,
         "odd_ratio": 11.584532306823967,
         "_deepnote_index_column": "sulphates"
        },
        {
         "Coeff": 0.44582995190286756,
         "odd_ratio": 1.5617858652373746,
         "_deepnote_index_column": "alcohol"
        },
        {
         "Coeff": 0.78564902590259,
         "odd_ratio": 2.1938303314855383,
         "_deepnote_index_column": "is_red_wine"
        }
       ],
       "rows_bottom": null
      },
      "text/plain": "                           Coeff      odd_ratio\nconst                 405.043172  8.091227e+175\nfixed acidity           0.483907   1.622401e+00\nvolatile acidity       -3.572049   2.809823e-02\nresidual sugar          0.220186   1.246308e+00\nchlorides              -7.734761   4.373569e-04\nfree sulfur dioxide     0.010886   1.010945e+00\ntotal sulfur dioxide   -0.003796   9.962108e-01\ndensity              -426.714577  4.788657e-186\npH                      2.606564   1.355240e+01\nsulphates               2.449671   1.158453e+01\nalcohol                 0.445830   1.561786e+00\nis_red_wine             0.785649   2.193830e+00",
      "text/html": "<div>\n<style scoped>\n    .dataframe tbody tr th:only-of-type {\n        vertical-align: middle;\n    }\n\n    .dataframe tbody tr th {\n        vertical-align: top;\n    }\n\n    .dataframe thead th {\n        text-align: right;\n    }\n</style>\n<table border=\"1\" class=\"dataframe\">\n  <thead>\n    <tr style=\"text-align: right;\">\n      <th></th>\n      <th>Coeff</th>\n      <th>odd_ratio</th>\n    </tr>\n  </thead>\n  <tbody>\n    <tr>\n      <th>const</th>\n      <td>405.043172</td>\n      <td>8.091227e+175</td>\n    </tr>\n    <tr>\n      <th>fixed acidity</th>\n      <td>0.483907</td>\n      <td>1.622401e+00</td>\n    </tr>\n    <tr>\n      <th>volatile acidity</th>\n      <td>-3.572049</td>\n      <td>2.809823e-02</td>\n    </tr>\n    <tr>\n      <th>residual sugar</th>\n      <td>0.220186</td>\n      <td>1.246308e+00</td>\n    </tr>\n    <tr>\n      <th>chlorides</th>\n      <td>-7.734761</td>\n      <td>4.373569e-04</td>\n    </tr>\n    <tr>\n      <th>free sulfur dioxide</th>\n      <td>0.010886</td>\n      <td>1.010945e+00</td>\n    </tr>\n    <tr>\n      <th>total sulfur dioxide</th>\n      <td>-0.003796</td>\n      <td>9.962108e-01</td>\n    </tr>\n    <tr>\n      <th>density</th>\n      <td>-426.714577</td>\n      <td>4.788657e-186</td>\n    </tr>\n    <tr>\n      <th>pH</th>\n      <td>2.606564</td>\n      <td>1.355240e+01</td>\n    </tr>\n    <tr>\n      <th>sulphates</th>\n      <td>2.449671</td>\n      <td>1.158453e+01</td>\n    </tr>\n    <tr>\n      <th>alcohol</th>\n      <td>0.445830</td>\n      <td>1.561786e+00</td>\n    </tr>\n    <tr>\n      <th>is_red_wine</th>\n      <td>0.785649</td>\n      <td>2.193830e+00</td>\n    </tr>\n  </tbody>\n</table>\n</div>"
     },
     "metadata": {}
    }
   ],
   "execution_count": 83
  },
  {
   "cell_type": "code",
   "source": [
    "# testing\n",
    "df2 = pd.read_csv('wines_merged.csv')\n",
    "df2.shape"
   ],
   "metadata": {
    "tags": [],
    "cell_id": "00035-29894f61-d34e-46e2-b9b8-18c293f941ee",
    "deepnote_to_be_reexecuted": false,
    "source_hash": "cde61bc4",
    "execution_millis": 43,
    "execution_start": 1611861489561,
    "deepnote_cell_type": "code"
   },
   "outputs": [
    {
     "output_type": "execute_result",
     "execution_count": 122,
     "data": {
      "text/plain": "(6497, 13)"
     },
     "metadata": {}
    }
   ],
   "execution_count": 122
  },
  {
   "cell_type": "code",
   "source": [
    "# category wine color\n",
    "df2['color'].replace({'white':0, 'red':1}, inplace=True)\n",
    "df2.rename(columns={'color':'is_red_wine'}, inplace=True)"
   ],
   "metadata": {
    "tags": [],
    "cell_id": "00036-2633b8a5-4c0f-4e76-91ee-df0012ac2758",
    "deepnote_to_be_reexecuted": false,
    "source_hash": "173d956b",
    "execution_millis": 0,
    "execution_start": 1611861641269,
    "is_code_hidden": false,
    "deepnote_cell_type": "code"
   },
   "outputs": [],
   "execution_count": 124
  },
  {
   "cell_type": "code",
   "source": [
    "# First lets check out the distributions.\n",
    "# We are going to loop over the columns and print some subplots.\n",
    "\n",
    "# We will be making 2 rows x 4 columns of subplots\n",
    "plt.subplots(5,3, figsize=(20,20))\n",
    "\n",
    "# Creating the for loop\n",
    "for slot_num, column in enumerate(df2.columns, start=1):\n",
    "    \n",
    "    # Creating a hist for every iteration\n",
    "    plt.subplot(5,3, slot_num)\n",
    "    plt.hist(df2[column], bins=15)\n",
    "    # Set the titles and labels\n",
    "    plt.ylabel(\"Frequency\")\n",
    "    plt.xlabel(column)\n",
    "    plt.title(column)\n",
    "    # Adding median and mean lines\n",
    "    plt.axvline(df[column].mean(), c=\"red\", label=\"mean\")\n",
    "    plt.axvline(df[column].median(), c=\"gold\", label=\"median\")\n",
    "    \n",
    "plt.tight_layout()\n",
    "\n",
    "plt.show()"
   ],
   "metadata": {
    "tags": [],
    "cell_id": "00037-8ed9ca70-41d2-43bb-a916-4e50308ed7f5",
    "deepnote_to_be_reexecuted": false,
    "source_hash": "7b123149",
    "execution_millis": 3759,
    "execution_start": 1611861746562,
    "deepnote_cell_type": "code"
   },
   "outputs": [
    {
     "data": {
      "text/plain": "<Figure size 1440x1440 with 15 Axes>",
      "image/png": "[encoded data removed]"
     },
     "metadata": {
      "needs_background": "light"
     },
     "output_type": "display_data"
    }
   ],
   "execution_count": 126
  },
  {
   "cell_type": "code",
   "source": [
    "# convert quality\n",
    "df2['quality'] = np.where(df2['quality'] >=7, 1, 0)"
   ],
   "metadata": {
    "tags": [],
    "cell_id": "00038-173d6a71-3bcf-40b4-aba2-da6dc184e5b6",
    "deepnote_to_be_reexecuted": false,
    "source_hash": "77ce1aed",
    "execution_start": 1611861882605,
    "execution_millis": 51,
    "deepnote_cell_type": "code"
   },
   "outputs": [],
   "execution_count": 127
  },
  {
   "cell_type": "code",
   "source": [
    "df2['quality'].value_counts()"
   ],
   "metadata": {
    "tags": [],
    "cell_id": "00039-823f5424-c5a3-4039-9c8e-caa48da12fde",
    "deepnote_to_be_reexecuted": false,
    "source_hash": "aef6b927",
    "execution_millis": 0,
    "execution_start": 1611861931812,
    "deepnote_cell_type": "code"
   },
   "outputs": [
    {
     "output_type": "execute_result",
     "execution_count": 131,
     "data": {
      "text/plain": "0    5220\n1    1277\nName: quality, dtype: int64"
     },
     "metadata": {}
    }
   ],
   "execution_count": 131
  },
  {
   "cell_type": "code",
   "source": [
    "# Lets get the correlation matrix and save to variable 'corr_mat'\n",
    "corr_mat = df2.corr()\n",
    "# Heatmap\n",
    "plt.figure(figsize=(20,10))\n",
    "sns.heatmap(corr_mat, cmap=\"coolwarm\", vmin=-1, vmax=1, center=0, annot=True)"
   ],
   "metadata": {
    "tags": [],
    "cell_id": "00040-3f9848ef-dc98-4b2a-a665-20af1a606d4e",
    "deepnote_to_be_reexecuted": false,
    "source_hash": "c72056ae",
    "execution_millis": 1848,
    "execution_start": 1611862014910,
    "deepnote_cell_type": "code"
   },
   "outputs": [
    {
     "output_type": "execute_result",
     "execution_count": 133,
     "data": {
      "text/plain": "<AxesSubplot:>"
     },
     "metadata": {}
    },
    {
     "data": {
      "text/plain": "<Figure size 1440x720 with 2 Axes>",
      "image/png": "[encoded data removed]"
     },
     "metadata": {
      "needs_background": "light"
     },
     "output_type": "display_data"
    }
   ],
   "execution_count": 133
  },
  {
   "cell_type": "code",
   "source": [
    "# Are these correlations statistically significant?\n",
    "# Pearson's Correlation Coefficient Test + P_values\n",
    "# H0: rho = 0\n",
    "# H1: rho != 0\n",
    "xxx = df2.drop([\"quality\"],axis=1)\n",
    "yyy = df2[\"quality\"]"
   ],
   "metadata": {
    "tags": [],
    "cell_id": "00041-26541473-0cdb-466f-9667-947a7c39af68",
    "deepnote_to_be_reexecuted": false,
    "source_hash": "3a2ebb9f",
    "execution_millis": 1,
    "execution_start": 1611862248810,
    "deepnote_cell_type": "code"
   },
   "outputs": [],
   "execution_count": 136
  },
  {
   "cell_type": "code",
   "source": [
    "from scipy import stats\n",
    "import statsmodels.api as sm\n",
    "for i in xxx.columns:\n",
    "    r, p_val = stats.pearsonr(xxx[i], yyy)\n",
    "    print(f'Column: {i}, corr_coef: {r}, p_val: {p_val}')"
   ],
   "metadata": {
    "tags": [],
    "cell_id": "00042-e79a754f-98be-4807-8864-fd806404ce9e",
    "deepnote_to_be_reexecuted": false,
    "source_hash": "e6574d8b",
    "execution_millis": 0,
    "execution_start": 1611862348031,
    "deepnote_cell_type": "code"
   },
   "outputs": [
    {
     "name": "stdout",
     "text": "Column: fixed acidity, corr_coef: -0.04944732921839155, p_val: 6.682296241548082e-05\nColumn: volatile acidity, corr_coef: -0.1517138210475807, p_val: 9.327180422125681e-35\nColumn: citric acid, corr_coef: 0.0544444916826178, p_val: 1.129060811570326e-05\nColumn: residual sugar, corr_coef: -0.06399191653701568, p_val: 2.439322259336484e-07\nColumn: chlorides, corr_coef: -0.16178147898084935, p_val: 2.3909892435934926e-39\nColumn: free sulfur dioxide, corr_coef: 0.014767063757208909, p_val: 0.23399929912076436\nColumn: total sulfur dioxide, corr_coef: -0.05122561135565441, p_val: 3.613375403764817e-05\nColumn: density, corr_coef: -0.27544082974541356, p_val: 1.8902613850140516e-113\nColumn: pH, corr_coef: 0.028148701652277994, p_val: 0.023273793853144945\nColumn: sulphates, corr_coef: 0.0339708792724205, p_val: 0.0061729319568592485\nColumn: alcohol, corr_coef: 0.39048601262473737, p_val: 1.179668102500585e-235\nColumn: is_red_wine, corr_coef: -0.08747895850677656, p_val: 1.6254939126726903e-12\n",
     "output_type": "stream"
    }
   ],
   "execution_count": 139
  },
  {
   "cell_type": "code",
   "source": [
    "def log_transform2(col):\n",
    "    return np.log(col[0])\n",
    "\n",
    "df2['residual sugar'] = df2[['residual sugar']].apply(log_transform2, axis=1)\n",
    "df2['chlorides'] = df2[['chlorides']].apply(log_transform2, axis=1)\n",
    "df2['free sulfur dioxide'] = df2[['free sulfur dioxide']].apply(log_transform2, axis=1)\n",
    "df2['total sulfur dioxide'] = df2[['total sulfur dioxide']].apply(log_transform2, axis=1)\n",
    "df2['sulphates'] = df2[['sulphates']].apply(log_transform2, axis=1)"
   ],
   "metadata": {
    "tags": [],
    "cell_id": "00043-4ea5be31-441a-47e0-b0ac-ddfe65dff864",
    "deepnote_to_be_reexecuted": false,
    "source_hash": "56ecdad2",
    "execution_start": 1611862987062,
    "execution_millis": 209,
    "deepnote_cell_type": "code"
   },
   "outputs": [],
   "execution_count": 146
  },
  {
   "cell_type": "code",
   "source": [
    "# Are these correlations statistically significant?\n",
    "# Pearson's Correlation Coefficient Test + P_values\n",
    "# H0: rho = 0\n",
    "# H1: rho != 0\n",
    "xxx = df2.drop([\"quality\"],axis=1)\n",
    "yyy = df2[\"quality\"]"
   ],
   "metadata": {
    "tags": [],
    "cell_id": "00044-f2d66104-f0fd-45c5-8a44-2a170d88bb52",
    "deepnote_to_be_reexecuted": false,
    "source_hash": "3a2ebb9f",
    "execution_start": 1611863048432,
    "execution_millis": 0,
    "deepnote_cell_type": "code"
   },
   "outputs": [],
   "execution_count": 151
  },
  {
   "cell_type": "code",
   "source": [
    "from scipy import stats\n",
    "import statsmodels.api as sm\n",
    "for i in xxx.columns:\n",
    "    r, p_val = stats.pearsonr(xxx[i], yyy)\n",
    "    print(f'Column: {i}, corr_coef: {r}, p_val: {p_val}')"
   ],
   "metadata": {
    "tags": [],
    "cell_id": "00045-041ea57d-9af0-48ee-bf0d-1667a00862ce",
    "deepnote_to_be_reexecuted": false,
    "source_hash": "e6574d8b",
    "execution_start": 1611863048432,
    "execution_millis": 47,
    "deepnote_cell_type": "code",
    "pycharm": {
     "name": "#%%\n"
    }
   },
   "outputs": [
    {
     "name": "stdout",
     "text": "Column: fixed acidity, corr_coef: -0.04944732921839155, p_val: 6.682296241548082e-05\nColumn: volatile acidity, corr_coef: -0.1517138210475807, p_val: 9.327180422125681e-35\nColumn: citric acid, corr_coef: 0.0544444916826178, p_val: 1.129060811570326e-05\nColumn: residual sugar, corr_coef: -0.03982838273532937, p_val: 0.001322821912358705\nColumn: chlorides, corr_coef: -0.2272677189685016, p_val: 6.960607012850453e-77\nColumn: free sulfur dioxide, corr_coef: 0.045032416328753495, p_val: 0.0002823962587177839\nColumn: total sulfur dioxide, corr_coef: -0.015425265006135135, p_val: 0.21380434021655842\nColumn: density, corr_coef: -0.27544082974541356, p_val: 1.8902613850140516e-113\nColumn: pH, corr_coef: 0.028148701652277994, p_val: 0.023273793853144945\nColumn: sulphates, corr_coef: 0.02128833734055105, p_val: 0.08620071138330564\nColumn: alcohol, corr_coef: 0.39048601262473737, p_val: 1.179668102500585e-235\nColumn: is_red_wine, corr_coef: -0.08747895850677656, p_val: 1.6254939126726903e-12\n",
     "output_type": "stream"
    }
   ],
   "execution_count": 152
  }
 ],
 "nbformat": 4,
 "nbformat_minor": 2,
 "metadata": {
  "orig_nbformat": 2,
  "deepnote_notebook_id": "0473ba02-fa08-430d-8af6-9dd8be34ae5b",
  "deepnote_execution_queue": [],
  "kernelspec": {
   "name": "datascience",
   "language": "python",
   "display_name": "datascience"
  }
 }
}